{
 "cells": [
  {
   "cell_type": "code",
   "execution_count": 1,
   "metadata": {
    "id": "jkSXRpEXVfbG"
   },
   "outputs": [],
   "source": [
    "import numpy as np\n",
    "import pandas as pd\n",
    "import matplotlib.pyplot as plt\n",
    "%matplotlib inline\n",
    "import seaborn as sns\n",
    "import re\n",
    "\n",
    "from random import seed\n",
    "from random import randrange\n",
    "import operator\n",
    "import warnings\n",
    "warnings.filterwarnings(\"ignore\")"
   ]
  },
  {
   "cell_type": "code",
   "execution_count": 2,
   "metadata": {
    "colab": {
     "base_uri": "https://localhost:8080/"
    },
    "id": "3yfkYQVuVlQx",
    "outputId": "17790fd8-000e-4a82-f718-8dbf75bdbf82"
   },
   "outputs": [
    {
     "name": "stdout",
     "output_type": "stream",
     "text": [
      "(748, 2)\n",
      "(1000, 2)\n",
      "(1000, 2)\n"
     ]
    }
   ],
   "source": [
    "# loading the imdb dataset\n",
    "imdb_df = pd.read_csv('data/imdb_labelled.txt' , delimiter='\\t', names=['review', 'sentiment'])\n",
    "print(imdb_df.shape)\n",
    "\n",
    "# loading the amazon dataset\n",
    "amazon_df = pd.read_csv('data/amazon_cells_labelled.txt', delimiter='\\t', header=None, names=['review', 'sentiment'])\n",
    "print(amazon_df.shape)\n",
    "\n",
    "# loading the yelp dataset\n",
    "yelp_df = pd.read_csv('data/yelp_labelled.txt', delimiter='\\t', header=None, names=['review', 'sentiment'] )\n",
    "print(yelp_df.shape)"
   ]
  },
  {
   "cell_type": "code",
   "execution_count": 3,
   "metadata": {
    "colab": {
     "base_uri": "https://localhost:8080/",
     "height": 204
    },
    "id": "SF1GAWN9vvjq",
    "outputId": "b5b0629d-a152-407b-f49c-27123b8a486b"
   },
   "outputs": [
    {
     "data": {
      "text/html": [
       "<div>\n",
       "<style scoped>\n",
       "    .dataframe tbody tr th:only-of-type {\n",
       "        vertical-align: middle;\n",
       "    }\n",
       "\n",
       "    .dataframe tbody tr th {\n",
       "        vertical-align: top;\n",
       "    }\n",
       "\n",
       "    .dataframe thead th {\n",
       "        text-align: right;\n",
       "    }\n",
       "</style>\n",
       "<table border=\"1\" class=\"dataframe\">\n",
       "  <thead>\n",
       "    <tr style=\"text-align: right;\">\n",
       "      <th></th>\n",
       "      <th>review</th>\n",
       "      <th>sentiment</th>\n",
       "    </tr>\n",
       "  </thead>\n",
       "  <tbody>\n",
       "    <tr>\n",
       "      <th>0</th>\n",
       "      <td>A very, very, very slow-moving, aimless movie ...</td>\n",
       "      <td>0</td>\n",
       "    </tr>\n",
       "    <tr>\n",
       "      <th>1</th>\n",
       "      <td>Not sure who was more lost - the flat characte...</td>\n",
       "      <td>0</td>\n",
       "    </tr>\n",
       "    <tr>\n",
       "      <th>2</th>\n",
       "      <td>Attempting artiness with black &amp; white and cle...</td>\n",
       "      <td>0</td>\n",
       "    </tr>\n",
       "    <tr>\n",
       "      <th>3</th>\n",
       "      <td>Very little music or anything to speak of.</td>\n",
       "      <td>0</td>\n",
       "    </tr>\n",
       "    <tr>\n",
       "      <th>4</th>\n",
       "      <td>The best scene in the movie was when Gerardo i...</td>\n",
       "      <td>1</td>\n",
       "    </tr>\n",
       "  </tbody>\n",
       "</table>\n",
       "</div>"
      ],
      "text/plain": [
       "                                              review  sentiment\n",
       "0  A very, very, very slow-moving, aimless movie ...          0\n",
       "1  Not sure who was more lost - the flat characte...          0\n",
       "2  Attempting artiness with black & white and cle...          0\n",
       "3       Very little music or anything to speak of.            0\n",
       "4  The best scene in the movie was when Gerardo i...          1"
      ]
     },
     "execution_count": 3,
     "metadata": {},
     "output_type": "execute_result"
    }
   ],
   "source": [
    "dataset = imdb_df\n",
    "dataset.head()"
   ]
  },
  {
   "cell_type": "code",
   "execution_count": 4,
   "metadata": {
    "colab": {
     "base_uri": "https://localhost:8080/"
    },
    "id": "nV9AvUIRAdjB",
    "outputId": "3836af9f-c50b-4622-8dd6-8bf081ea655d"
   },
   "outputs": [
    {
     "name": "stdout",
     "output_type": "stream",
     "text": [
      "<class 'pandas.core.frame.DataFrame'>\n",
      "RangeIndex: 748 entries, 0 to 747\n",
      "Data columns (total 2 columns):\n",
      " #   Column     Non-Null Count  Dtype \n",
      "---  ------     --------------  ----- \n",
      " 0   review     748 non-null    object\n",
      " 1   sentiment  748 non-null    int64 \n",
      "dtypes: int64(1), object(1)\n",
      "memory usage: 11.8+ KB\n"
     ]
    }
   ],
   "source": [
    "dataset.info()"
   ]
  },
  {
   "cell_type": "code",
   "execution_count": 5,
   "metadata": {
    "colab": {
     "base_uri": "https://localhost:8080/"
    },
    "id": "GVsvJKcJAoii",
    "outputId": "505b52c7-2d62-4ef8-bdfa-47f6b856937d"
   },
   "outputs": [
    {
     "data": {
      "text/plain": [
       "review       0\n",
       "sentiment    0\n",
       "dtype: int64"
      ]
     },
     "execution_count": 5,
     "metadata": {},
     "output_type": "execute_result"
    }
   ],
   "source": [
    "dataset.isnull().sum()"
   ]
  },
  {
   "cell_type": "code",
   "execution_count": 6,
   "metadata": {
    "colab": {
     "base_uri": "https://localhost:8080/"
    },
    "id": "mcrBWWhOA_Yv",
    "outputId": "53030664-cdc6-45d5-9efb-924d325ae062"
   },
   "outputs": [
    {
     "data": {
      "text/plain": [
       "1    386\n",
       "0    362\n",
       "Name: sentiment, dtype: int64"
      ]
     },
     "execution_count": 6,
     "metadata": {},
     "output_type": "execute_result"
    }
   ],
   "source": [
    "dataset.sentiment.value_counts()"
   ]
  },
  {
   "cell_type": "code",
   "execution_count": 7,
   "metadata": {
    "colab": {
     "base_uri": "https://localhost:8080/",
     "height": 280
    },
    "id": "ddVjkzUW9zl_",
    "outputId": "009716ec-c8a7-4eaa-f3ea-a6b11b92b4a6"
   },
   "outputs": [
    {
     "data": {
      "image/png": "[encoded data removed]",
      "text/plain": [
       "<Figure size 432x288 with 1 Axes>"
      ]
     },
     "metadata": {
      "needs_background": "light"
     },
     "output_type": "display_data"
    }
   ],
   "source": [
    "sns.countplot(x='sentiment', data=dataset)\n",
    "plt.show()"
   ]
  },
  {
   "cell_type": "code",
   "execution_count": 8,
   "metadata": {
    "id": "SlULMZLkvLF1"
   },
   "outputs": [],
   "source": [
    "def remove_special_characters(text):\n",
    "\n",
    "    text = text.replace('-', ' ')\n",
    "    text = text.replace('\\t', '')\n",
    "    text = text.replace('\\n', '')\n",
    "    text = text.replace(' +', '')\n",
    "    \n",
    "    pattern = r'[^a-zA-z\\s]'\n",
    "    \n",
    "    text = re.sub(pattern, '', text)\n",
    "    text = text.rstrip()\n",
    "\n",
    "    return text\n",
    "\n",
    "dataset['review'] = dataset['review'].apply(remove_special_characters)\n",
    "# text = '.'.join(dataset.review)\n",
    "# text"
   ]
  },
  {
   "cell_type": "code",
   "execution_count": 9,
   "metadata": {
    "colab": {
     "base_uri": "https://localhost:8080/"
    },
    "id": "sq5WpGYE84cP",
    "outputId": "0b323558-8d00-48a4-b7ab-1bef611f00af"
   },
   "outputs": [
    {
     "name": "stdout",
     "output_type": "stream",
     "text": [
      "training data shape: (478, 2)\n",
      "validation/development data shape: (120, 2)\n",
      "testing data shape: (150, 2)\n"
     ]
    }
   ],
   "source": [
    "# divide the dataset into train, development & test\n",
    "# first the train & test data with 80 & 20 ratio\n",
    "ratio = 0.8\n",
    "\n",
    "train_len = int(ratio * len(dataset))\n",
    "total_train_data = dataset[0:train_len]\n",
    "test_dataset = dataset[train_len:]\n",
    "\n",
    "# now divide into val dataset from training dataset with 80 & 20 ratio\n",
    "new_train_len = int(ratio * len(total_train_data))\n",
    "\n",
    "train_dataset = total_train_data[0:new_train_len]\n",
    "val_dataset = total_train_data[new_train_len:]\n",
    "\n",
    "print(f'training data shape: {train_dataset.shape}')\n",
    "print(f'validation/development data shape: {val_dataset.shape}')\n",
    "print(f'testing data shape: {test_dataset.shape}')"
   ]
  },
  {
   "cell_type": "code",
   "execution_count": 10,
   "metadata": {
    "id": "96U2HLIHxuyl"
   },
   "outputs": [],
   "source": [
    "# dataset = dataset.sample(len(dataset))"
   ]
  },
  {
   "cell_type": "code",
   "execution_count": 11,
   "metadata": {
    "id": "sLIsfRc3-rZI"
   },
   "outputs": [],
   "source": [
    "X_train = train_dataset['review']\n",
    "y_train = train_dataset['sentiment']\n",
    "# X_train.shape\n",
    "\n",
    "X_val = val_dataset['review']\n",
    "y_val = val_dataset['sentiment']\n",
    "# X_val.shape\n",
    "\n",
    "X_test = test_dataset['review']\n",
    "y_test = test_dataset['sentiment']\n",
    "# X_test.shape"
   ]
  },
  {
   "cell_type": "markdown",
   "metadata": {
    "id": "E9HwswgMi1JJ"
   },
   "source": [
    "0 - Negative Review\n",
    "1 - Positive Review\n",
    "\n",
    "### **3. Calculate prior probabilities**"
   ]
  },
  {
   "cell_type": "code",
   "execution_count": 12,
   "metadata": {
    "colab": {
     "base_uri": "https://localhost:8080/"
    },
    "id": "yBM7ctXL9vLe",
    "outputId": "ad2bf058-f09c-4118-acd0-a2b8fb699688"
   },
   "outputs": [
    {
     "name": "stdout",
     "output_type": "stream",
     "text": [
      "Total 0 (negative) review in train dataset : 267\n",
      "Total 1 (positive) review in train dataset : 211\n"
     ]
    }
   ],
   "source": [
    "review_0_train = train_dataset.loc[train_dataset.sentiment == 0]\n",
    "print(f'Total 0 (negative) review in train dataset : {len(review_0_train)}')\n",
    "\n",
    "review_1_train = train_dataset.loc[train_dataset.sentiment == 1]\n",
    "print(f'Total 1 (positive) review in train dataset : {len(review_1_train)}')"
   ]
  },
  {
   "cell_type": "code",
   "execution_count": 13,
   "metadata": {
    "colab": {
     "base_uri": "https://localhost:8080/"
    },
    "id": "QBsb_Z0FVvY7",
    "outputId": "063d6ca6-f2c1-4821-e34c-65d7ba9bd92e"
   },
   "outputs": [
    {
     "name": "stdout",
     "output_type": "stream",
     "text": [
      "prior probability of class 0 (negative) : 0.5585774058577406\n",
      "prior probability of class 1 (positive) : 0.44142259414225943\n"
     ]
    }
   ],
   "source": [
    "# let's calculate the prior class (0 & 1) probabilities\n",
    "def calculate_prior_class_prob(y_train):\n",
    "  prior_class_prob = {}\n",
    "  for c in np.unique(y_train):\n",
    "    count = sum(y_train == c)\n",
    "    prior_class_prob[c] = count / y_train.size\n",
    "  return prior_class_prob\n",
    "\n",
    "prior_class_prob = calculate_prior_class_prob(y_train)\n",
    "print(f'prior probability of class 0 (negative) : {prior_class_prob[0]}')\n",
    "print(f'prior probability of class 1 (positive) : {prior_class_prob[1]}')"
   ]
  },
  {
   "cell_type": "code",
   "execution_count": 14,
   "metadata": {
    "id": "JtxoLdlVJeiK"
   },
   "outputs": [],
   "source": [
    "def tokenize(sentence):\n",
    "  vocab = []\n",
    "  word_freq = {}\n",
    "  for word in sentence.split(' '):\n",
    "    word = word.lower()\n",
    "    if word not in word_freq.keys():\n",
    "      word_freq[word] = 1\n",
    "      vocab.append(word)\n",
    "    else:\n",
    "      word_freq[word] += 1\n",
    "  \n",
    "  return vocab, word_freq"
   ]
  },
  {
   "cell_type": "code",
   "execution_count": 15,
   "metadata": {
    "id": "w-PpONgAtE9D"
   },
   "outputs": [],
   "source": [
    "stop_words_list = ['those', 'on', 'own', 'yourselves', 'ie', 'around', 'between', \n",
    "                   'four', 'been', 'alone', 'off', 'am', 'then', 'other', 'can', \n",
    "                   'cry', 'regarding', 'hereafter', 'front', 'too', 'used', \n",
    "                   'wherein', 'doing', 'everything', 'up', 'never', 'onto', 'how', \n",
    "                   'either', 'before', 'anyway', 'since', 'through', 'amount', \n",
    "                   'now', 'he', 'cant', 'was', 'con', 'have', 'into', 'because', \n",
    "                   'inc', 'not', 'therefore', 'they', 'even', 'whom', 'it', 'see', \n",
    "                   'somewhere', 'interest', 'thereupon', 'thick', 'nothing', \n",
    "                   'whereas', 'much', 'whenever', 'find', 'seem', 'until', \n",
    "                   'whereby', 'at', 'ltd', 'fire', 'also', 'some', 'last', 'than', \n",
    "                   'get', 'already', 'our', 'doesn', 'once', 'will', 'noone', \n",
    "                   'that', 'what', 'thus', 'no', 'myself', 'out', 'next', 'whatever', \n",
    "                   'although', 'though', 'etc', 'which', 'would', 'therein', 'nor', \n",
    "                   'somehow', 'whereupon', 'besides', 'whoever', 'thin', 'ourselves', \n",
    "                   'few', 'did', 'third', 'without', 'twelve', 'anything', 'against', \n",
    "                   'while', 'twenty', 'if', 'however', 'found', 'herself', 'when', \n",
    "                   'may', 'six', 'ours', 'done', 'seems', 'else', 'call', 'perhaps', \n",
    "                   'had', 'nevertheless', 'fill', 'where', 'otherwise', 'still', \n",
    "                   'within', 'its', 'for', 'together', 'elsewhere', 'throughout', \n",
    "                   'of', 'eg', 'others', 'show', 'sincere', 'anywhere', 'anyhow', \n",
    "                   'as', 'are', 'the', 'hence', 'something', 'hereby', 'nowhere', \n",
    "                   'latterly', 'de', 'say', 'does', 'neither', 'his', 'go', 'forty', \n",
    "                   'put', 'their', 'by', 'namely', 'km', 'could', 'five', 'unless', \n",
    "                   'itself', 'is', 'nine', 'whereafter', 'down', 'bottom', 'thereby', \n",
    "                   'such', 'both', 'she', 'become', 'whole', 'who', 'yourself', \n",
    "                   'every', 'thru', 'except', 'very', 'several', 'among', 'being', \n",
    "                   'be', 'mine', 'further', 'here', 'during', 'why', 'with', 'just', \n",
    "                   'becomes', 'about', 'a', 'co', 'using', 'seeming', 'due', \n",
    "                   'wherever', 'beforehand', 'detail', 'fifty', 'becoming', 'might', \n",
    "                   'amongst', 'my', 'empty', 'thence', 'thereafter', 'almost', \n",
    "                   'least', 'someone', 'often', 'from', 'keep', 'him', 'or', 'top', \n",
    "                   'her', 'didn', 'nobody', 'sometime', 'across', 'hundred', 'only', \n",
    "                   'via', 'name', 'eight', 'three', 'back', 'to', 'all', 'became', 'move', \n",
    "                   'me', 'we', 'formerly', 'so', 'i', 'whence', 'describe', 'under', \n",
    "                   'always', 'himself', 'more', 'herein', 'in', 'after', 'themselves', \n",
    "                   'you', 'them', 'above', 'sixty', 'hasnt', 'your', 'made', 'everywhere', \n",
    "                   'indeed', 'most', 'kg', 'fifteen', 'but', 'must', 'along', 'beside', \n",
    "                   'hers', 'computer', 'side', 'former', 'full', 'anyone', 'has', 'yours', \n",
    "                   'whose', 'behind', 'please', 'mill', 'amoungst', 'ten', 'seemed', \n",
    "                   'sometimes', 'should', 'over', 'take', 'each', 'don', 'same', \n",
    "                   'rather', 'really', 'latter', 'and', 'part', 'hereupon', 'per', \n",
    "                   'eleven', 'ever', 'enough', 'again', 'us', 'yet', 'moreover', \n",
    "                   'mostly', 'one', 'meanwhile', 'whither', 'there', 'toward', 'give', \n",
    "                   'system', 'do', 'quite', 'an', 'these', 'everyone', 'towards', 'this', \n",
    "                   'bill', 'cannot', 'un', 'afterwards', 'beyond', 'make', 'were', \n",
    "                   'whether', 'well', 'another', 'below', 'first', 'upon', 'any', \n",
    "                   'none', 'many', 'various', 'serious', 're', 'two', 'less', 'couldnt', 'so', 'didnt', '']\n",
    "\n",
    "\n",
    "def remove_stop_words(v, wf):\n",
    "  for w in v:\n",
    "    if w in stop_words_list:\n",
    "      del wf[w]\n",
    "      v.remove(w)\n",
    "  return v, wf"
   ]
  },
  {
   "cell_type": "code",
   "execution_count": 16,
   "metadata": {
    "colab": {
     "base_uri": "https://localhost:8080/"
    },
    "id": "f9xEnZKK89PC",
    "outputId": "3f8b7e94-510d-4645-fe0a-6e4193c48481"
   },
   "outputs": [
    {
     "name": "stdout",
     "output_type": "stream",
     "text": [
      "Total no of Review Vocab/Features : 2174\n",
      "Total no of Negative Review Vocab/Features : 1490\n",
      "Total no of Positive Review Vocab/Features : 1067\n"
     ]
    }
   ],
   "source": [
    "# build the vocabulary as list\n",
    "def tokenize_all(data):\n",
    "  vocab = []\n",
    "  word_freq = {}\n",
    "  for i in range(len(data)):\n",
    "    for sentence in data:\n",
    "      sentence = remove_special_characters(sentence)\n",
    "      for word in sentence.split(' '):\n",
    "        word = word.lower()\n",
    "        if word not in word_freq.keys():\n",
    "          word_freq[word] = 1\n",
    "          vocab.append(word)\n",
    "        else:\n",
    "          word_freq[word] += 1\n",
    "  \n",
    "  return vocab, word_freq\n",
    "\n",
    "vocab, word_freq = tokenize_all(X_train)\n",
    "vocab, word_freq = remove_stop_words(vocab, word_freq)\n",
    "print(f\"Total no of Review Vocab/Features : {len(vocab)}\")\n",
    "\n",
    "vocab_0, word_freq_0 = tokenize_all(review_0_train.review)\n",
    "vocab_0, word_freq_0 = remove_stop_words(vocab_0, word_freq_0)\n",
    "print(f\"Total no of Negative Review Vocab/Features : {len(vocab_0)}\")\n",
    "\n",
    "vocab_1, word_freq_1 = tokenize_all(review_1_train.review)\n",
    "vocab_1, word_freq_1 = remove_stop_words(vocab_1, word_freq_1)\n",
    "print(f\"Total no of Positive Review Vocab/Features : {len(vocab_1)}\")"
   ]
  },
  {
   "cell_type": "markdown",
   "metadata": {
    "id": "c13ziqx3EBc1"
   },
   "source": [
    "### **Calculate conditional probabilities based on sentiments**"
   ]
  },
  {
   "cell_type": "code",
   "execution_count": 17,
   "metadata": {
    "colab": {
     "base_uri": "https://localhost:8080/"
    },
    "id": "aEikiVhJk6EA",
    "outputId": "2623e57c-b9cd-4a9c-ab2b-140c716a3589"
   },
   "outputs": [
    {
     "name": "stdout",
     "output_type": "stream",
     "text": [
      "{'very': 5.913422818791946, 'slow': 0.5375838926174497, 'moving': 0.35838926174496644, 'aimless': 0.17919463087248322, 'movie': 13.977181208053691, 'distressed': 0.17919463087248322, 'drifting': 0.17919463087248322, 'young': 0.35838926174496644, 'man': 0.8959731543624161, 'sure': 0.5375838926174497, 'was': 17.74026845637584, 'lost': 0.17919463087248322, 'the': 65.76442953020134, 'flat': 0.35838926174496644, 'characters': 2.508724832214765, 'audience': 0.35838926174496644, 'nearly': 0.17919463087248322, 'half': 0.8959731543624161, 'whom': 0.35838926174496644, 'walked': 0.17919463087248322, 'attempting': 0.17919463087248322, 'artiness': 0.17919463087248322, 'black': 0.7167785234899329, 'white': 0.17919463087248322, 'clever': 0.35838926174496644, 'camera': 0.7167785234899329, 'angles': 0.17919463087248322, 'disappointed': 0.7167785234899329, 'even': 5.01744966442953, 'ridiculous': 0.7167785234899329, 'acting': 3.5838926174496644, 'poor': 1.0751677852348993, 'plot': 3.046308724832215, 'lines': 0.8959731543624161, 'non': 0.7167785234899329, 'existent': 0.17919463087248322, 'little': 1.9711409395973154, 'music': 0.7167785234899329, 'to': 19.890604026845637, 'speak': 0.35838926174496644, 'rest': 0.5375838926174497, 'lacks': 0.8959731543624161, 'art': 0.7167785234899329, 'charm': 0.35838926174496644, 'meaning': 0.35838926174496644, 'its': 4.838255033557047, 'emptiness': 0.17919463087248322, 'works': 0.35838926174496644, 'guess': 0.7167785234899329, 'empty': 0.17919463087248322, 'wasted': 1.2543624161073825, 'hours': 0.7167785234899329, 'bit': 0.7167785234899329, 'predictable': 0.8959731543624161, 'some': 2.6879194630872485, 'average': 0.5375838926174497, 'main': 0.17919463087248322, 'person': 0.17919463087248322, 'low': 0.7167785234899329, 'budget': 0.5375838926174497, 'clearly': 0.35838926174496644, 'see': 2.1503355704697986, 'structure': 0.17919463087248322, 'film': 10.751677852348994, 'easily': 0.35838926174496644, 'tightly': 0.17919463087248322, 'constructed': 0.17919463087248322, 'history': 0.35838926174496644, 'cinema': 0.5375838926174497, 'think': 1.2543624161073825, 'other': 1.7919463087248322, 'something': 0.35838926174496644, 'vitally': 0.17919463087248322, 'important': 0.35838926174496644, 'occurs': 0.17919463087248322, 'minute': 0.5375838926174497, 'words': 0.35838926174496644, 'content': 0.17919463087248322, 'level': 0.35838926174496644, 'fill': 0.17919463087248322, 'dozen': 0.17919463087248322, 'films': 2.329530201342282, 'anyone': 0.7167785234899329, 'right': 0.35838926174496644, 'mind': 0.35838926174496644, 'ask': 0.17919463087248322, 'than': 2.329530201342282, 'simply': 1.2543624161073825, 'highest': 0.17919463087248322, 'superlative': 0.17919463087248322, 'form': 0.17919463087248322, 'imaginable': 0.35838926174496644, 'yes': 0.5375838926174497, 'require': 0.17919463087248322, 'significant': 0.5375838926174497, 'puzzle': 0.17919463087248322, 'solving': 0.17919463087248322, 'pieces': 0.35838926174496644, 'fit': 0.35838926174496644, 'create': 0.17919463087248322, 'beautiful': 0.5375838926174497, 'picture': 0.5375838926174497, 'short': 0.5375838926174497, 'certainly': 1.0751677852348993, 'pulls': 0.17919463087248322, 'punches': 0.17919463087248322, 'graphics': 0.5375838926174497, 'far': 0.5375838926174497, 'best': 1.4335570469798657, 'game': 1.2543624161073825, 'number': 0.17919463087248322, 'th': 0.35838926174496644, 'series': 0.5375838926174497, 'deserves': 0.17919463087248322, 'strong': 0.17919463087248322, 'love': 1.2543624161073825, 'insane': 0.17919463087248322, 'are': 5.55503355704698, 'massive': 0.5375838926174497, 'levels': 0.35838926174496644, 'unlockable': 0.17919463087248322, 'waste': 1.4335570469798657, 'money': 0.5375838926174497, 'kind': 1.0751677852348993, 'properly': 0.17919463087248322, 'actually': 0.17919463087248322, 'good': 3.225503355704698, 'time': 2.8671140939597315, 'today': 0.17919463087248322, 'crap': 0.8959731543624161, 'say': 1.2543624161073825, 'canada': 0.17919463087248322, 'fun': 0.17919463087248322, 'aye': 0.17919463087248322, 'rocks': 0.17919463087248322, 'buy': 0.17919463087248322, 'play': 0.35838926174496644, 'enjoy': 0.35838926174496644, 'pure': 0.5375838926174497, 'brilliance': 0.17919463087248322, 'flick': 0.7167785234899329, 'doomed': 0.17919463087248322, 'conception': 0.17919463087248322, 'idea': 0.7167785234899329, 'lame': 0.5375838926174497, 'minor': 0.17919463087248322, 'character': 1.4335570469798657, 'mediocre': 0.35838926174496644, 'pg': 0.7167785234899329, 'complete': 0.17919463087248322, 'sequel': 0.35838926174496644, 'changing': 0.17919463087248322, 'tone': 0.17919463087248322, 'rated': 0.35838926174496644, 'family': 0.17919463087248322, 'wasnt': 0.7167785234899329, 'interested': 0.17919463087248322, 'did': 0.5375838926174497, 'confirm': 0.17919463087248322, 'be': 5.01744966442953, 'unfunny': 0.35838926174496644, 'generic': 0.17919463087248322, 'managed': 0.17919463087248322, 'away': 0.5375838926174497, 'entire': 0.35838926174496644, 'im': 1.2543624161073825, 'exaggerating': 0.17919463087248322, 'moment': 0.17919463087248322, 'point': 0.35838926174496644, 'joke': 0.35838926174496644, 'told': 0.35838926174496644, 'trailer': 0.17919463087248322, 'funny': 0.8959731543624161, 'talented': 0.35838926174496644, 'carrell': 0.17919463087248322, 'save': 0.17919463087248322, 'co': 0.17919463087248322, 'stars': 0.17919463087248322, 'dont': 1.612751677852349, 'fare': 0.17919463087248322, 'better': 1.0751677852348993, 'people': 0.7167785234899329, 'like': 3.5838926174496644, 'morgan': 0.17919463087248322, 'freeman': 0.17919463087248322, 'jonah': 0.17919463087248322, 'hill': 0.17919463087248322, 'ed': 0.17919463087248322, 'helms': 0.17919463087248322, 'story': 1.7919463087248322, 'lazy': 0.17919463087248322, 'real': 1.612751677852349, 'effects': 0.35838926174496644, 'work': 2.329530201342282, 'presence': 0.17919463087248322, 'animals': 0.17919463087248322, 'integration': 0.17919463087248322, 'into': 1.4335570469798657, 'scenes': 1.612751677852349, 'worst': 0.8959731543624161, 'obvious': 0.35838926174496644, 'bluegreen': 0.17919463087248322, 'screen': 1.2543624161073825, 'ive': 0.7167785234899329, 'seen': 1.2543624161073825, 'cost': 0.35838926174496644, 'so': 5.01744966442953, 'translate': 0.17919463087248322, 'quality': 0.17919463087248322, 'thats': 0.7167785234899329, 'succeeds': 0.17919463087248322, 'despite': 0.17919463087248322, 'obviously': 0.35838926174496644, 'meagre': 0.17919463087248322, 'glad': 0.5375838926174497, 'choice': 0.35838926174496644, 'lesser': 0.17919463087248322, 'addition': 0.35838926174496644, 'having': 0.5375838926174497, 'lovely': 0.17919463087248322, 'songs': 0.5375838926174497, 'written': 0.7167785234899329, 'french': 0.35838926174496644, 'cancan': 0.17919463087248322, 'boasts': 0.17919463087248322, 'cutest': 0.17919463087248322, 'leading': 0.17919463087248322, 'ladies': 0.17919463087248322, 'grace': 0.17919463087248322, 'hard': 0.7167785234899329, 'fall': 0.17919463087248322, 'head': 0.35838926174496644, 'heels': 0.17919463087248322, 'girl': 0.8959731543624161, 'negative': 0.5375838926174497, 'insipid': 0.17919463087248322, 'cause': 0.35838926174496644, 'regret': 0.17919463087248322, 'life': 0.7167785234899329, 'long': 0.35838926174496644, 'whiny': 0.17919463087248322, 'pointless': 0.17919463087248322, 'recommend': 0.7167785234899329, 'waiting': 0.17919463087248322, 'future': 0.17919463087248322, 'efforts': 0.17919463087248322, 'let': 0.5375838926174497, 'excellent': 0.8959731543624161, 'cast': 1.0751677852348993, 'line': 1.0751677852348993, 'performances': 0.7167785234899329, 'totally': 1.4335570469798657, 'believable': 0.35838926174496644, 'anne': 0.17919463087248322, 'heche': 0.17919463087248322, 'utterly': 0.5375838926174497, 'convincing': 0.35838926174496644, 'sam': 0.17919463087248322, 'shepards': 0.17919463087248322, 'portrayal': 0.17919463087248322, 'gung': 0.17919463087248322, 'ho': 0.17919463087248322, 'marine': 0.17919463087248322, 'sobering': 0.17919463087248322, 'sat': 0.17919463087248322, 'riveted': 0.17919463087248322, 'tv': 0.5375838926174497, 'resounding': 0.17919463087248322, 'tom': 0.17919463087248322, 'hanks': 0.17919463087248322, 'actor': 0.35838926174496644, 'enjoyed': 0.35838926174496644, 'reading': 0.17919463087248322, 'book': 0.17919463087248322, 'children': 0.35838926174496644, 'annoying': 1.0751677852348993, 'voice': 0.35838926174496644, 'gives': 0.35838926174496644, 'feeling': 1.0751677852348993, 'fingernails': 0.17919463087248322, 'chalkboard': 0.17919463087248322, 'unnecessary': 0.17919463087248322, 'trainroller': 0.17919463087248322, 'coaster': 0.17919463087248322, 'scene': 0.8959731543624161, 'absolutely': 0.7167785234899329, 'warmth': 0.17919463087248322, 'grates': 0.17919463087248322, 'nerves': 0.17919463087248322, 'improved': 0.17919463087248322, 'improvisation': 0.17919463087248322, 'actors': 1.2543624161073825, 'twice': 0.17919463087248322, 'worry': 0.17919463087248322, 'theyre': 0.7167785234899329, 'delivering': 0.17919463087248322, 'any': 1.4335570469798657, 'honestly': 0.35838926174496644, 'dialogue': 1.4335570469798657, 'doesnt': 0.8959731543624161, 'follow': 0.35838926174496644, 'surroundings': 0.17919463087248322, 'crackles': 0.17919463087248322, 'unpredictable': 0.17919463087248322, 'youthful': 0.17919463087248322, 'energy': 0.5375838926174497, 'concentrate': 0.17919463087248322, 'meanders': 0.17919463087248322, 'badly': 0.35838926174496644, 'generally': 0.5375838926174497, 'great': 2.1503355704697986, 'things': 1.612751677852349, 'wouldnt': 0.7167785234899329, 'worth': 0.17919463087248322, 'suspense': 0.5375838926174497, 'builders': 0.17919463087248322, 'cross': 0.17919463087248322, 'g': 0.17919463087248322, 'especially': 0.7167785234899329, 'liked': 0.17919463087248322, 'cliche': 0.17919463087248322, 'choices': 0.17919463087248322, 'parents': 0.35838926174496644, 'movies': 1.4335570469798657, 'predict': 0.17919463087248322, 'dialog': 0.35838926174496644, 'verbatim': 0.17919463087248322, 'writing': 1.4335570469798657, 'selections': 0.17919463087248322, 'want': 0.35838926174496644, 'gross': 0.17919463087248322, 'chills': 0.17919463087248322, 'alexander': 0.17919463087248322, 'nevsky': 0.17919463087248322, 'amazing': 0.5375838926174497, 'artist': 0.17919463087248322, 'lived': 0.17919463087248322, 'pretentious': 0.7167785234899329, 'piece': 0.7167785234899329, 's': 0.35838926174496644, 'planned': 0.17919463087248322, 'dodge': 0.17919463087248322, 'stratus': 0.17919463087248322, 'big': 0.5375838926174497, 'shots': 0.5375838926174497, 'gonna': 0.17919463087248322, 'help': 0.17919463087248322, 'makers': 0.17919463087248322, 'arent': 0.35838926174496644, 'restrained': 0.17919463087248322, 'business': 0.17919463087248322, 'qubec': 0.17919463087248322, 'problem': 0.35838926174496644, 'script': 2.508724832214765, 'horrendous': 0.17919463087248322, 'frustration': 0.17919463087248322, 'retarded': 0.17919463087248322, 'girls': 0.17919463087248322, 'frankly': 0.35838926174496644, 'cotton': 0.17919463087248322, 'club': 0.17919463087248322, 'unfaithful': 0.17919463087248322, 'embarrassing': 0.35838926174496644, 'watch': 1.2543624161073825, 'lane': 0.35838926174496644, 'gere': 0.17919463087248322, 'bad': 7.705369127516779, 'dialogs': 0.17919463087248322, 'extremely': 0.7167785234899329, 'shallow': 0.17919463087248322, 'insincere': 0.17919463087248322, 'chick': 0.35838926174496644, 'politically': 0.17919463087248322, 'correct': 0.17919463087248322, 'disappointing': 0.35838926174496644, 'her': 1.0751677852348993, 'lousy': 0.35838926174496644, 'hour': 0.5375838926174497, 'wish': 0.35838926174496644, 'bring': 0.35838926174496644, 'directing': 0.8959731543624161, 'cinematography': 0.5375838926174497, 'boring': 0.7167785234899329, 'myself': 0.5375838926174497, 'occupied': 0.35838926174496644, 'peaking': 0.17919463087248322, 'paper': 0.17919463087248322, 'instead': 0.17919463087248322, 'watching': 1.9711409395973154, 'happened': 0.35838926174496644, 'columbo': 0.17919463087248322, 'look': 0.8959731543624161, 'oh': 0.5375838926174497, 'mature': 0.17919463087248322, 'neighbour': 0.17919463087248322, 'misplace': 0.17919463087248322, 'weaker': 0.17919463087248322, 'episode': 0.35838926174496644, 'debated': 0.17919463087248322, 'sack': 0.17919463087248322, 'trumpeter': 0.17919463087248322, 'falsely': 0.17919463087248322, 'accused': 0.17919463087248322, 'murder': 0.17919463087248322, 'horror': 0.7167785234899329, 'stupid': 2.1503355704697986, 'thought': 0.8959731543624161, 'playing': 0.35838926174496644, 'villain': 0.17919463087248322, 'rent': 0.35838926174496644, 'michael': 0.17919463087248322, 'ironside': 0.17919463087248322, 'up': 1.7919463087248322, 'fact': 0.35838926174496644, 'overall': 0.35838926174496644, 'tremendously': 0.17919463087248322, 'chemistry': 0.35838926174496644, 'ben': 0.17919463087248322, 'affleck': 0.17919463087248322, 'sandra': 0.17919463087248322, 'bullock': 0.17919463087248322, 'understand': 0.7167785234899329, 'consider': 0.17919463087248322, 'leaving': 0.17919463087248322, 'wife': 0.17919463087248322, 'supposedly': 0.17919463087248322, 'knocked': 0.17919463087248322, 'moments': 0.17919463087248322, 'need': 0.17919463087248322, 'excruciatingly': 0.17919463087248322, 'remake': 0.5375838926174497, 'friends': 0.17919463087248322, 'wedding': 0.17919463087248322, 'disappointment': 0.35838926174496644, 'believe': 0.7167785234899329, 'agreed': 0.17919463087248322, 'stand': 0.17919463087248322, 'fear': 0.17919463087248322, 'losing': 0.35838926174496644, 'iq': 0.35838926174496644, 'network': 0.17919463087248322, 'aired': 0.17919463087248322, 'dribble': 0.17919463087248322, 'watched': 0.8959731543624161, 'putting': 0.35838926174496644, 'imdb': 0.17919463087248322, 'ratings': 0.17919463087248322, 'awful': 1.9711409395973154, 'numbers': 0.17919463087248322, 'cases': 0.17919463087248322, 'saw': 0.5375838926174497, 'mirrormask': 0.17919463087248322, 'night': 0.35838926174496644, 'unsatisfactory': 0.17919463087248322, 'experience': 0.7167785234899329, 'unfortunately': 0.5375838926174497, 'inexperience': 0.17919463087248322, 'direction': 0.5375838926174497, 'meant': 0.17919463087248322, 'passed': 0.17919463087248322, 'way': 1.612751677852349, 'dramatic': 0.17919463087248322, 'tension': 0.35838926174496644, 'conflict': 0.17919463087248322, 'central': 0.17919463087248322, 'themes': 0.17919463087248322, 'handled': 0.35838926174496644, 'ineptly': 0.17919463087248322, 'stereotypically': 0.17919463087248322, 'depth': 0.7167785234899329, 'imagination': 0.7167785234899329, 'pretty': 1.0751677852348993, 'pictures': 0.17919463087248322, 'world': 0.5375838926174497, 'flawed': 0.35838926174496644, 'core': 0.35838926174496644, 'following': 0.17919463087248322, 'bunch': 0.35838926174496644, 'high': 0.17919463087248322, 'schoolers': 0.17919463087248322, 'whine': 0.17919463087248322, 'relate': 0.17919463087248322, 'hell': 0.17919463087248322, 'barely': 0.5375838926174497, 'disaster': 0.35838926174496644, 'editing': 0.17919463087248322, 'confuses': 0.17919463087248322, 'incredibly': 0.35838926174496644, 'fish': 0.17919463087248322, 'underwater': 0.17919463087248322, 'repeated': 0.17919463087248322, 'thousand': 0.17919463087248322, 'times': 0.5375838926174497, 'truly': 0.5375838926174497, 'terrible': 1.7919463087248322, 'worse': 1.612751677852349, 'possible': 0.35838926174496644, 'redeemed': 0.17919463087248322, 'mstk': 0.17919463087248322, 'fodder': 0.17919463087248322, 'paid': 0.35838926174496644, 'whatsoever': 0.5375838926174497, 'horrible': 0.7167785234899329, 'lifeoh': 0.17919463087248322, 'gosh': 0.17919463087248322, 'walk': 0.17919463087248322, 'theatre': 0.17919463087248322, 'minutes': 1.0751677852348993, 'relief': 0.17919463087248322, 'hate': 0.35838926174496644, 'yeah': 0.35838926174496644, 'sucked': 1.2543624161073825, 'storyline': 0.7167785234899329, 'pillow': 0.17919463087248322, 'girlfriendboyfriend': 0.17919463087248322, 'through': 0.8959731543624161, 'gone': 0.17919463087248322, 'disliked': 0.35838926174496644, 'thing': 1.2543624161073825, 'tickets': 0.17919463087248322, 'dollars': 0.17919463087248322, 'mad': 0.17919463087248322, 'id': 0.5375838926174497, 'identifies': 0.17919463087248322, 'cardboard': 0.35838926174496644, 'cutouts': 0.17919463087248322, 'stereotypes': 0.5375838926174497, 'predictably': 0.35838926174496644, 'reverse': 0.17919463087248322, 'actorsan': 0.17919463087248322, 'ugly': 0.17919463087248322, 'cartoon': 0.17919463087248322, 'crafted': 0.35838926174496644, 'paul': 0.35838926174496644, 'haggis': 0.17919463087248322, 'handle': 0.17919463087248322, 'bold': 0.17919463087248322, 'strokes': 0.17919463087248322, 'storytellinga': 0.17919463087248322, 'painted': 0.17919463087248322, 'crayons': 0.17919463087248322, 'crash': 0.17919463087248322, 'depressing': 0.35838926174496644, 'provokes': 0.17919463087248322, 'emotion': 0.17919463087248322, 'teaches': 0.17919463087248322, 'know': 1.0751677852348993, 'racism': 0.17919463087248322, 'prejudice': 0.17919463087248322, 'brain': 0.17919463087248322, 'attempt': 0.35838926174496644, 'shut': 0.17919463087248322, 'primal': 0.17919463087248322, 'impulse': 0.17919463087248322, 'self': 0.35838926174496644, 'preservation': 0.17919463087248322, 'left': 0.17919463087248322, 'shattered': 0.17919463087248322, 'took': 0.35838926174496644, 'fully': 0.17919463087248322, 'recover': 0.17919463087248322, 'joins': 0.17919463087248322, 'revenge': 0.17919463087248322, 'boogeyman': 0.17919463087248322, 'zombiez': 0.17919463087248322, 'hellish': 0.17919463087248322, 'trinity': 0.17919463087248322, 'mean': 0.7167785234899329, 'distinction': 0.17919463087248322, 'redeeming': 0.35838926174496644, 'features': 0.17919463087248322, 'appalling': 0.35838926174496644, 'artless': 0.17919463087248322, 'endlessly': 0.17919463087248322, 'presents': 0.17919463087248322, 'ugliest': 0.17919463087248322, 'setting': 0.35838926174496644, 'beyond': 0.5375838926174497, 'is\\x85was': 0.17919463087248322, 'kids': 0.5375838926174497, 'lead': 0.5375838926174497, 'charisma': 0.35838926174496644, 'free': 0.5375838926174497, 'merit': 0.17919463087248322, 'akin': 0.17919463087248322, 'torture': 0.7167785234899329, 'ill': 0.17919463087248322, 'maybe': 0.35838926174496644, 'reasonable': 0.17919463087248322, 'explanation': 0.35838926174496644, 'atrocity': 0.17919463087248322, 'pleasant': 0.17919463087248322, 'voyage': 0.17919463087248322, 'discovery': 0.17919463087248322, 'highly': 0.35838926174496644, 'unrecommended': 0.17919463087248322, 'premise': 0.5375838926174497, 'sound': 0.35838926174496644, 'suffered': 0.17919463087248322, 'needed': 0.17919463087248322, 'close': 0.17919463087248322, 'ups': 0.17919463087248322, 'drag': 0.17919463087248322, 'heroes': 0.17919463087248322, 'freedom': 0.35838926174496644, 'definitely': 0.35838926174496644, 'remember': 0.35838926174496644, 'ray': 0.5375838926174497, 'charles': 0.5375838926174497, 'acted': 0.17919463087248322, 'played': 0.17919463087248322, 'legendary': 0.17919463087248322, 'provided': 0.17919463087248322, 'biographical': 0.17919463087248322, 'material': 0.35838926174496644, 'goes': 0.17919463087248322, 'musician': 0.17919463087248322, 'hitchcock': 0.5375838926174497, 'director': 0.8959731543624161, 'ironically': 0.17919463087248322, 'find': 0.35838926174496644, 'total': 0.17919463087248322, 'secondly': 0.17919463087248322, 'perfected': 0.17919463087248322, 'thriller': 0.5375838926174497, 'chase': 0.17919463087248322, 'pandering': 0.17919463087248322, 'sabotages': 0.17919463087248322, 'whole': 1.0751677852348993, 'certain': 0.17919463087248322, 'rumbles': 0.17919463087248322, 'machine': 0.35838926174496644, 'desperately': 0.17919463087248322, 'depending': 0.17919463087248322, 'new': 0.35838926174496644, 'usual': 0.17919463087248322, 'logic': 0.17919463087248322, 'flaws': 0.17919463087248322, 'mishima': 0.17919463087248322, 'uninteresting': 0.17919463087248322, 'chilly': 0.35838926174496644, 'unremarkable': 0.17919463087248322, 'author': 0.17919463087248322, 'livingworking': 0.17919463087248322, 'abstruse': 0.17919463087248322, 'culture': 0.17919463087248322, 'reenactments': 0.17919463087248322, 'hold': 0.17919463087248322, 'attention': 0.35838926174496644, 'emotionally': 0.17919463087248322, 'adrift': 0.17919463087248322, 'stagy': 0.17919463087248322, 'sits': 0.17919463087248322, 'soldiers': 0.17919463087248322, 'singing': 0.35838926174496644, 'masculinity': 0.17919463087248322, 'pledge': 0.17919463087248322, 'hairsplitting': 0.17919463087248322, 'purity': 0.17919463087248322, 'admiration': 0.17919463087248322, 'swords': 0.17919463087248322, 'bore': 0.35838926174496644, 'kill': 0.17919463087248322, 'momentum': 0.17919463087248322, 'quicker': 0.17919463087248322, 'schrader': 0.17919463087248322, 'resume': 0.17919463087248322, 'amateurish': 0.17919463087248322, 'loved': 0.35838926174496644, 'fascinated': 0.17919463087248322, 'dancing': 0.35838926174496644, 'recently': 0.35838926174496644, 'dvd': 0.35838926174496644, 'completely': 0.7167785234899329, 'struck': 0.35838926174496644, 'contained': 0.17919463087248322, 'holes': 0.17919463087248322, 'inconsistencies': 0.17919463087248322, 'lot': 0.7167785234899329, 'horrid': 0.17919463087248322, 'realistic': 0.17919463087248322, 'gotten': 0.17919463087248322, 'ballet': 0.17919463087248322, 'repertory': 0.17919463087248322, 'pathetic': 0.8959731543624161, 'developments': 0.17919463087248322, 'lacked': 0.35838926174496644, 'woa': 0.17919463087248322, 'talk': 0.5375838926174497, 'sappiest': 0.17919463087248322, 'unwatchable': 0.17919463087248322, 'tell': 0.17919463087248322, 'talent': 0.35838926174496644, 'gave': 0.35838926174496644, 'action': 0.35838926174496644, 'check': 0.17919463087248322, 'directors': 0.5375838926174497, 'filmography': 0.17919463087248322, 'site': 0.17919463087248322, 'chance': 0.17919463087248322, 'intentions': 0.17919463087248322, 'greatest': 0.17919463087248322, 'master': 0.17919463087248322, 'theme': 0.35838926174496644, 'undertone': 0.17919463087248322, 'fifties': 0.17919463087248322, 'existential': 0.17919463087248322, 'weariness': 0.17919463087248322, 'aerial': 0.17919463087248322, 'ought': 0.17919463087248322, 'thrilled': 0.35838926174496644, 'senses': 0.35838926174496644, 'deeply': 0.17919463087248322, 'care': 0.35838926174496644, 'regrettably': 0.17919463087248322, 'fails': 0.35838926174496644, 'visual': 0.35838926174496644, 'drama': 0.7167785234899329, 'expression': 0.17919463087248322, 'celebration': 0.17919463087248322, 'patriotism': 0.17919463087248322, 'underlines': 0.17919463087248322, 'narrative': 0.35838926174496644, 'actress': 0.17919463087248322, 'used': 1.0751677852348993, 'june': 0.17919463087248322, 'allison': 0.17919463087248322, 'plain': 0.35838926174496644, 'called': 0.17919463087248322, 'soundtrack': 0.17919463087248322, 'concert': 0.17919463087248322, 'sequences': 0.17919463087248322, 'nice': 0.17919463087248322, 'cheap': 0.8959731543624161, 'trash': 0.35838926174496644, 'considering': 0.35838926174496644, 'ridiculousness': 0.17919463087248322, 'came': 0.35838926174496644, 'angry': 0.17919463087248322, 'spoilers': 0.35838926174496644, 'said': 0.7167785234899329, 'surface': 0.17919463087248322, 'superbly': 0.17919463087248322, 'stunning': 0.35838926174496644, 'fx': 0.35838926174496644, 'state': 0.17919463087248322, 'conceptually': 0.17919463087248322, 'offers': 0.17919463087248322, 'everybody': 0.17919463087248322, 'fantasy': 0.17919463087248322, 'andor': 0.17919463087248322, 'fans': 0.17919463087248322, 'single': 0.17919463087248322, 'sour': 0.17919463087248322, 'note': 0.35838926174496644, 'wise': 0.17919463087248322, 'surprisingly': 0.35838926174496644, 'solid': 0.35838926174496644, 'casting': 0.35838926174496644, 'considered': 0.17919463087248322, 'job': 0.17919463087248322, 'thanks': 0.17919463087248322, 'released': 0.17919463087248322, 'mexican': 0.35838926174496644, 'understood': 0.17919463087248322, 'matter': 0.17919463087248322, 'identified': 0.17919463087248322, 'felt': 0.35838926174496644, 'ranks': 0.17919463087248322, 'noir': 0.35838926174496644, 'crime': 0.17919463087248322, 'incredible': 0.5375838926174497, 'belmondo': 0.17919463087248322, 'lino': 0.17919463087248322, 'ventura': 0.17919463087248322, 'given': 0.17919463087248322, 'complex': 0.17919463087248322, 'psychological': 0.17919463087248322, 'portrayals': 0.17919463087248322, 'detailing': 0.17919463087248322, 'loyalty': 0.17919463087248322, 'treachery': 0.17919463087248322, 'hope': 0.17919463087248322, 'tremendous': 0.17919463087248322, 'melville': 0.17919463087248322, 'journey': 0.17919463087248322, 'eyes': 0.35838926174496644, 'soul': 0.17919463087248322, 'child': 0.17919463087248322, 'water': 0.35838926174496644, 'manages': 0.17919463087248322, 'transcend': 0.17919463087248322, 'limitations': 0.17919463087248322, 'indie': 0.17919463087248322, 'continually': 0.17919463087248322, 'subverting': 0.17919463087248322, 'expectations': 0.17919463087248322, 'emerge': 0.17919463087248322, 'intense': 0.17919463087248322, 'gripping': 0.17919463087248322, 'crocdodile': 0.17919463087248322, 'website': 0.17919463087248322, 'believed': 0.17919463087248322, 'crocs': 0.17919463087248322, 'swamp': 0.17919463087248322, 'location': 0.5375838926174497, 'fabulous': 0.17919463087248322, 'thoroughly': 0.17919463087248322, 'christopher': 0.17919463087248322, 'eccleston': 0.17919463087248322, 'control': 0.35838926174496644, 'tardis': 0.17919463087248322, 'continuation': 0.17919463087248322, 'trying': 0.35838926174496644, 'turn': 0.35838926174496644, 'day': 0.17919463087248322, 'disturbing': 0.17919463087248322, 'memories': 0.17919463087248322, 'succeeded': 0.17919463087248322, 'places': 0.35838926174496644, 'forced': 0.17919463087248322, 'heres': 0.17919463087248322, 'pied': 0.17919463087248322, 'started': 0.7167785234899329, 'jerky': 0.35838926174496644, 'camerawork': 0.35838926174496644, 'theater': 0.17919463087248322, 'going': 1.0751677852348993, 'sick': 0.35838926174496644, 'summary': 0.17919463087248322, 'witticisms': 0.17919463087248322, 'werent': 0.35838926174496644, 'witty': 0.17919463087248322, 'billy': 0.17919463087248322, 'bob': 0.17919463087248322, 'rise': 0.17919463087248322, 'rating': 0.7167785234899329, 'finale': 0.17919463087248322, 'possibly': 0.17919463087248322, 'trilogy': 0.5375838926174497, 'kieslowski': 0.17919463087248322, 'ceases': 0.17919463087248322, 'amaze': 0.17919463087248322, 'favourite': 0.17919463087248322, 'use': 0.7167785234899329, 'colours': 0.17919463087248322, 'flag': 0.17919463087248322, 'shot': 0.35838926174496644, 'visually': 0.35838926174496644, 'appealing': 0.17919463087248322, 'subtle': 0.17919463087248322, 'connections': 0.17919463087248322, 'awesome': 0.17919463087248322, 'mention': 0.35838926174496644, 'huge': 0.35838926174496644, 'spoiler': 0.17919463087248322, 'ending': 0.7167785234899329, 'remaining': 0.17919463087248322, 'survivors': 0.17919463087248322, 'ferry': 0.17919463087248322, 'valentine': 0.17919463087248322, 'judge': 0.17919463087248322, 'old': 1.0751677852348993, 'solidifying': 0.17919463087248322, 'happiness': 0.17919463087248322, 'suffering': 0.17919463087248322, 'dealt': 0.17919463087248322, 'years': 0.7167785234899329, 'end': 0.35838926174496644, 'smile': 0.35838926174496644, 'face': 0.17919463087248322, 'wrap': 0.17919463087248322, 'loves': 0.17919463087248322, 'anythinga': 0.17919463087248322, 'literally': 0.17919463087248322, 'vomited': 0.17919463087248322, 'roths': 0.17919463087248322, 'pearls': 0.17919463087248322, 'performance': 0.17919463087248322, 'awarded': 0.17919463087248322, 'eloquently': 0.17919463087248322, 'francis': 0.17919463087248322, 'ford': 0.17919463087248322, 'coppola': 0.17919463087248322, 'earlier': 0.35838926174496644, 'unfolds': 0.17919463087248322, 'gradually': 0.17919463087248322, 'leaves': 0.17919463087248322, 'room': 0.17919463087248322, 'develop': 0.17919463087248322, 'wonderful': 0.17919463087248322, 'lies': 0.17919463087248322, 'contrast': 0.17919463087248322, 'directed': 0.35838926174496644, 'nicolas': 0.17919463087248322, 'roeg': 0.17919463087248322, 'wih': 0.17919463087248322, 'sublime': 0.17919463087248322, 'translating': 0.17919463087248322, 'living': 0.35838926174496644, 'year': 0.5375838926174497, 'working': 0.17919463087248322, 'offensive': 0.35838926174496644, 'intelligence': 0.5375838926174497, 'strives': 0.17919463087248322, 'greatness': 0.17919463087248322, 'poetry': 0.17919463087248322, 'delivers': 0.17919463087248322, 'muddled': 0.17919463087248322, 'disparate': 0.17919463087248322, 'reviewer': 0.17919463087248322, 'accurately': 0.17919463087248322, 'defined': 0.17919463087248322, 'intelligent': 0.17919463087248322, 'masterful': 0.17919463087248322, 'try': 0.35838926174496644, 'sense': 0.5375838926174497, 'pitiful': 0.17919463087248322, 'human': 0.17919463087248322, 'nature': 0.17919463087248322, 'tolerate': 0.17919463087248322, 'political': 0.17919463087248322, 'incorrectness': 0.17919463087248322, 'artistic': 0.17919463087248322, 'suspension': 0.17919463087248322, 'disbelief': 0.17919463087248322, 'slavic': 0.17919463087248322, 'female': 0.17919463087248322, 'perfect': 0.17919463087248322, 'youll': 0.17919463087248322, 'shed': 0.35838926174496644, 'tear': 0.17919463087248322, 'seeing': 0.35838926174496644, 'forget': 0.17919463087248322, 'cult': 0.5375838926174497, 'classic': 0.35838926174496644, 'underneath': 0.17919463087248322, 'malta': 0.17919463087248322, 'settings': 0.17919463087248322, 'dry': 0.17919463087248322, 'barren': 0.17919463087248322, 'hockey': 0.17919463087248322, 'defensemen': 0.17919463087248322, 'goalies': 0.17919463087248322, 'diving': 0.17919463087248322, 'feet': 0.17919463087248322, 'wide': 0.17919463087248322, 'net': 0.17919463087248322, 'havent': 0.17919463087248322, 'particular': 0.17919463087248322, 'relationship': 0.17919463087248322, 'bakery': 0.17919463087248322, 'assistant': 0.35838926174496644, 'waitress': 0.17919463087248322, 'superficial': 0.17919463087248322, 'stagey': 0.17919463087248322, 'stage': 0.17919463087248322, 'farce': 0.17919463087248322, 'pyromaniac': 0.17919463087248322, 'waylaid': 0.17919463087248322, 'bored': 0.17919463087248322, 'switched': 0.17919463087248322, 'pay': 0.17919463087248322, 'laugh': 0.17919463087248322, 'yawn': 0.17919463087248322, 'educational': 0.17919463087248322, 'barney': 0.17919463087248322, 'super': 0.17919463087248322, 'duper': 0.17919463087248322, 'babie': 0.17919463087248322, 'bop': 0.17919463087248322, 'cute': 0.17919463087248322, 'cool': 0.17919463087248322, 'storm': 0.17919463087248322, 'trooper': 0.17919463087248322, 'list': 0.17919463087248322, 'wonderfully': 0.17919463087248322, 'guy': 0.17919463087248322, 'hes': 0.17919463087248322, 'potted': 0.17919463087248322, 'plants': 0.17919463087248322, 'shameful': 0.17919463087248322, 'memorable': 0.17919463087248322, 'forgetting': 0.17919463087248322, 'ireland': 0.17919463087248322, 'scared': 0.35838926174496644, 'horrified': 0.17919463087248322, 'sympathetic': 0.17919463087248322, 'movements': 0.17919463087248322, 'attempts': 0.17919463087248322, 'supposed': 0.35838926174496644, 'twist': 0.17919463087248322, 'light': 0.17919463087248322, 'situation': 0.17919463087248322, 'probably': 0.5375838926174497, 'leave': 0.17919463087248322, 'shelf': 0.17919463087248322, 'unrealistic': 0.17919463087248322, 'utter': 0.17919463087248322, 'looked': 0.5375838926174497, 'lucy': 0.17919463087248322, 'bell': 0.17919463087248322, 'higher': 0.17919463087248322, 'sink': 0.17919463087248322, 'slackers': 0.17919463087248322, 'excuses': 0.17919463087248322, 'actions': 0.17919463087248322, 'god': 0.17919463087248322, 'cover': 0.5375838926174497, 'fashioned': 0.17919463087248322, 'tuneful': 0.17919463087248322, 'rita': 0.17919463087248322, 'hayworth': 0.17919463087248322, 'pedestal': 0.17919463087248322, 'example': 0.5375838926174497, 'hollywood': 0.17919463087248322, 'exploit': 0.17919463087248322, 'women': 0.35838926174496644, 'financial': 0.17919463087248322, 'gain': 0.17919463087248322, 'seriously': 0.17919463087248322, 'fan': 0.17919463087248322, 'ticker': 0.17919463087248322, 'buildings': 0.17919463087248322, 'couple': 0.17919463087248322, 'locations': 0.17919463087248322, 'hummh': 0.17919463087248322, 'blew': 0.17919463087248322, 'chosen': 0.17919463087248322, 'tortured': 0.17919463087248322, 'disgusting': 0.17919463087248322, 'blatant': 0.17919463087248322, 'american': 0.17919463087248322, 'propaganda': 0.17919463087248322, 'americans': 0.17919463087248322, 'hatred': 0.17919463087248322, 'clichs': 0.35838926174496644, 'admitted': 0.17919463087248322, 'involved': 0.5375838926174497, 'return': 0.35838926174496644, 'school': 0.17919463087248322, 'pile': 0.17919463087248322, 'garbage': 0.17919463087248322, 'round': 0.17919463087248322, 'enter': 0.17919463087248322, 'values': 0.35838926174496644, 'admins': 0.17919463087248322, 'sets': 0.35838926174496644, 'place': 0.5375838926174497, 'thunderbirds': 0.17919463087248322, 'motion': 0.17919463087248322, 'needlessly': 0.17919463087248322, 'repeats': 0.17919463087248322, 'backed': 0.17919463087248322, 'word': 0.5375838926174497, 'continuity': 0.17919463087248322, 'thrown': 0.35838926174496644, 'reason': 0.35838926174496644, 'vehicles': 0.17919463087248322, 'corn': 0.17919463087248322, 'flakes': 0.17919463087248322, 'box': 0.17919463087248322, 'directorial': 0.17919463087248322, 'style': 0.35838926174496644, 'bordered': 0.17919463087248322, 'stupidity': 0.17919463087248322, 'reviews': 0.17919463087248322, 'star': 0.17919463087248322, 'second': 0.35838926174496644, 'proud': 0.17919463087248322, 'filmmaker': 0.17919463087248322, 'hide': 0.17919463087248322, 'sand': 0.17919463087248322, 'spent': 0.35838926174496644, 'monumental': 0.17919463087248322, 'player': 0.35838926174496644, 'bought': 0.17919463087248322, 'turned': 0.17919463087248322, 'halfway': 0.17919463087248322, 'embarrassed': 0.17919463087248322, 'howell': 0.17919463087248322, 'professionals': 0.17919463087248322, 'drago': 0.17919463087248322, 'debbie': 0.17919463087248322, 'rochon': 0.17919463087248322, 'contributory': 0.17919463087248322, 'chimp': 0.17919463087248322, 'tolerable': 0.17919463087248322, 'simplifying': 0.17919463087248322, 'sake': 0.35838926174496644, 'brevity': 0.17919463087248322, 'problems': 0.35838926174496644, 'fulfilling': 0.17919463087248322, 'convoluted': 0.17919463087248322, 'convince': 0.17919463087248322, 'weird': 0.17919463087248322, 'questioning': 0.17919463087248322, 'glance': 0.17919463087248322, 'girlfriend': 0.17919463087248322, 'hated': 0.17919463087248322, 'bela': 0.17919463087248322, 'lugosi': 0.17919463087248322, 'extraneous': 0.17919463087248322, 'intoning': 0.17919463087248322, 'odd': 0.17919463087248322, 'decidely': 0.17919463087248322, 'wooden': 0.17919463087248322, 'period': 0.5375838926174497, 'universal': 0.17919463087248322, 'b': 0.17919463087248322, 'wow': 0.17919463087248322, 'frightening': 0.17919463087248322, 'comprehensible': 0.17919463087248322, 'hang': 0.17919463087248322, 'camp': 0.17919463087248322, 'value': 0.17919463087248322, 'expecting': 0.17919463087248322, 'oscar': 0.17919463087248322, 'youd': 0.17919463087248322, 'particularly': 0.35838926174496644, 'mollusk': 0.17919463087248322, 'coming': 0.17919463087248322, 'loosely': 0.17919463087248322, 'insult': 0.35838926174496644, 'public': 0.17919463087248322, 'knew': 0.17919463087248322, 'string': 0.17919463087248322, 'gets': 0.35838926174496644, 'theres': 0.5375838926174497, 'lower': 0.17919463087248322, 'fox': 0.17919463087248322, 'channel': 0.17919463087248322, 'contract': 0.17919463087248322, 'scripts': 0.17919463087248322, 'victor': 0.17919463087248322, 'mclaglen': 0.17919463087248322, 'brian': 0.17919463087248322, 'donlevy': 0.17919463087248322, 'unrecognizable': 0.17919463087248322, 'relations': 0.17919463087248322, 'taylor': 0.17919463087248322, 'stanwyck': 0.17919463087248322, 'surprising': 0.17919463087248322, 'president': 0.17919463087248322, 'death': 0.17919463087248322, 'row': 0.17919463087248322, 'entirely': 0.35838926174496644, 'unmoving': 0.17919463087248322, 'taylors': 0.17919463087248322, 'stanwycks': 0.17919463087248322, 'producer': 0.17919463087248322, 'missed': 0.17919463087248322, 'cheerless': 0.17919463087248322, 'heist': 0.17919463087248322, 'characterisation': 0.17919463087248322, 'lots': 0.17919463087248322, 'underbite': 0.17919463087248322, 'stoic': 0.17919463087248322, 'emoting': 0.17919463087248322, 'chow': 0.17919463087248322, 'yun': 0.17919463087248322, 'fat': 0.17919463087248322, 'tomorrow': 0.17919463087248322, 'cheesy': 0.17919463087248322, 'abandoned': 0.17919463087248322, 'factory': 0.17919463087248322, 'ready': 0.17919463087248322, 'poorly': 0.35838926174496644, 'executed': 0.17919463087248322, 'flying': 0.17919463087248322, 'judo': 0.17919463087248322, 'rolls': 0.17919463087248322, 'la': 0.17919463087248322, 'john': 0.17919463087248322, 'woo': 0.17919463087248322, 'squibs': 0.17919463087248322, 'proceedings': 0.35838926174496644, 'remotely': 0.17919463087248322, 'america': 0.17919463087248322, 'derivative': 0.17919463087248322, 'mercy': 0.17919463087248322, 'killing': 0.17919463087248322, 'hopeless': 0.17919463087248322, 'overacting': 0.35838926174496644, 'space': 0.35838926174496644, 'uneasy': 0.17919463087248322, 'composed': 0.17919463087248322, 'footage': 0.17919463087248322, 'elderly': 0.17919463087248322, 'awkwardly': 0.17919463087248322, 'babbling': 0.17919463087248322, 'overwrought': 0.17919463087248322, 'pseudo': 0.17919463087248322, 'satanic': 0.17919463087248322, 'gibberish': 0.17919463087248322, 'corny': 0.17919463087248322, 'teen': 0.17919463087248322, 'goth': 0.17919463087248322, 'blush': 0.17919463087248322, 'olde': 0.17919463087248322, 'english': 0.17919463087248322, 'latin': 0.17919463087248322, 'sloppy': 0.17919463087248322, 'hackneyed': 0.35838926174496644, 'course': 0.17919463087248322, 'blah': 0.17919463087248322, 'scale': 0.17919463087248322, 'balanced': 0.17919463087248322, 'perfectly': 0.17919463087248322, 'underacting': 0.17919463087248322, 'finally': 0.35838926174496644, 'wouldve': 0.17919463087248322, 'competent': 0.17919463087248322, 'jerry': 0.17919463087248322, 'falwell': 0.17919463087248322, 'assaulted': 0.17919463087248322, 'strident': 0.17919463087248322, 'cords': 0.17919463087248322, 'blare': 0.17919463087248322, 'warning': 0.17919463087248322, 'sort': 0.17919463087248322, 'pap': 0.17919463087248322, 'screened': 0.17919463087248322, 'afternoon': 0.17919463087248322, 'punish': 0.17919463087248322, 'unemployed': 0.17919463087248322, 'jobs': 0.17919463087248322, 'thoughts': 0.17919463087248322, 'dislike': 0.17919463087248322, 'ended': 0.17919463087248322, 'despised': 0.17919463087248322, 'looks': 0.35838926174496644, 'rough': 0.17919463087248322, 'draft': 0.17919463087248322, 'shooting': 0.17919463087248322, 'began': 0.17919463087248322, 'finished': 0.17919463087248322, 'completed': 0.17919463087248322, 'happen': 0.35838926174496644, 'personalities': 0.17919463087248322, 'change': 0.17919463087248322, 'twists': 0.17919463087248322, 'occur': 0.17919463087248322, 'calls': 0.17919463087248322, 'irritating': 0.17919463087248322, 'indescribably': 0.17919463087248322, 'idiotic': 0.17919463087248322, 'idiot': 0.17919463087248322, 'produce': 0.17919463087248322, 'mess': 0.7167785234899329, 'season': 0.17919463087248322, 'contains': 0.17919463087248322, 'cheesiness': 0.17919463087248322, 'unethical': 0.17919463087248322, 'normally': 0.17919463087248322, 'r': 0.17919463087248322, 'nc': 0.17919463087248322, 'final': 0.17919463087248322, 'zillion': 0.17919463087248322, 'reality': 0.17919463087248322, 'washing': 0.17919463087248322, 'twirling': 0.17919463087248322, 'hurt': 0.17919463087248322, 'grade': 0.17919463087248322, 'z': 0.17919463087248322, 'mother': 0.17919463087248322, 'pull': 0.17919463087248322, 'daughter': 0.17919463087248322, 'century': 0.17919463087248322, 'foxs': 0.17919463087248322, 'road': 0.17919463087248322, 'house': 0.17919463087248322, 'silly': 0.17919463087248322, 'implausible': 0.35838926174496644, 'unmitigated': 0.17919463087248322, 'unconvincing': 0.5375838926174497, 'blandly': 0.17919463087248322, 'edward': 0.17919463087248322, 'chodorov': 0.17919463087248322, 'produced': 0.17919463087248322, 'jean': 0.17919463087248322, 'negulesco': 0.17919463087248322, 'expect': 0.17919463087248322, 'deal': 0.17919463087248322, 'widmark': 0.17919463087248322, 'turns': 0.17919463087248322, 'unintentionally': 0.17919463087248322, 'comical': 0.17919463087248322, 'marbles': 0.17919463087248322, 'early': 0.17919463087248322, 'isnt': 0.17919463087248322, 'marred': 0.17919463087248322, 'constant': 0.17919463087248322, 'studio': 0.17919463087248322, 'indoor': 0.17919463087248322, 'exteriors': 0.17919463087248322, 'prompted': 0.17919463087248322, 'documentary': 0.35838926174496644, 'start': 0.35838926174496644, 'makes': 0.17919463087248322, 'mistakes': 0.17919463087248322, 'racial': 0.5375838926174497, 'jokes': 0.17919463087248322, 'offend': 0.17919463087248322, 'littered': 0.17919463087248322, 'overt': 0.17919463087248322, 'slurs': 0.17919463087248322, 'members': 0.17919463087248322, 'whites': 0.17919463087248322, 'depicted': 0.17919463087248322, 'morons': 0.17919463087248322, 'boobs': 0.17919463087248322, 'race': 0.17919463087248322, 'card': 0.17919463087248322, 'aside': 0.35838926174496644, 'lets': 0.35838926174496644, 'major': 0.17919463087248322, 'flaw': 0.17919463087248322, 'destroy': 0.17919463087248322, 'latifas': 0.17919463087248322, 'bipolarity': 0.17919463087248322, 'ruthless': 0.35838926174496644, 'thug': 0.17919463087248322, 'killer': 0.17919463087248322, 'luvs': 0.17919463087248322, 'diaper': 0.17919463087248322, 'commercial': 0.17919463087248322, 'terribly': 0.35838926174496644, 'receive': 0.17919463087248322, 'awards': 0.17919463087248322, 'accolades': 0.17919463087248322, 'deserving': 0.17919463087248322, 'qualities': 0.17919463087248322, 'badwellits': 0.17919463087248322, 'shame': 0.17919463087248322, 'thomerson': 0.17919463087248322, 'james': 0.17919463087248322, 'credit': 0.17919463087248322, 'version': 0.17919463087248322, 'watchable': 0.17919463087248322, 'problemsthe': 0.17919463087248322, 'professor': 0.17919463087248322, 'dumb': 0.17919463087248322, 'established': 0.17919463087248322, 'zombie': 0.17919463087248322, 'students': 0.17919463087248322, 'humans': 0.17919463087248322, 'removing': 0.17919463087248322, 'necklace': 0.17919463087248322, 'containing': 0.17919463087248322, 'meteorite': 0.17919463087248322, 'matthews': 0.17919463087248322, 'wrotedirected': 0.17919463087248322, 'weak': 0.17919463087248322, 'monster': 0.17919463087248322, 'grim': 0.17919463087248322, 'pace': 0.17919463087248322, 'lighting': 0.17919463087248322, 'bland': 0.17919463087248322, 'aspects': 0.17919463087248322, 'lack': 0.17919463087248322, 'notable': 0.17919463087248322, 'gore': 0.17919463087248322, 'convention': 0.17919463087248322, 'worked': 0.17919463087248322, 'past': 0.17919463087248322, 'cg': 0.17919463087248322, 'opening': 0.17919463087248322, 'sequence': 0.17919463087248322, 'created': 0.35838926174496644, 'microsoft': 0.17919463087248322, 'slideshow': 0.17919463087248322, 'gods': 0.17919463087248322, 'explosion': 0.17919463087248322, 'gas': 0.17919463087248322, 'tanks': 0.17919463087248322, 'sum': 0.17919463087248322, 'breeders': 0.17919463087248322, 'cheaply': 0.17919463087248322, 'avoided': 0.17919463087248322, 'ebola': 0.17919463087248322, 'virus': 0.17919463087248322, 'recommended': 0.35838926174496644, 'unbearable': 0.17919463087248322, 'comedic': 0.17919463087248322, 'timing': 0.17919463087248322, 'loads': 0.17919463087248322, 'debits': 0.17919463087248322, 'popcorn': 0.17919463087248322, 'comedy': 0.17919463087248322, 'borders': 0.17919463087248322, 'lewis': 0.17919463087248322, 'blacks': 0.17919463087248322, 'considerable': 0.17919463087248322, 'incendiary': 0.17919463087248322, 'unrestrained': 0.17919463087248322, 'wont': 0.17919463087248322, 'allow': 0.17919463087248322, 'originality': 0.17919463087248322, 'freshness': 0.17919463087248322, 'offer': 0.17919463087248322, 'evidently': 0.17919463087248322, 'limited': 0.17919463087248322, 'reflected': 0.17919463087248322, 'par': 0.17919463087248322, 'borrowed': 0.17919463087248322, 'decent': 0.17919463087248322, 'balance': 0.17919463087248322, 'filmiing': 0.17919463087248322, 'expansive': 0.17919463087248322, 'failed': 0.17919463087248322, 'convey': 0.17919463087248322, 'broad': 0.17919463087248322, 'sweep': 0.17919463087248322, 'landscapes': 0.17919463087248322, 'original': 0.17919463087248322, 'sign': 0.17919463087248322, 'improvement': 0.17919463087248322, 'expected': 0.17919463087248322, 'asleep': 0.17919463087248322, 'beware': 0.17919463087248322, 'trashy': 0.17919463087248322, 'precisely': 0.17919463087248322, 'giving': 0.17919463087248322, 'review': 0.17919463087248322, 'element': 0.17919463087248322, 'excessively': 0.17919463087248322, 'phony': 0.17919463087248322, 'contrived': 0.17919463087248322, 'painful': 0.35838926174496644, 'sit': 0.17919463087248322, 'fifteen': 0.35838926174496644, 'um': 0.17919463087248322, 'excuse': 0.17919463087248322, 'volcano': 0.35838926174496644, 'los': 0.35838926174496644, 'angeles': 0.35838926174496644, 'honest': 0.17919463087248322, 'unbelievable': 0.17919463087248322, 'nonsense': 0.35838926174496644, 'foolish': 0.17919463087248322, 'conclusion': 0.17919463087248322, 'bother': 0.17919463087248322, 'accents': 0.17919463087248322, 'abysmal': 0.17919463087248322, 'hypocrisy': 0.17919463087248322, 'vomit': 0.17919463087248322, 'rubbish': 0.17919463087248322, 'researched': 0.17919463087248322, 'omit': 0.17919463087248322, 'basic': 0.17919463087248322, 'sidelined': 0.17919463087248322, 'inexplicable': 0.17919463087248322, 'focus': 0.17919463087248322, 'crew': 0.17919463087248322, 'regardless': 0.17919463087248322, 'avoid': 0.17919463087248322, 'costs': 0.17919463087248322, 'jim': 0.17919463087248322, 'oconnor': 0.17919463087248322, 'energetic': 0.17919463087248322, 'george': 0.17919463087248322, 'dull': 0.17919463087248322, 'hosting': 0.17919463087248322, 'overs': 0.17919463087248322, 'monotonous': 0.17919463087248322, 'guests': 0.17919463087248322, 'bendingly': 0.17919463087248322, 'scares': 0.17919463087248322, 'medical': 0.17919463087248322, 'terminology': 0.17919463087248322, 'iffy': 0.17919463087248322, 'insulin': 0.17919463087248322, 'dependant': 0.17919463087248322, 'diabetic': 0.17919463087248322, 'allowing': 0.17919463087248322, 'production': 0.17919463087248322, 'format': 0.17919463087248322, 'mini': 0.17919463087248322, 'baaaaaad': 0.17919463087248322, 'youre': 0.17919463087248322, 'collect': 0.17919463087248322, 'extant': 0.17919463087248322, 'austens': 0.17919463087248322, 'skip': 0.17919463087248322, 'speaking': 0.17919463087248322, 'unbearably': 0.17919463087248322, 'kitchy': 0.17919463087248322, 'dropped': 0.17919463087248322, 'ball': 0.17919463087248322}\n",
      "{'best': 1.977507029053421, 'scene': 0.19775070290534208, 'movie': 8.70103092783505, 'when': 1.5820056232427366, 'gerardo': 0.19775070290534208, 'trying': 0.19775070290534208, 'find': 0.7910028116213683, 'song': 0.39550140581068416, 'keeps': 0.19775070290534208, 'running': 0.19775070290534208, 'his': 1.977507029053421, 'head': 0.19775070290534208, 'saw': 0.7910028116213683, 'today': 0.39550140581068416, 'thought': 0.7910028116213683, 'good': 3.5595126522961573, 'effort': 0.19775070290534208, 'messages': 0.19775070290534208, 'kids': 0.39550140581068416, 'loved': 0.7910028116213683, 'casting': 0.5932521087160263, 'jimmy': 0.39550140581068416, 'buffet': 0.19775070290534208, 'science': 0.19775070290534208, 'teacher': 0.19775070290534208, 'baby': 0.19775070290534208, 'owls': 0.19775070290534208, 'adorable': 0.39550140581068416, 'showed': 0.39550140581068416, 'lot': 0.19775070290534208, 'florida': 0.19775070290534208, 'its': 4.350515463917525, 'look': 1.1865042174320526, 'appealing': 0.19775070290534208, 'songs': 0.19775070290534208, 'muppets': 0.19775070290534208, 'hilarious': 0.5932521087160263, 'cool': 0.7910028116213683, 'right': 0.7910028116213683, 'case': 0.19775070290534208, 'delivers': 0.39550140581068416, 'almost': 0.39550140581068416, 'face': 0.5932521087160263, 'review': 0.19775070290534208, 'long': 0.5932521087160263, 'overdue': 0.19775070290534208, 'i': 16.017806935332707, 'consider': 0.39550140581068416, 'tale': 0.19775070290534208, 'sisters': 0.39550140581068416, 'single': 0.5932521087160263, 'greatest': 0.39550140581068416, 'film': 7.712277413308341, 'ill': 0.5932521087160263, 'gem': 0.19775070290534208, 'against': 0.19775070290534208, 'terms': 0.39550140581068416, 'screenplay': 0.19775070290534208, 'cinematography': 0.9887535145267105, 'acting': 1.1865042174320526, 'post': 0.19775070290534208, 'production': 0.5932521087160263, 'editing': 0.39550140581068416, 'directing': 0.39550140581068416, 'other': 1.5820056232427366, 'aspect': 0.19775070290534208, 'making': 0.7910028116213683, 'practically': 0.19775070290534208, 'perfect': 0.5932521087160263, 'them': 1.3842549203373946, 'true': 0.7910028116213683, 'masterpiece': 0.39550140581068416, 'sea': 0.19775070290534208, 'faux': 0.39550140581068416, 'masterpieces': 0.19775070290534208, 'first': 0.39550140581068416, 'ive': 0.5932521087160263, 'given': 0.39550140581068416, 'years': 0.9887535145267105, 'needed': 0.19775070290534208, 'word': 0.19775070290534208, 'mouth': 0.19775070290534208, 'promote': 0.19775070290534208, 'overall': 0.5932521087160263, 'interesting': 1.3842549203373946, 'provoking': 0.19775070290534208, 'plus': 0.39550140581068416, 'paced': 0.19775070290534208, 'suited': 0.19775070290534208, 'relatively': 0.19775070290534208, 'short': 0.5932521087160263, 'run': 0.39550140581068416, 'time': 1.3842549203373946, 'one': 2.7685098406747892, 'gave': 0.5932521087160263, 'wind': 0.5932521087160263, 'lion': 0.5932521087160263, 'written': 0.19775070290534208, 'superbly': 0.19775070290534208, 'acted': 0.19775070290534208, 'classic': 0.5932521087160263, 'actually': 1.1865042174320526, 'turned': 0.19775070290534208, 'pretty': 0.39550140581068416, 'decent': 0.39550140581068416, 'far': 0.19775070290534208, 'b': 0.19775070290534208, 'list': 0.19775070290534208, 'horrorsuspense': 0.19775070290534208, 'films': 0.7910028116213683, 'definitely': 0.7910028116213683, 'worth': 1.5820056232427366, 'checking': 0.5932521087160263, 'manna': 0.19775070290534208, 'heaven': 0.19775070290534208, 'terrific': 0.7910028116213683, 'predictable': 0.19775070290534208, 'unpredictable': 0.19775070290534208, 'scenes': 0.39550140581068416, 'often': 0.39550140581068416, 'funny': 1.977507029053421, 'occasionally': 0.7910028116213683, 'touching': 0.39550140581068416, 'characters': 1.7797563261480787, 'evaluate': 0.19775070290534208, 'lives': 0.19775070290534208, 'they': 1.1865042174320526, 'going': 0.5932521087160263, 'cast': 1.5820056232427366, 'veteran': 0.19775070290534208, 'actors': 0.9887535145267105, 'than': 0.9887535145267105, 'nostalgia': 0.19775070290534208, 'trip': 0.19775070290534208, 'ursula': 0.19775070290534208, 'burtons': 0.19775070290534208, 'portrayal': 0.39550140581068416, 'nun': 0.19775070290534208, 'fun': 0.39550140581068416, 'nuns': 0.19775070290534208, 'church': 0.39550140581068416, 'looking': 0.19775070290534208, 'musicincluding': 0.19775070290534208, 'shirley': 0.19775070290534208, 'jones': 0.19775070290534208, 'rendition': 0.19775070290534208, 'way': 1.1865042174320526, 'tonight': 0.19775070290534208, 'uplifting': 0.39550140581068416, 'ending': 0.7910028116213683, 'try': 0.19775070290534208, 'dont': 1.7797563261480787, 'think': 1.7797563261480787, 'disappointed': 0.19775070290534208, 'thing': 0.39550140581068416, 'watching': 0.9887535145267105, 'scenery': 0.19775070290534208, 'house': 0.39550140581068416, 'beautiful': 1.1865042174320526, 'writing': 0.5932521087160263, 'fresh': 0.19775070290534208, 'bold': 0.19775070290534208, 'helps': 0.39550140581068416, 'maybe': 0.19775070290534208, 'idiot': 0.19775070290534208, 'savant': 0.19775070290534208, 'sister': 0.19775070290534208, 'have': 1.7797563261480787, 'played': 0.9887535145267105, 'better': 0.5932521087160263, 'real': 0.9887535145267105, 'joy': 0.7910028116213683, 'watch': 0.9887535145267105, 'applause': 0.19775070290534208, 'prelude': 0.19775070290534208, 'liked': 0.5932521087160263, 'great': 3.1640112464854733, 'director': 0.39550140581068416, 'edge': 0.39550140581068416, 'seat': 0.19775070290534208, 'somewhat': 0.19775070290534208, 'afraid': 0.39550140581068416, 'car': 0.19775070290534208, 'end': 0.5932521087160263, 'night': 0.19775070290534208, 'music': 0.5932521087160263, 'nice': 0.7910028116213683, 'id': 0.39550140581068416, 'advise': 0.19775070290534208, 'see': 2.9662605435801312, 'brilliant': 0.9887535145267105, 'rocked': 0.19775070290534208, 'world': 0.5932521087160263, 'certainly': 0.19775070290534208, 'no': 0.19775070290534208, 'social': 0.19775070290534208, 'physical': 0.19775070290534208, 'outlets': 0.19775070290534208, 'cult': 0.19775070290534208, 'viewing': 0.19775070290534208, 'sharing': 0.19775070290534208, 'also': 1.3842549203373946, 'treat': 0.19775070290534208, 'anthony': 0.19775070290534208, 'quinn': 0.19775070290534208, 'playing': 0.7910028116213683, 'crazy': 0.39550140581068416, 'horse': 0.19775070290534208, 'do': 1.7797563261480787, 'like': 1.7797563261480787, 'empowerment': 0.19775070290534208, 'women': 0.19775070290534208, 'theres': 0.39550140581068416, 'enough': 0.39550140581068416, 'movies': 0.9887535145267105, 'excellent': 0.9887535145267105, 'performance': 0.9887535145267105, 'ms': 0.19775070290534208, 'garbo': 0.19775070290534208, 'off': 0.39550140581068416, 'bat': 0.19775070290534208, 'talents': 0.19775070290534208, 'carry': 0.19775070290534208, 'silent': 0.9887535145267105, 'era': 0.19775070290534208, 'wanted': 0.39550140581068416, 'work': 0.7910028116213683, 'netflix': 0.19775070290534208, 'doesnt': 0.5932521087160263, 'stocking': 0.19775070290534208, 'renowned': 0.19775070290534208, 'screenwriter': 0.39550140581068416, 'frances': 0.19775070290534208, 'marion': 0.19775070290534208, 'missed': 0.19775070290534208, 'step': 0.39550140581068416, 'sound': 0.5932521087160263, 'youll': 0.19775070290534208, 'love': 1.5820056232427366, 'bad': 0.7910028116213683, 'ones': 0.19775070290534208, 'received': 0.39550140581068416, 'quality': 0.19775070290534208, 'age': 0.39550140581068416, 'john': 1.1865042174320526, 'wayne': 0.39550140581068416, 'incredible': 0.39550140581068416, 'job': 1.1865042174320526, 'young': 0.19775070290534208, 'industry': 0.19775070290534208, 'screen': 0.5932521087160263, 'presence': 0.19775070290534208, 'shined': 0.19775070290534208, 'though': 0.9887535145267105, 'senior': 0.19775070290534208, 'older': 0.19775070290534208, 'enjoy': 0.19775070290534208, 'seen': 0.5932521087160263, 'half': 0.19775070290534208, 'boring': 0.39550140581068416, 'self': 0.5932521087160263, 'indulgent': 0.39550140581068416, 'piece': 0.39550140581068416, 'junk': 0.19775070290534208, 'probably': 0.5932521087160263, 'hadnt': 0.19775070290534208, 'spent': 0.19775070290534208, 'showcasing': 0.19775070290534208, 'art': 0.9887535145267105, 'isnt': 0.19775070290534208, 'noteworthy': 0.39550140581068416, 'didnt': 0.19775070290534208, 'character': 0.7910028116213683, 'got': 0.5932521087160263, 'punched': 0.19775070290534208, 'gallon': 0.19775070290534208, 'blood': 0.39550140581068416, 'spew': 0.19775070290534208, 'forth': 0.19775070290534208, 'soon': 0.19775070290534208, 'jamie': 0.19775070290534208, 'foxx': 0.19775070290534208, 'absolutely': 0.5932521087160263, 'ray': 0.19775070290534208, 'charles': 0.19775070290534208, 'simply': 0.19775070290534208, 'genius': 0.39550140581068416, 'owns': 0.19775070290534208, 'spacek': 0.19775070290534208, 'owned': 0.39550140581068416, 'coal': 0.19775070290534208, 'miners': 0.19775070290534208, 'daughter': 0.19775070290534208, 'quaid': 0.19775070290534208, 'balls': 0.19775070290534208, 'such': 0.9887535145267105, 'highly': 0.5932521087160263, 'entertaining': 0.5932521087160263, 'angles': 0.19775070290534208, 'features': 0.39550140581068416, 'outlandish': 0.19775070290534208, 'array': 0.19775070290534208, 'memorable': 0.5932521087160263, 'psychotic': 0.19775070290534208, 'lovable': 0.19775070290534208, 'nuts': 0.39550140581068416, 'enjoyment': 0.19775070290534208, 'get': 0.9887535145267105, 'play': 0.7910028116213683, 'games': 0.19775070290534208, 'dangerous': 0.39550140581068416, 'sweet': 0.19775070290534208, 'moments': 0.19775070290534208, 'telephone': 0.19775070290534208, 'repair': 0.19775070290534208, 'man': 0.7910028116213683, 'reactions': 0.39550140581068416, 'bitchy': 0.19775070290534208, 'boss': 0.19775070290534208, 'truly': 0.39550140581068416, 'genuine': 0.19775070290534208, 'tremendously': 0.19775070290534208, 'smart': 0.39550140581068416, 'twist': 0.19775070290534208, 'television': 0.19775070290534208, 'series': 0.19775070290534208, 'writers': 0.19775070290534208, 'smack': 0.19775070290534208, 'actresses': 0.39550140581068416, 'bonus': 0.19775070290534208, 'showthese': 0.19775070290534208, 'taped': 0.19775070290534208, 'episodes': 0.19775070290534208, 'again': 0.7910028116213683, 'know': 0.7910028116213683, 'exactly': 0.39550140581068416, 'about': 1.5820056232427366, 'latched': 0.19775070290534208, 'endearing': 0.19775070290534208, 'special': 0.7910028116213683, 'familys': 0.19775070290534208, 'memories': 0.39550140581068416, 'totally': 0.5932521087160263, 'recommend': 0.5932521087160263, 'likes': 0.39550140581068416, 'wholesome': 0.39550140581068416, 'family': 0.5932521087160263, 'things': 0.39550140581068416, 'themselves': 0.39550140581068416, 'shows': 0.19775070290534208, 'strong': 0.19775070290534208, 'sibling': 0.19775070290534208, 'bond': 0.19775070290534208, 'action': 0.19775070290534208, 'suspense': 0.19775070290534208, 'unneeded': 0.19775070290534208, 'controversy': 0.19775070290534208, 'solid': 0.19775070290534208, 'damian': 0.19775070290534208, 'talented': 0.19775070290534208, 'versatile': 0.19775070290534208, 'ways': 0.19775070290534208, 'portraying': 0.39550140581068416, 'different': 0.7910028116213683, 'cutting': 0.19775070290534208, 'pleased': 0.19775070290534208, 'modern': 0.19775070290534208, 'day': 0.39550140581068416, 'letting': 0.19775070290534208, 'passion': 0.19775070290534208, 'drive': 0.19775070290534208, 'taking': 0.19775070290534208, 'audience': 0.39550140581068416, 'elias': 0.19775070290534208, 'koteasjack': 0.19775070290534208, 'palance': 0.19775070290534208, 'roles': 0.39550140581068416, 'angelina': 0.19775070290534208, 'hot': 0.19775070290534208, 'gets': 0.39550140581068416, 'nakedbilly': 0.19775070290534208, 'drago': 0.5932521087160263, 'appears': 0.19775070290534208, 'usual': 0.39550140581068416, 'cameo': 0.19775070290534208, 'sven': 0.19775070290534208, 'ole': 0.19775070290534208, 'thorsen': 0.19775070290534208, 'enjoyable': 0.5932521087160263, 'budget': 0.39550140581068416, 'awesome': 0.19775070290534208, 'bought': 0.19775070290534208, 'ebay': 0.19775070290534208, 'story': 0.5932521087160263, 'line': 0.19775070290534208, 'poler': 0.19775070290534208, 'bear': 0.19775070290534208, 'kinda': 0.39550140581068416, 'cutebut': 0.19775070290534208, 'question': 0.19775070290534208, 'fort': 0.19775070290534208, 'steele': 0.19775070290534208, 'ask': 0.19775070290534208, 'away': 0.19775070290534208, 'wonderful': 0.9887535145267105, 'parts': 0.7910028116213683, 'literally': 0.19775070290534208, 'wonder': 0.39550140581068416, 'excerpts': 0.19775070290534208, 'works': 0.39550140581068416, 'sets': 0.39550140581068416, 'especially': 0.19775070290534208, 'designed': 0.19775070290534208, 'camera': 0.7910028116213683, 'amazingstylized': 0.19775070290534208, 'effective': 0.19775070290534208, 'exemplars': 0.19775070290534208, 'set': 0.19775070290534208, 'designer': 0.19775070290534208, 'stories': 0.39550140581068416, 'powerful': 0.19775070290534208, 'explorations': 0.19775070290534208, 'nature': 0.19775070290534208, 'learn': 0.19775070290534208, 'artist': 0.19775070290534208, 'interested': 0.19775070290534208, 'poetry': 0.19775070290534208, 'theater': 0.39550140581068416, 'politics': 0.19775070290534208, 'japanese': 0.19775070290534208, 'history': 0.5932521087160263, 'rendering': 0.19775070290534208, 'americas': 0.19775070290534208, 'imperial': 0.19775070290534208, 'makes': 0.7910028116213683, 'values': 0.19775070290534208, 'faultless': 0.19775070290534208, 'photography': 0.39550140581068416, 'composition': 0.39550140581068416, 'underappreciated': 0.19775070290534208, 'brian': 0.19775070290534208, 'keith': 0.19775070290534208, 'bully': 0.19775070290534208, 'teddy': 0.19775070290534208, 'vivid': 0.19775070290534208, 'told': 0.19775070290534208, 'largely': 0.19775070290534208, 'eyes': 0.39550140581068416, 'son': 0.19775070290534208, 'member': 0.19775070290534208, 'identify': 0.19775070290534208, 'sean': 0.19775070290534208, 'connerys': 0.19775070290534208, 'noble': 0.19775070290534208, 'brigand': 0.19775070290534208, 'candace': 0.19775070290534208, 'bergens': 0.19775070290534208, 'feisty': 0.19775070290534208, 'heroine': 0.19775070290534208, 'hustons': 0.19775070290534208, 'wily': 0.19775070290534208, 'hay': 0.19775070290534208, 'steve': 0.39550140581068416, 'kanalys': 0.19775070290534208, 'spiffy': 0.19775070290534208, 'radiant': 0.19775070290534208, 'ruthless': 0.19775070290534208, 'lieutenant': 0.19775070290534208, 'roosevelts': 0.19775070290534208, 'big': 0.5932521087160263, 'stick': 0.19775070290534208, 'high': 0.19775070290534208, 'adventure': 0.19775070290534208, 'robert': 0.39550140581068416, 'ryans': 0.19775070290534208, 'portrayed': 0.19775070290534208, 'father': 0.39550140581068416, 'schizophrenic': 0.19775070290534208, 'lifemy': 0.19775070290534208, 'never': 0.39550140581068416, 'murdered': 0.39550140581068416, 'affected': 0.19775070290534208, 'second': 0.39550140581068416, 'war': 0.19775070290534208, 'worse': 0.19775070290534208, 'having': 0.39550140581068416, 'humour': 0.39550140581068416, 'apt': 0.19775070290534208, 'mother': 0.19775070290534208, 'brother': 0.19775070290534208, 'thiswhen': 0.19775070290534208, 'ryan': 0.19775070290534208, 'type': 0.39550140581068416, 'imitation': 0.19775070290534208, 'individual': 0.19775070290534208, 'impressed': 0.39550140581068416, 'non': 0.19775070290534208, 'linear': 0.19775070290534208, 'narration': 0.19775070290534208, 'flashbacks': 0.19775070290534208, 'articulated': 0.19775070290534208, 'monica': 0.19775070290534208, 'bellucci': 0.19775070290534208, 'commentary': 0.19775070290534208, 'todays': 0.19775070290534208, 'undoubtedly': 0.19775070290534208, 'seeing': 0.5932521087160263, 'people': 0.7910028116213683, 'timers': 0.19775070290534208, 'popular': 0.39550140581068416, 'cinema': 0.5932521087160263, 'plenty': 0.39550140581068416, 'laughs': 0.19775070290534208, 'feel': 0.19775070290534208, 'thats': 0.39550140581068416, 'felt': 0.39550140581068416, 'came': 0.39550140581068416, 'northern': 0.19775070290534208, 'positive': 0.19775070290534208, 'community': 0.19775070290534208, 'represents': 0.19775070290534208, 'enjoyed': 0.9887535145267105, 'created': 0.39550140581068416, 'unique': 0.19775070290534208, 'feeling': 0.5932521087160263, 'vivian': 0.19775070290534208, 'schilling': 0.19775070290534208, 'script': 0.5932521087160263, 'garbage': 0.39550140581068416, 'theatres': 0.19775070290534208, 'role': 0.5932521087160263, 'screamy': 0.19775070290534208, 'masculine': 0.19775070290534208, 'casted': 0.19775070290534208, 'ready': 0.19775070290534208, 'european': 0.19775070290534208, 'throwback': 0.19775070290534208, 'student': 0.19775070290534208, 's': 0.5932521087160263, 'experiences': 0.19775070290534208, 'living': 0.19775070290534208, 'abroad': 0.19775070290534208, 'interacting': 0.19775070290534208, 'nationalities': 0.19775070290534208, 'circumstances': 0.19775070290534208, 'slightly': 0.19775070290534208, 'excellentangel': 0.19775070290534208, 'scamp': 0.5932521087160263, 'adorablehis': 0.19775070290534208, 'little': 0.5932521087160263, 'yelps': 0.19775070290534208, 'hes': 0.19775070290534208, 'scaredand': 0.19775070290534208, 'funniest': 0.19775070290534208, 'whenscamp': 0.19775070290534208, 'caught': 0.19775070290534208, 'curtain': 0.19775070290534208, 'angel': 0.39550140581068416, 'singing': 0.19775070290534208, 'beforei': 0.19775070290534208, 'movieits': 0.19775070290534208, 'coming': 0.19775070290534208, 'edition': 0.19775070290534208, 'june': 0.19775070290534208, 'cover': 0.19775070290534208, 'underneath': 0.19775070290534208, 'lid': 0.19775070290534208, 'explain': 0.19775070290534208, 'romanticcharminghilariousand': 0.19775070290534208, 'adorablethe': 0.19775070290534208, 'junkyard': 0.39550140581068416, 'funnyall': 0.19775070290534208, 'dogs': 0.39550140581068416, 'specialtoo': 0.19775070290534208, 'laughedkids': 0.19775070290534208, 'itbuy': 0.19775070290534208, 'comes': 0.19775070290534208, 'outit': 0.19775070290534208, 'new': 0.19775070290534208, 'premise': 0.19775070290534208, 'billy': 0.19775070290534208, 'nut': 0.19775070290534208, 'bag': 0.19775070290534208, 'note': 0.19775070290534208, 'stephen': 0.19775070290534208, 'mchattie': 0.19775070290534208, 'lance': 0.19775070290534208, 'hendrikson': 0.19775070290534208, 'flick': 0.19775070290534208, 'talk': 0.19775070290534208, 'raging': 0.19775070290534208, 'cheekbones': 0.19775070290534208, 'soundtrack': 0.39550140581068416, 'wasnt': 0.39550140581068416, 'terrible': 0.19775070290534208, 'oy': 0.19775070290534208, 'vey': 0.19775070290534208, 'scale': 0.39550140581068416, 'jobs': 0.19775070290534208, 'amusing': 0.19775070290534208, 'minutes': 0.19775070290534208, 'armand': 0.19775070290534208, 'assante': 0.19775070290534208, 'cable': 0.19775070290534208, 'companys': 0.19775070290534208, 'summary': 0.19775070290534208, 'sounded': 0.19775070290534208, 'watched': 0.39550140581068416, 'twice': 0.19775070290534208, 'believe': 0.7910028116213683, 'tying': 0.19775070290534208, 'loose': 0.19775070290534208, 'ends': 0.19775070290534208, 'score': 0.39550140581068416, 'plot': 0.39550140581068416, 'wont': 0.19775070290534208, 'spoilers': 0.19775070290534208, 'want': 0.39550140581068416, 'deeply': 0.19775070290534208, 'knew': 0.39550140581068416, 'come': 0.19775070290534208, 'gifted': 0.19775070290534208, 'actor': 0.7910028116213683, 'share': 0.19775070290534208, 'ups': 0.39550140581068416, 'starring': 0.19775070290534208, 'jaclyn': 0.19775070290534208, 'smith': 0.19775070290534208, 'god': 0.19775070290534208, 'ago': 0.19775070290534208, 'contained': 0.19775070290534208, 'star': 0.19775070290534208, 'opened': 0.19775070290534208, 'havent': 0.19775070290534208, 'kind': 0.19775070290534208, 'length': 0.19775070290534208, 'minute': 0.19775070290534208, 'rate': 0.19775070290534208, 'lifetime': 0.19775070290534208, 'air': 0.19775070290534208, 'knows': 0.19775070290534208, 'store': 0.19775070290534208, 'sells': 0.19775070290534208, 'let': 0.19775070290534208, 'loads': 0.19775070290534208, 'understatement': 0.19775070290534208, 'black': 0.5932521087160263, 'comedy': 0.19775070290534208, 'remember': 0.19775070290534208, 'creates': 0.19775070290534208, 'universe': 0.19775070290534208, 'fascinating': 0.19775070290534208, 'hope': 0.39550140581068416, 'team': 0.19775070290534208, 'continue': 0.19775070290534208, 'weird': 0.19775070290534208, 'style': 0.19775070290534208, 'forgot': 0.19775070290534208, 'superb': 0.5932521087160263, 'trond': 0.19775070290534208, 'fausa': 0.19775070290534208, 'aurvg': 0.19775070290534208, 'bothersome': 0.19775070290534208, 'understand': 0.39550140581068416, 'humorous': 0.39550140581068416, 'comment': 0.19775070290534208, 'life': 0.19775070290534208, 'move': 0.19775070290534208, 'initially': 0.19775070290534208, 'local': 0.19775070290534208, 'sites': 0.19775070290534208, 'filmed': 0.39550140581068416, 'buffalo': 0.19775070290534208, 'intrigued': 0.19775070290534208, 'later': 0.19775070290534208, 'lost': 0.39550140581068416, 'power': 0.19775070290534208, 'entire': 0.19775070290534208, 'applauded': 0.19775070290534208, 'conclusion': 0.19775070290534208, 'left': 0.19775070290534208, 'lilt': 0.19775070290534208, 'heart': 0.39550140581068416, 'human': 0.39550140581068416, 'race': 0.19775070290534208, 'duris': 0.19775070290534208, 'appearance': 0.39550140581068416, 'gives': 0.19775070290534208, 'fine': 0.5932521087160263, 'rest': 0.19775070290534208, 'including': 0.39550140581068416, 'views': 0.19775070290534208, 'barcelona': 0.19775070290534208, 'famed': 0.19775070290534208, 'gaudi': 0.19775070290534208, 'towers': 0.19775070290534208, 'martin': 0.19775070290534208, 'middle': 0.19775070290534208, 'aged': 0.19775070290534208, 'upper': 0.19775070290534208, 'class': 0.19775070290534208, 'uptight': 0.19775070290534208, 'white': 0.7910028116213683, 'guy': 0.19775070290534208, 'add': 0.19775070290534208, 'betty': 0.19775070290534208, 'jean': 0.19775070290534208, 'steamboat': 0.19775070290534208, 'willie': 0.19775070290534208, 'amazingly': 0.19775070290534208, 'important': 0.19775070290534208, 'mickey': 0.5932521087160263, 'mouse': 0.19775070290534208, 'following': 0.19775070290534208, 'plane': 0.19775070290534208, 'earlier': 0.19775070290534208, 'year': 0.19775070290534208, 'famous': 0.19775070290534208, 'ground': 0.19775070290534208, 'breaking': 0.19775070290534208, 'yet': 0.39550140581068416, 'hear': 0.19775070290534208, 'speak': 0.19775070290534208, 'tons': 0.19775070290534208, 'effects': 0.5932521087160263, 'take': 0.19775070290534208, 'granted': 0.19775070290534208, 'huge': 0.19775070290534208, 'crowd': 0.39550140581068416, 'pleaser': 0.39550140581068416, 'amazed': 0.19775070290534208, 'timeless': 0.19775070290534208, 'turkey': 0.19775070290534208, 'straw': 0.19775070290534208, 'imaginative': 0.19775070290534208, 'cruel': 0.19775070290534208, 'clever': 0.19775070290534208, 'ranks': 0.19775070290534208, 'mickeys': 0.19775070290534208, 'original': 0.39550140581068416, 'body': 0.19775070290534208, 'soul': 0.19775070290534208, 'garfield': 0.19775070290534208, 'ann': 0.19775070290534208, 'revere': 0.19775070290534208, 'lilli': 0.19775070290534208, 'plmer': 0.19775070290534208, 'william': 0.19775070290534208, 'conrad': 0.19775070290534208, 'canada': 0.19775070290534208, 'leeand': 0.19775070290534208, 'cinematographers': 0.19775070290534208, 'grace': 0.19775070290534208, 'screenjames': 0.19775070290534208, 'wong': 0.19775070290534208, 'howe': 0.19775070290534208, 'okay': 0.19775070290534208, 'fair': 0.19775070290534208, 'critic': 0.19775070290534208, 'credit': 0.19775070290534208, 'credits': 0.39550140581068416, 'creature': 0.19775070290534208, 'gotta': 0.19775070290534208, 'close': 0.39550140581068416, 'slimy': 0.19775070290534208, 'drooling': 0.19775070290534208, 'teeth': 0.19775070290534208, 'sole': 0.19775070290534208, 'bright': 0.19775070290534208, 'spot': 0.19775070290534208, 'jonah': 0.19775070290534208, 'hill': 0.19775070290534208, 'unrecognizable': 0.19775070290534208, 'fans': 0.39550140581068416, 'recent': 0.19775070290534208, 'superbad': 0.19775070290534208, 'weight': 0.19775070290534208, 'interim': 0.19775070290534208, 'child': 0.5932521087160263, 'proudly': 0.19775070290534208, 'classical': 0.19775070290534208, 'wb': 0.19775070290534208, 'cartoons': 0.39550140581068416, 'tiny': 0.19775070290534208, 'toons': 0.19775070290534208, 'kept': 0.19775070290534208, 'vibe': 0.19775070290534208, 'delivered': 0.19775070290534208, 'underrated': 0.19775070290534208, 'murky': 0.19775070290534208, 'episode': 0.19775070290534208, 'product': 0.19775070290534208, 'related': 0.19775070290534208, 'easily': 0.19775070290534208, 'cartoon': 0.39550140581068416, 'laugh': 0.19775070290534208, 'tender': 0.19775070290534208, 'getting': 0.19775070290534208, 'dark': 0.39550140581068416, 'sitcoms': 0.19775070290534208, 'oriented': 0.19775070290534208, 'teenagers': 0.19775070290534208, 'peculiarity': 0.19775070290534208, 'lead': 0.39550140581068416, 'deserved': 0.39550140581068416, 'called': 0.19775070290534208, 'perabo': 0.19775070290534208, 'energy': 0.19775070290534208, 'level': 0.19775070290534208, 'obviously': 0.19775070290534208, 'comfortable': 0.19775070290534208, 'pitch': 0.19775070290534208, 'longer': 0.19775070290534208, 'goes': 0.19775070290534208, 'surprised': 0.19775070290534208, 'care': 0.19775070290534208, 'instant': 0.19775070290534208, 'catchy': 0.19775070290534208, 'miss': 0.19775070290534208, 'masterful': 0.19775070290534208, 'themes': 0.19775070290534208, 'simmering': 0.19775070290534208, 'boiling': 0.19775070290534208, 'warts': 0.19775070290534208, 'study': 0.19775070290534208, 'poets': 0.19775070290534208, 'bohemian': 0.19775070290534208, 'wartime': 0.19775070290534208, 'span': 0.19775070290534208, 'aerial': 0.19775070290534208, 'bombardments': 0.19775070290534208, 'london': 0.19775070290534208, 'outward': 0.19775070290534208, 'tranquillity': 0.19775070290534208, 'welsh': 0.19775070290534208, 'coastal': 0.19775070290534208, 'retreat': 0.19775070290534208, 'borderlines': 0.19775070290534208, 'friendship': 0.19775070290534208, 'lust': 0.19775070290534208, 'dedication': 0.19775070290534208, 'experience': 0.19775070290534208, 'versus': 0.39550140581068416, 'practical': 0.19775070290534208, 'concerns': 0.19775070290534208, 'jealousy': 0.19775070290534208, 'rivalry': 0.19775070290534208, 'cowardice': 0.19775070290534208, 'egotism': 0.19775070290534208, 'heroism': 0.19775070290534208, 'sacrifice': 0.19775070290534208, 'mature': 0.19775070290534208, 'subtle': 0.19775070290534208, 'suggests': 0.19775070290534208, 'brings': 0.19775070290534208, 'dramatic': 0.19775070290534208, 'focus': 0.19775070290534208, 'underlying': 0.19775070290534208, 'tensions': 0.19775070290534208, 'served': 0.19775070290534208, 'performances': 0.19775070290534208, 'apart': 0.19775070290534208, 'odd': 0.19775070290534208, 'inappropriate': 0.19775070290534208, 'smiling': 0.19775070290534208, 'keira': 0.19775070290534208, 'knightley': 0.19775070290534208, 'prone': 0.19775070290534208, 'direction': 0.19775070290534208, 'mention': 0.39550140581068416, 'exquisite': 0.19775070290534208, 'visual': 0.19775070290534208, 'moment': 0.39550140581068416, 'inventive': 0.19775070290534208, 'elegant': 0.19775070290534208, 'use': 0.19775070290534208, 'angle': 0.19775070290534208, 'lighting': 0.19775070290534208, 'pointillistic': 0.19775070290534208, 'home': 0.19775070290534208, 'footage': 0.19775070290534208, 'behold': 0.19775070290534208, 'continuously': 0.19775070290534208, 'bertolucci': 0.19775070290534208, 'relationships': 0.19775070290534208, 'convincing': 0.19775070290534208, 'narrative': 0.19775070290534208, 'engaging': 0.19775070290534208, 'masters': 0.39550140581068416, 'christmas': 0.19775070290534208, 'errol': 0.39550140581068416, 'flynn': 0.39550140581068416, 'custer': 0.19775070290534208, 'favourite': 0.39550140581068416, 'alongside': 0.19775070290534208, 'olivia': 0.19775070290534208, 'havilland': 0.19775070290534208, 'fantastic': 0.39550140581068416, 'known': 0.19775070290534208, 'dads': 0.19775070290534208, 'grew': 0.19775070290534208, 'realised': 0.19775070290534208, 'lovely': 0.19775070290534208, 'thriller': 0.19775070290534208, 'hitchcock': 0.39550140581068416, 'lots': 0.19775070290534208, 'shenanigans': 0.19775070290534208, 'surrounding': 0.19775070290534208, 'spy': 0.19775070290534208, 'kidnapped': 0.19775070290534208, 'nasty': 0.19775070290534208, 'foreign': 0.19775070290534208, 'random': 0.19775070290534208, 'taxidermists': 0.19775070290534208, 'stewart': 0.19775070290534208, 'hero': 0.19775070290534208, 'rips': 0.19775070290534208, 'climax': 0.19775070290534208, 'embassy': 0.19775070290534208, 'function': 0.19775070290534208, 'lacks': 0.19775070290534208, 'brooding': 0.19775070290534208, 'menace': 0.19775070290534208, 'hitchcocks': 0.19775070290534208, 'low': 0.19775070290534208, 'stable': 0.19775070290534208, 'excellently': 0.39550140581068416, 'produced': 0.39550140581068416, 'tops': 0.19775070290534208, 'ratings': 0.19775070290534208, 'typical': 0.19775070290534208, 'sci': 0.39550140581068416, 'fi': 0.19775070290534208, 'fis': 0.19775070290534208, 'producers': 0.19775070290534208, 'scot': 0.19775070290534208, 'vandiver': 0.19775070290534208, 'nonetheless': 0.19775070290534208, 'campy': 0.19775070290534208, 'sort': 0.19775070290534208, 'barely': 0.19775070290534208, 'delight': 0.19775070290534208, 'revealing': 0.19775070290534208, 'complexity': 0.19775070290534208, 'task': 0.19775070290534208, 'challenges': 0.19775070290534208, 'facing': 0.19775070290534208, 'south': 0.39550140581068416, 'africa': 0.39550140581068416, 'outside': 0.19775070290534208, 'past': 0.19775070290534208, 'attempted': 0.19775070290534208, 'truth': 0.19775070290534208, 'reconciliation': 0.19775070290534208, 'process': 0.19775070290534208, 'magnificent': 0.19775070290534208, 'photographycinematography': 0.19775070290534208, 'seamlessly': 0.19775070290534208, 'woven': 0.19775070290534208, 'splendid': 0.19775070290534208, 'rent': 0.19775070290534208, 'view': 0.19775070290534208, 'subtitles': 0.19775070290534208, 'aversion': 0.19775070290534208, 'therapy': 0.19775070290534208, 'shakespear': 0.39550140581068416, 'macbeth': 0.39550140581068416, 'jason': 0.19775070290534208, 'connery': 0.19775070290534208, 'moved': 0.19775070290534208, 'tears': 0.19775070290534208, 'final': 0.19775070290534208, 'monolog': 0.19775070290534208, 'brief': 0.19775070290534208, 'candle': 0.19775070290534208, 'outhe': 0.19775070290534208, 'sphere': 0.19775070290534208, 'moral': 0.19775070290534208, 'decay': 0.39550140581068416, 'forces': 0.19775070290534208, 'helen': 0.19775070290534208, 'baxendale': 0.19775070290534208, 'credible': 0.19775070290534208, 'lady': 0.19775070290534208, 'cheerfull': 0.19775070290534208, 'times': 0.19775070290534208, 'she': 0.39550140581068416, 'looks': 0.19775070290534208, 'naughty': 0.19775070290534208, 'girl': 0.19775070290534208, 'deadly': 0.19775070290534208, 'taste': 0.19775070290534208, 'evil': 0.19775070290534208, 'death': 0.19775070290534208, 'shakespears': 0.19775070290534208, 'lyrics': 0.19775070290534208, 'witty': 0.19775070290534208, 'delightful': 0.19775070290534208, 'adaptation': 0.19775070290534208, 'dr': 0.19775070290534208, 'seuss': 0.19775070290534208, 'book': 0.19775070290534208, 'brilliantly': 0.19775070290534208, 'animated': 0.19775070290534208, 'upas': 0.19775070290534208, 'finest': 0.19775070290534208, 'thoroughly': 0.19775070290534208, 'deserving': 0.19775070290534208, 'academy': 0.19775070290534208, 'award': 0.19775070290534208, 'integral': 0.19775070290534208, 'element': 0.19775070290534208, 'helping': 0.19775070290534208, 'paul': 0.19775070290534208, 'schrader': 0.19775070290534208, 'mishima': 0.19775070290534208, 'complex': 0.19775070290534208, 'notable': 0.19775070290534208, 'baileys': 0.19775070290534208, 'crisp': 0.19775070290534208, 'beautifully': 0.19775070290534208, 'colored': 0.19775070290534208, 'design': 0.19775070290534208, 'costumes': 0.39550140581068416, 'eiko': 0.19775070290534208, 'ishioka': 0.19775070290534208, 'went': 0.19775070290534208, 'coppolas': 0.19775070290534208, 'dracula': 0.19775070290534208, 'oscar': 0.19775070290534208, 'small': 0.19775070290534208, 'consolations': 0.19775070290534208, 'annes': 0.19775070290534208, 'stunning': 0.19775070290534208, 'raw': 0.19775070290534208, 'sublimely': 0.19775070290534208, 'moving': 0.19775070290534208, 'gripping': 0.19775070290534208, 'intelligent': 0.19775070290534208, 'stage': 0.39550140581068416, 'overly': 0.19775070290534208, 'theatrical': 0.19775070290534208, 'plays': 0.19775070290534208, 'everyones': 0.19775070290534208, 'terror': 0.19775070290534208, 'lie': 0.19775070290534208, 'escalating': 0.19775070290534208, 'monstrous': 0.19775070290534208, 'consequences': 0.19775070290534208, 'main': 0.19775070290534208, 'players': 0.19775070290534208, 'mesmerising': 0.19775070290534208, 'tom': 0.19775070290534208, 'wilkinson': 0.19775070290534208, 'broke': 0.19775070290534208, 'elses': 0.19775070290534208, 'judging': 0.19775070290534208, 'fumbling': 0.19775070290534208, 'hankies': 0.19775070290534208, 'hands': 0.19775070290534208, 'faces': 0.19775070290534208, 'males': 0.19775070290534208, 'females': 0.19775070290534208, 'alike': 0.19775070290534208, 'julian': 0.19775070290534208, 'fellowes': 0.19775070290534208, 'triumphed': 0.19775070290534208}\n"
     ]
    }
   ],
   "source": [
    "def conditional_probability(word_freq_0, word_freq_1):\n",
    "  word_freq_0_probs = {}\n",
    "  word_freq_1_probs = {}\n",
    "\n",
    "  for word in word_freq_0:\n",
    "    word_freq_0_probs[word] = word_freq_0[word] / len(word_freq_0)\n",
    "\n",
    "  for word in word_freq_1:\n",
    "    word_freq_1_probs[word] = word_freq_1[word] / len(word_freq_1)\n",
    "\n",
    "  return word_freq_0_probs, word_freq_1_probs\n",
    "\n",
    "word_freq_0_probs, word_freq_1_probs = conditional_probability(word_freq_0, word_freq_1)\n",
    "print(word_freq_0_probs)\n",
    "print(word_freq_1_probs)"
   ]
  },
  {
   "cell_type": "code",
   "execution_count": 18,
   "metadata": {
    "id": "6R7yeGqpe5nu"
   },
   "outputs": [],
   "source": [
    "def accuracy(actual, predicted):\n",
    "  correct = 0\n",
    "  for i in range(len(actual)):\n",
    "    if actual[i] == predicted[i]:\n",
    "      correct = correct + 1\n",
    "  return correct / float(len(actual)) * 100.0"
   ]
  },
  {
   "cell_type": "code",
   "execution_count": 19,
   "metadata": {
    "colab": {
     "base_uri": "https://localhost:8080/"
    },
    "id": "xS0bTiQoc_l9",
    "outputId": "7e6a161e-0f0a-4be3-cbda-be578684d3e7"
   },
   "outputs": [
    {
     "name": "stdout",
     "output_type": "stream",
     "text": [
      "Accuracy on Train Dataset : 54.18410041841004 %\n"
     ]
    }
   ],
   "source": [
    "def fit(train_data):\n",
    "  y_preds = []\n",
    "  for sentence in train_data:\n",
    "    vocab, word_freq = tokenize(sentence)\n",
    "    vocab, word_freq = remove_stop_words(vocab, word_freq)\n",
    "\n",
    "    word_freq_0_probs, word_freq_1_probs = conditional_probability(word_freq_0, word_freq_1)\n",
    "    \n",
    "    liklihood_0 = 1\n",
    "    liklihood_1 = 1\n",
    "    \n",
    "    for word in vocab:\n",
    "      if not word in word_freq_0_probs:\n",
    "        word_freq_0_probs[word] = 0.0\n",
    "      \n",
    "      if not word in word_freq_1_probs:\n",
    "        word_freq_1_probs[word] = 0.0\n",
    "      \n",
    "      liklihood_0 = liklihood_0 * word_freq_0_probs[word]\n",
    "      liklihood_1 = liklihood_1 * word_freq_1_probs[word]\n",
    "\n",
    "    posterior_0 = prior_class_prob[0]*liklihood_0\n",
    "    posterior_1 = prior_class_prob[1]*liklihood_1\n",
    "    \n",
    "    if posterior_0 > posterior_1:\n",
    "      preds = 0\n",
    "    else:\n",
    "      preds = 1\n",
    "      \n",
    "    y_preds.append(preds)\n",
    "  return y_preds\n",
    "\n",
    "model = fit(X_train)\n",
    "\n",
    "train_accuracy = accuracy(model, y_train)\n",
    "print(f'Accuracy on Train Dataset : {train_accuracy} %')"
   ]
  },
  {
   "cell_type": "code",
   "execution_count": 20,
   "metadata": {
    "colab": {
     "base_uri": "https://localhost:8080/"
    },
    "id": "z1VXOHgJLGKS",
    "outputId": "df39898d-0247-4736-df1c-bbc829024448"
   },
   "outputs": [
    {
     "data": {
      "text/plain": [
       "0    A very very very slow moving aimless movie abo...\n",
       "1    Not sure who was more lost   the flat characte...\n",
       "2    Attempting artiness with black  white and clev...\n",
       "3            Very little music or anything to speak of\n",
       "4    The best scene in the movie was when Gerardo i...\n",
       "Name: review, dtype: object"
      ]
     },
     "execution_count": 20,
     "metadata": {},
     "output_type": "execute_result"
    }
   ],
   "source": [
    "X_train.head()"
   ]
  },
  {
   "cell_type": "code",
   "execution_count": 21,
   "metadata": {
    "id": "KdTpolPHjhrV"
   },
   "outputs": [],
   "source": [
    "# a method to predict or test our model\n",
    "def predict(test_data):\n",
    "  predd = []\n",
    "  for sentence in test_data:\n",
    "    vocab, word_freq = tokenize(sentence)\n",
    "    vocab, word_freq = remove_stop_words(vocab, word_freq)\n",
    "    # print(f'Vocab : {vocab}, word freq : {word_freq}')\n",
    "    liklihood_0 = 1\n",
    "    liklihood_1 = 1\n",
    "    for word in vocab:\n",
    "      if not word in word_freq_0_probs:\n",
    "        word_freq_0_probs[word] = 0.0\n",
    "      \n",
    "      if not word in word_freq_1_probs:\n",
    "        word_freq_1_probs[word] = 0.0\n",
    "      \n",
    "      liklihood_0 = liklihood_0 * word_freq_0_probs[word]\n",
    "      liklihood_1 = liklihood_1 * word_freq_1_probs[word]\n",
    "\n",
    "    posterior_0 = prior_class_prob[0]*liklihood_0\n",
    "    posterior_1 = prior_class_prob[1]*liklihood_1\n",
    "    \n",
    "    if posterior_0 > posterior_1:\n",
    "        y_pred = 0\n",
    "    else:\n",
    "        y_pred = 1\n",
    "\n",
    "    predd.append(y_pred)\n",
    "  return predd\n",
    "\n",
    "# test_pred = predict(X_test)\n",
    "\n",
    "# test_accuracy = accuracy(y_test.to_list(), test_pred)\n",
    "# print(f'Accuracy on Test Dataset : {test_accuracy} %')"
   ]
  },
  {
   "cell_type": "markdown",
   "metadata": {
    "id": "qf1ACh3p-q_I"
   },
   "source": [
    "### **d. Accuracy On validation/development dataset**"
   ]
  },
  {
   "cell_type": "code",
   "execution_count": 22,
   "metadata": {
    "colab": {
     "base_uri": "https://localhost:8080/",
     "height": 204
    },
    "id": "7qagwAIDEtZt",
    "outputId": "ca231c83-3924-44ca-f81c-0132bbb0691e"
   },
   "outputs": [
    {
     "data": {
      "text/html": [
       "<div>\n",
       "<style scoped>\n",
       "    .dataframe tbody tr th:only-of-type {\n",
       "        vertical-align: middle;\n",
       "    }\n",
       "\n",
       "    .dataframe tbody tr th {\n",
       "        vertical-align: top;\n",
       "    }\n",
       "\n",
       "    .dataframe thead th {\n",
       "        text-align: right;\n",
       "    }\n",
       "</style>\n",
       "<table border=\"1\" class=\"dataframe\">\n",
       "  <thead>\n",
       "    <tr style=\"text-align: right;\">\n",
       "      <th></th>\n",
       "      <th>review</th>\n",
       "      <th>sentiment</th>\n",
       "    </tr>\n",
       "  </thead>\n",
       "  <tbody>\n",
       "    <tr>\n",
       "      <th>478</th>\n",
       "      <td>Hes a national treasure</td>\n",
       "      <td>1</td>\n",
       "    </tr>\n",
       "    <tr>\n",
       "      <th>479</th>\n",
       "      <td>GO AND SEE IT</td>\n",
       "      <td>1</td>\n",
       "    </tr>\n",
       "    <tr>\n",
       "      <th>480</th>\n",
       "      <td>This is an excellent film</td>\n",
       "      <td>1</td>\n",
       "    </tr>\n",
       "    <tr>\n",
       "      <th>481</th>\n",
       "      <td>The aerial scenes were well done</td>\n",
       "      <td>1</td>\n",
       "    </tr>\n",
       "    <tr>\n",
       "      <th>482</th>\n",
       "      <td>It was also the right balance of war and love</td>\n",
       "      <td>1</td>\n",
       "    </tr>\n",
       "  </tbody>\n",
       "</table>\n",
       "</div>"
      ],
      "text/plain": [
       "                                            review  sentiment\n",
       "478                        Hes a national treasure          1\n",
       "479                                  GO AND SEE IT          1\n",
       "480                      This is an excellent film          1\n",
       "481               The aerial scenes were well done          1\n",
       "482  It was also the right balance of war and love          1"
      ]
     },
     "execution_count": 22,
     "metadata": {},
     "output_type": "execute_result"
    }
   ],
   "source": [
    "val_dataset.head()"
   ]
  },
  {
   "cell_type": "code",
   "execution_count": 23,
   "metadata": {
    "id": "DfG7YZnjHMbp"
   },
   "outputs": [],
   "source": [
    "# a method to split the dataset into given no of folds\n",
    "def cross_validation_split(dataset, n_folds):\n",
    "  dataset_split = []\n",
    "  dataset_copy = dataset\n",
    "  fold_size = int(len(dataset) / n_folds)\n",
    "  for _ in range(n_folds):\n",
    "    fold = []\n",
    "    while len(fold) < fold_size:\n",
    "      r = randrange(dataset_copy.shape[0])\n",
    "      index = dataset_copy.index[r]\n",
    "      fold.append(dataset_copy.loc[index].values.tolist())\n",
    "      dataset_copy = dataset_copy.drop(index)\n",
    "    dataset_split.append(fold)\n",
    "  return dataset_split"
   ]
  },
  {
   "cell_type": "code",
   "execution_count": 24,
   "metadata": {
    "id": "VGcpCiupOEQ1"
   },
   "outputs": [],
   "source": [
    "# a method to split the cross fold data into training & test data and calculate accuracies on all folds\n",
    "def kfold_cv(dataset, n_folds):\n",
    "  dataset_split = cross_validation_split(dataset, n_folds)\n",
    "  # print(np.array(dataset_split).shape)\n",
    "  kfold_accuracies = []\n",
    "  for i in range(n_folds):\n",
    "    r = list(range(n_folds)) # [0, 1, 2, 3, 4]\n",
    "    index = r.pop(i) # remove 1 fold data i:e test one\n",
    "    cv_test = dataset_split[index]\n",
    "    for j in r:\n",
    "      # print(\"r[0]\", r[0])\n",
    "      if j == r[0]:\n",
    "        cv_train = dataset_split[j]\n",
    "      else:\n",
    "        cv_train = np.concatenate((cv_train, dataset_split[j]), axis=0)\n",
    "    cv_train = pd.DataFrame(cv_train, columns=['review', 'sentiment'])\n",
    "    cv_test = pd.DataFrame(cv_test, columns=['review', 'sentiment'])\n",
    "    # print(cv_dataset)\n",
    "    fit(cv_train.review)\n",
    "    cv_preds = predict(cv_test.review)\n",
    "    cv_acc = accuracy(cv_test.sentiment, cv_preds)\n",
    "    kfold_accuracies.append(cv_acc)\n",
    "  return kfold_accuracies"
   ]
  },
  {
   "cell_type": "code",
   "execution_count": 25,
   "metadata": {
    "colab": {
     "base_uri": "https://localhost:8080/"
    },
    "id": "5Lpz8KpFgpcr",
    "outputId": "cbd274b3-2c2a-43a4-ca76-e9da5e60ebed"
   },
   "outputs": [
    {
     "name": "stdout",
     "output_type": "stream",
     "text": [
      "Accuracies on 5 fold validation/development dataset :  [66.66666666666666, 62.5, 62.5, 50.0, 54.166666666666664]\n"
     ]
    }
   ],
   "source": [
    "kfold_accuracies = kfold_cv(val_dataset, 5)\n",
    "print(\"Accuracies on 5 fold validation/development dataset : \", kfold_accuracies)"
   ]
  },
  {
   "cell_type": "code",
   "execution_count": 26,
   "metadata": {
    "colab": {
     "base_uri": "https://localhost:8080/"
    },
    "id": "IxdCo8uCmRXM",
    "outputId": "ec0ca117-6736-46eb-8197-1b4d9f1788fb"
   },
   "outputs": [
    {
     "name": "stdout",
     "output_type": "stream",
     "text": [
      "Before applying laplacian smoothing....\n",
      "Accuracy on Test Dataset : 68.0 %\n"
     ]
    }
   ],
   "source": [
    "print(\"Before applying laplacian smoothing....\")\n",
    "\n",
    "test_pred = predict(X_test)\n",
    "\n",
    "test_accuracy = accuracy(y_test.to_list(), test_pred)\n",
    "print(f'Accuracy on Test Dataset : {test_accuracy} %')"
   ]
  },
  {
   "cell_type": "markdown",
   "metadata": {
    "id": "r_dBYOgxdyvD"
   },
   "source": [
    "## **Laplace/Additive Smoothing**\n",
    "\n",
    "to handle the problem of Zero Probability"
   ]
  },
  {
   "cell_type": "markdown",
   "metadata": {
    "id": "I7qZOR0EZTIf"
   },
   "source": [
    "![image.png](data:image/png;base64,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)"
   ]
  },
  {
   "cell_type": "code",
   "execution_count": 27,
   "metadata": {
    "id": "mymUjE7rVgAx"
   },
   "outputs": [],
   "source": [
    "def laplace_conditional_probability(word_freq_0, word_freq_1, alpha):\n",
    "  word_freq_0_probs = {}\n",
    "  word_freq_1_probs = {}\n",
    "\n",
    "  for word in vocab:\n",
    "\n",
    "    for word in word_freq_0:\n",
    "      word_freq_0_probs[word] = (word_freq_0[word] + 1) / (len(word_freq_0) + 2*alpha)\n",
    "\n",
    "    for word in word_freq_1:\n",
    "      word_freq_1_probs[word] = (word_freq_1[word] + 1) / (len(word_freq_1) + 2*alpha)\n",
    "\n",
    "    return word_freq_0_probs, word_freq_1_probs"
   ]
  },
  {
   "cell_type": "code",
   "execution_count": 28,
   "metadata": {
    "id": "xgr9AfUrHarL"
   },
   "outputs": [],
   "source": [
    "# apply laplacian smoothing \n",
    "def predict(test_data, alpha):\n",
    "  predd = []\n",
    "  for sentence in test_data:\n",
    "    vocab, word_freq = tokenize(sentence)\n",
    "    vocab, word_freq = remove_stop_words(vocab, word_freq)\n",
    "    # print(f'Vocab : {vocab}, word freq : {word_freq}')\n",
    "    liklihood_0 = 1\n",
    "    liklihood_1 = 1\n",
    "    \n",
    "    for word in vocab:\n",
    "\n",
    "      if not word in word_freq_0:\n",
    "        word_freq_0[word] = 0\n",
    "    \n",
    "      if not word in word_freq_1:\n",
    "        word_freq_1[word] = 0\n",
    "\n",
    "      word_freq_0_probs, word_freq_1_probs = laplace_conditional_probability(word_freq_0, word_freq_1, alpha)\n",
    "\n",
    "      liklihood_0 = liklihood_0 * word_freq_0_probs[word]\n",
    "      liklihood_1 = liklihood_1 * word_freq_1_probs[word]\n",
    "\n",
    "    posterior_0 = prior_class_prob[0]*liklihood_0\n",
    "    posterior_1 = prior_class_prob[1]*liklihood_1\n",
    "    \n",
    "    if posterior_0 > posterior_1:\n",
    "        y_pred=0\n",
    "    else:\n",
    "        y_pred=1\n",
    "    \n",
    "    # return y_pred\n",
    "    predd.append(y_pred)\n",
    "  return predd"
   ]
  },
  {
   "cell_type": "code",
   "execution_count": 29,
   "metadata": {
    "colab": {
     "base_uri": "https://localhost:8080/"
    },
    "id": "-ZQVJ1VlYb0r",
    "outputId": "10de3c84-8fbb-4130-ea46-e620ee68e6cb"
   },
   "outputs": [
    {
     "name": "stdout",
     "output_type": "stream",
     "text": [
      "alpha = 0.0001, Accuracy = 50.0 %\n",
      "alpha = 0.001, Accuracy = 50.0 %\n",
      "alpha = 0.01, Accuracy = 50.0 %\n",
      "alpha = 0.1, Accuracy = 50.0 %\n",
      "alpha = 1, Accuracy = 50.0 %\n",
      "alpha = 10, Accuracy = 50.0 %\n",
      "alpha = 100, Accuracy = 48.0 %\n",
      "alpha = 1000, Accuracy = 47.333333333333336 %\n",
      "alpha = 10000, Accuracy = 46.0 %\n"
     ]
    }
   ],
   "source": [
    "alpha_values = [0.0001, 0.001, 0.01, 0.1, 1, 10, 100, 1000, 10000]\n",
    "lap_acc = []\n",
    "for alpha in alpha_values:\n",
    "  \n",
    "  alpha_preds = predict(X_test, alpha)\n",
    "  \n",
    "  alpha_accuracy = accuracy(y_test.to_list(), alpha_preds)\n",
    "  print(f'alpha = {alpha}, Accuracy = {alpha_accuracy} %')\n",
    "  lap_acc.append(alpha_accuracy)"
   ]
  },
  {
   "cell_type": "code",
   "execution_count": 30,
   "metadata": {
    "colab": {
     "base_uri": "https://localhost:8080/",
     "height": 282
    },
    "id": "Q4mlX2JDByL6",
    "outputId": "976b6fd1-e9cf-48f2-a2ce-a3c95bda62b4"
   },
   "outputs": [
    {
     "data": {
      "image/png": "[encoded data removed]",
      "text/plain": [
       "<Figure size 432x288 with 1 Axes>"
      ]
     },
     "metadata": {
      "needs_background": "light"
     },
     "output_type": "display_data"
    }
   ],
   "source": [
    "sns.lineplot(alpha_values, lap_acc)\n",
    "plt.xlabel('alpha')\n",
    "plt.ylabel('Accuracy')\n",
    "plt.show()"
   ]
  },
  {
   "cell_type": "markdown",
   "metadata": {
    "id": "w9_1CtaSCpcP"
   },
   "source": [
    "### **e. Top 10 words that predicts positive and negative class**"
   ]
  },
  {
   "cell_type": "code",
   "execution_count": 31,
   "metadata": {
    "colab": {
     "base_uri": "https://localhost:8080/"
    },
    "id": "kCuMJVuOoJfa",
    "outputId": "eef1b3b9-901e-4b93-c4fb-586122826f24"
   },
   "outputs": [
    {
     "name": "stdout",
     "output_type": "stream",
     "text": [
      "Top 10 Negative (0) words :\n",
      " ['movie', 'film', 'bad', 'acting', 'like', 'good', 'plot', 'time', 'characters', 'script']\n",
      "Top 10 Positive (1) words :\n",
      " ['movie', 'film', 'good', 'great', 'best', 'funny', 'characters', 'dont', 'think', 'like']\n"
     ]
    }
   ],
   "source": [
    "# gettting top 10 positive & negative words \n",
    "# top10_0 = dict(sorted(word_freq_0_probs.items(), key=operator.itemgetter(1),reverse=True)[:10])\n",
    "# print(f'Top 10 Negative (0) words : {top10_0.keys()}')\n",
    "# top10_1 = dict(sorted(word_freq_1_probs.items(), key=operator.itemgetter(1),reverse=True)[:10])\n",
    "# print(f'Top 10 Positive (1) words : {top10_1.keys()}')\n",
    "\n",
    "top10_0 = dict(sorted(word_freq_0_probs.items(), key=operator.itemgetter(1),reverse=True))\n",
    "top10_1 = dict(sorted(word_freq_1_probs.items(), key=operator.itemgetter(1),reverse=True))\n",
    "top10_neg = []\n",
    "i = 0\n",
    "for key, value in top10_0.items():\n",
    "    if (key not in stop_words_list) & (i < 10):\n",
    "        top10_neg.append(key)\n",
    "        i = i+1\n",
    "print(f'Top 10 Negative (0) words :\\n {top10_neg}')\n",
    "\n",
    "top10_pos = []\n",
    "i = 0\n",
    "for key, value in top10_1.items():\n",
    "    if (key not in stop_words_list) & (i < 10):\n",
    "        top10_pos.append(key)\n",
    "        i = i+1\n",
    "print(f'Top 10 Positive (1) words :\\n {top10_pos}')"
   ]
  },
  {
   "cell_type": "markdown",
   "metadata": {
    "id": "pCksKhLfC-4H"
   },
   "source": [
    "### **f. Calculate final Accuracy on test dataset using optimal hyperparameter found in e**"
   ]
  },
  {
   "cell_type": "markdown",
   "metadata": {
    "id": "BFxg1JdPoQwj"
   },
   "source": [
    "**Best Alpha Value = 0.0001**"
   ]
  },
  {
   "cell_type": "code",
   "execution_count": 32,
   "metadata": {
    "colab": {
     "base_uri": "https://localhost:8080/"
    },
    "id": "I5B0kJ_1gugJ",
    "outputId": "17f8658e-f0a0-4cc4-dd5c-7a5f6372958a"
   },
   "outputs": [
    {
     "name": "stdout",
     "output_type": "stream",
     "text": [
      "After applying laplace smoothing....\n",
      "Final Accuracy on Test Dataset using Laplace smoothing : 50.0 %\n"
     ]
    }
   ],
   "source": [
    "print(\"After applying laplace smoothing....\")\n",
    "alpha = 0.0001\n",
    "test_pred = predict(X_test, alpha)\n",
    "\n",
    "lap_test_accuracy = accuracy(y_test.to_list(), test_pred)\n",
    "print(f'Final Accuracy on Test Dataset using Laplace smoothing : {lap_test_accuracy} %')"
   ]
  },
  {
   "cell_type": "code",
   "execution_count": 33,
   "metadata": {
    "colab": {
     "base_uri": "https://localhost:8080/",
     "height": 267
    },
    "id": "2iUAWo2FFriz",
    "outputId": "c4536093-7d82-4259-d8c5-3b0546d13074"
   },
   "outputs": [
    {
     "data": {
      "image/png": "[encoded data removed]",
      "text/plain": [
       "<Figure size 432x288 with 1 Axes>"
      ]
     },
     "metadata": {
      "needs_background": "light"
     },
     "output_type": "display_data"
    }
   ],
   "source": [
    "x = ['Train', 'Test w/o Laplace', 'Test w Laplace']\n",
    "y = [train_accuracy, test_accuracy, lap_test_accuracy]\n",
    "sns.barplot(x, y)\n",
    "plt.show()"
   ]
  },
  {
   "cell_type": "markdown",
   "metadata": {
    "id": "CDYRG3BW41wC"
   },
   "source": [
    "## References\n",
    "\n",
    "https://colab.research.google.com/github/bentrevett/pytorch-sentiment-analysis/blob/master/1%20-%20Simple%20Sentiment%20Analysis.ipynb#scrollTo=szrrr5iE3oGj\n",
    "\n",
    "https://pytorch.org/text/stable/datasets.html\n",
    "\n",
    "https://www.freecodecamp.org/news/an-introduction-to-bag-of-words-and-how-to-code-it-in-python-for-nlp-282e87a9da04/\n",
    "\n",
    "https://medium.com/analytics-vidhya/naive-bayes-classifier-for-text-classification-556fabaf252b\n",
    "\n",
    "http://datamine.unc.edu/jupyter/notebooks/Text%20Mining%20Modules/(1)%20Text%20Preprocessing.ipynb\n",
    "\n",
    "https://www.coursera.org/lecture/classification-vector-spaces-in-nlp/laplacian-smoothing-2jMPy\n",
    "\n",
    "https://machinelearningmastery.com/implement-machine-learning-algorithm-performance-metrics-scratch-python/\n",
    "\n",
    "https://monkeylearn.com/blog/practical-explanation-naive-bayes-classifier/\n",
    "\n",
    "https://machinelearningmastery.com/implement-resampling-methods-scratch-python/\n",
    "\n",
    "https://scikit-learn.org/stable/modules/cross_validation.html\n",
    "\n",
    "https://machinelearningmastery.com/naive-bayes-classifier-scratch-python/\n",
    "\n",
    "\n",
    "https://www.kaggle.com/burhanykiyakoglu/k-nn-logistic-regression-k-fold-cv-from-scratch/notebook\n",
    "\n",
    "https://stackoverflow.com/questions/7197315/5-maximum-values-in-a-python-dictionary\n",
    "\n",
    "https://stackoverflow.com/questions/29270917/removing-custom-stop-words-form-a-phrase-in-python\n",
    "\n",
    "https://medium.com/@sanjeethboddi/naive-bayes-algorithm-from-scratch-715d7cc0de53\n",
    "\n",
    "https://towardsdatascience.com/text-pre-processing-stop-words-removal-using-different-libraries-f20bac19929a\n",
    "\n"
   ]
  }
 ],
 "metadata": {
  "colab": {
   "collapsed_sections": [],
   "name": "nbc.ipynb",
   "provenance": []
  },
  "kernelspec": {
   "display_name": "Python 3",
   "language": "python",
   "name": "python3"
  },
  "language_info": {
   "codemirror_mode": {
    "name": "ipython",
    "version": 3
   },
   "file_extension": ".py",
   "mimetype": "text/x-python",
   "name": "python",
   "nbconvert_exporter": "python",
   "pygments_lexer": "ipython3",
   "version": "3.8.3"
  }
 },
 "nbformat": 4,
 "nbformat_minor": 1
}
