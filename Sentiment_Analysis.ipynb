{
 "cells": [
  {
   "cell_type": "code",
   "execution_count": 1,
   "metadata": {
    "id": "jkSXRpEXVfbG"
   },
   "outputs": [],
   "source": [
    "import numpy as np\n",
    "import pandas as pd\n",
    "import matplotlib.pyplot as plt\n",
    "%matplotlib inline\n",
    "import seaborn as sns\n",
    "import re\n",
    "\n",
    "from random import seed\n",
    "from random import randrange\n",
    "import operator\n",
    "import warnings\n",
    "warnings.filterwarnings(\"ignore\")"
   ]
  },
  {
   "cell_type": "code",
   "execution_count": 2,
   "metadata": {
    "colab": {
     "base_uri": "https://localhost:8080/"
    },
    "id": "3yfkYQVuVlQx",
    "outputId": "17790fd8-000e-4a82-f718-8dbf75bdbf82"
   },
   "outputs": [
    {
     "name": "stdout",
     "output_type": "stream",
     "text": [
      "(748, 2)\n",
      "(1000, 2)\n",
      "(1000, 2)\n"
     ]
    }
   ],
   "source": [
    "# loading the imdb dataset\n",
    "imdb_df = pd.read_csv('data/imdb_labelled.txt' , delimiter='\\t', names=['review', 'sentiment'])\n",
    "print(imdb_df.shape)\n",
    "\n",
    "# loading the amazon dataset\n",
    "amazon_df = pd.read_csv('data/amazon_cells_labelled.txt', delimiter='\\t', header=None, names=['review', 'sentiment'])\n",
    "print(amazon_df.shape)\n",
    "\n",
    "# loading the yelp dataset\n",
    "yelp_df = pd.read_csv('data/yelp_labelled.txt', delimiter='\\t', header=None, names=['review', 'sentiment'] )\n",
    "print(yelp_df.shape)"
   ]
  },
  {
   "cell_type": "code",
   "execution_count": 3,
   "metadata": {
    "colab": {
     "base_uri": "https://localhost:8080/",
     "height": 204
    },
    "id": "SF1GAWN9vvjq",
    "outputId": "b5b0629d-a152-407b-f49c-27123b8a486b"
   },
   "outputs": [
    {
     "data": {
      "text/html": [
       "<div>\n",
       "<style scoped>\n",
       "    .dataframe tbody tr th:only-of-type {\n",
       "        vertical-align: middle;\n",
       "    }\n",
       "\n",
       "    .dataframe tbody tr th {\n",
       "        vertical-align: top;\n",
       "    }\n",
       "\n",
       "    .dataframe thead th {\n",
       "        text-align: right;\n",
       "    }\n",
       "</style>\n",
       "<table border=\"1\" class=\"dataframe\">\n",
       "  <thead>\n",
       "    <tr style=\"text-align: right;\">\n",
       "      <th></th>\n",
       "      <th>review</th>\n",
       "      <th>sentiment</th>\n",
       "    </tr>\n",
       "  </thead>\n",
       "  <tbody>\n",
       "    <tr>\n",
       "      <th>0</th>\n",
       "      <td>A very, very, very slow-moving, aimless movie ...</td>\n",
       "      <td>0</td>\n",
       "    </tr>\n",
       "    <tr>\n",
       "      <th>1</th>\n",
       "      <td>Not sure who was more lost - the flat characte...</td>\n",
       "      <td>0</td>\n",
       "    </tr>\n",
       "    <tr>\n",
       "      <th>2</th>\n",
       "      <td>Attempting artiness with black &amp; white and cle...</td>\n",
       "      <td>0</td>\n",
       "    </tr>\n",
       "    <tr>\n",
       "      <th>3</th>\n",
       "      <td>Very little music or anything to speak of.</td>\n",
       "      <td>0</td>\n",
       "    </tr>\n",
       "    <tr>\n",
       "      <th>4</th>\n",
       "      <td>The best scene in the movie was when Gerardo i...</td>\n",
       "      <td>1</td>\n",
       "    </tr>\n",
       "  </tbody>\n",
       "</table>\n",
       "</div>"
      ],
      "text/plain": [
       "                                              review  sentiment\n",
       "0  A very, very, very slow-moving, aimless movie ...          0\n",
       "1  Not sure who was more lost - the flat characte...          0\n",
       "2  Attempting artiness with black & white and cle...          0\n",
       "3       Very little music or anything to speak of.            0\n",
       "4  The best scene in the movie was when Gerardo i...          1"
      ]
     },
     "execution_count": 3,
     "metadata": {},
     "output_type": "execute_result"
    }
   ],
   "source": [
    "dataset = imdb_df\n",
    "dataset.head()"
   ]
  },
  {
   "cell_type": "code",
   "execution_count": 4,
   "metadata": {
    "colab": {
     "base_uri": "https://localhost:8080/"
    },
    "id": "nV9AvUIRAdjB",
    "outputId": "3836af9f-c50b-4622-8dd6-8bf081ea655d"
   },
   "outputs": [
    {
     "name": "stdout",
     "output_type": "stream",
     "text": [
      "<class 'pandas.core.frame.DataFrame'>\n",
      "RangeIndex: 748 entries, 0 to 747\n",
      "Data columns (total 2 columns):\n",
      " #   Column     Non-Null Count  Dtype \n",
      "---  ------     --------------  ----- \n",
      " 0   review     748 non-null    object\n",
      " 1   sentiment  748 non-null    int64 \n",
      "dtypes: int64(1), object(1)\n",
      "memory usage: 11.8+ KB\n"
     ]
    }
   ],
   "source": [
    "dataset.info()"
   ]
  },
  {
   "cell_type": "code",
   "execution_count": 5,
   "metadata": {
    "colab": {
     "base_uri": "https://localhost:8080/"
    },
    "id": "GVsvJKcJAoii",
    "outputId": "505b52c7-2d62-4ef8-bdfa-47f6b856937d"
   },
   "outputs": [
    {
     "data": {
      "text/plain": [
       "review       0\n",
       "sentiment    0\n",
       "dtype: int64"
      ]
     },
     "execution_count": 5,
     "metadata": {},
     "output_type": "execute_result"
    }
   ],
   "source": [
    "dataset.isnull().sum()"
   ]
  },
  {
   "cell_type": "code",
   "execution_count": 6,
   "metadata": {
    "colab": {
     "base_uri": "https://localhost:8080/"
    },
    "id": "mcrBWWhOA_Yv",
    "outputId": "53030664-cdc6-45d5-9efb-924d325ae062"
   },
   "outputs": [
    {
     "data": {
      "text/plain": [
       "1    386\n",
       "0    362\n",
       "Name: sentiment, dtype: int64"
      ]
     },
     "execution_count": 6,
     "metadata": {},
     "output_type": "execute_result"
    }
   ],
   "source": [
    "dataset.sentiment.value_counts()"
   ]
  },
  {
   "cell_type": "code",
   "execution_count": 7,
   "metadata": {
    "colab": {
     "base_uri": "https://localhost:8080/",
     "height": 280
    },
    "id": "ddVjkzUW9zl_",
    "outputId": "009716ec-c8a7-4eaa-f3ea-a6b11b92b4a6"
   },
   "outputs": [
    {
     "data": {
      "image/png": "[encoded data removed]",
      "text/plain": [
       "<Figure size 432x288 with 1 Axes>"
      ]
     },
     "metadata": {
      "needs_background": "light"
     },
     "output_type": "display_data"
    }
   ],
   "source": [
    "sns.countplot(x='sentiment', data=dataset)\n",
    "plt.show()"
   ]
  },
  {
   "cell_type": "code",
   "execution_count": 8,
   "metadata": {
    "id": "SlULMZLkvLF1"
   },
   "outputs": [],
   "source": [
    "def remove_special_characters(text):\n",
    "\n",
    "    text = text.replace('-', ' ')\n",
    "    text = text.replace('\\t', '')\n",
    "    text = text.replace('\\n', '')\n",
    "    text = text.replace(' +', '')\n",
    "    \n",
    "    pattern = r'[^a-zA-z\\s]'\n",
    "    \n",
    "    text = re.sub(pattern, '', text)\n",
    "    text = text.rstrip()\n",
    "\n",
    "    return text\n",
    "\n",
    "dataset['review'] = dataset['review'].apply(remove_special_characters)\n",
    "# text = '.'.join(dataset.review)\n",
    "# text"
   ]
  },
  {
   "cell_type": "code",
   "execution_count": 9,
   "metadata": {
    "colab": {
     "base_uri": "https://localhost:8080/"
    },
    "id": "sq5WpGYE84cP",
    "outputId": "0b323558-8d00-48a4-b7ab-1bef611f00af"
   },
   "outputs": [
    {
     "name": "stdout",
     "output_type": "stream",
     "text": [
      "training data shape: (478, 2)\n",
      "validation/development data shape: (120, 2)\n",
      "testing data shape: (150, 2)\n"
     ]
    }
   ],
   "source": [
    "# divide the dataset into train, development & test\n",
    "# first the train & test data with 80 & 20 ratio\n",
    "ratio = 0.8\n",
    "\n",
    "train_len = int(ratio * len(dataset))\n",
    "total_train_data = dataset[0:train_len]\n",
    "test_dataset = dataset[train_len:]\n",
    "\n",
    "# now divide into val dataset from training dataset with 80 & 20 ratio\n",
    "new_train_len = int(ratio * len(total_train_data))\n",
    "\n",
    "train_dataset = total_train_data[0:new_train_len]\n",
    "val_dataset = total_train_data[new_train_len:]\n",
    "\n",
    "print(f'training data shape: {train_dataset.shape}')\n",
    "print(f'validation/development data shape: {val_dataset.shape}')\n",
    "print(f'testing data shape: {test_dataset.shape}')"
   ]
  },
  {
   "cell_type": "code",
   "execution_count": 10,
   "metadata": {
    "id": "96U2HLIHxuyl"
   },
   "outputs": [],
   "source": [
    "# dataset = dataset.sample(len(dataset))"
   ]
  },
  {
   "cell_type": "code",
   "execution_count": 11,
   "metadata": {
    "id": "sLIsfRc3-rZI"
   },
   "outputs": [],
   "source": [
    "X_train = train_dataset['review']\n",
    "y_train = train_dataset['sentiment']\n",
    "# X_train.shape\n",
    "\n",
    "X_val = val_dataset['review']\n",
    "y_val = val_dataset['sentiment']\n",
    "# X_val.shape\n",
    "\n",
    "X_test = test_dataset['review']\n",
    "y_test = test_dataset['sentiment']\n",
    "# X_test.shape"
   ]
  },
  {
   "cell_type": "markdown",
   "metadata": {
    "id": "E9HwswgMi1JJ"
   },
   "source": [
    "0 - Negative Review\n",
    "1 - Positive Review\n",
    "\n",
    "### **3. Calculate prior probabilities**"
   ]
  },
  {
   "cell_type": "code",
   "execution_count": 12,
   "metadata": {
    "colab": {
     "base_uri": "https://localhost:8080/"
    },
    "id": "yBM7ctXL9vLe",
    "outputId": "ad2bf058-f09c-4118-acd0-a2b8fb699688"
   },
   "outputs": [
    {
     "name": "stdout",
     "output_type": "stream",
     "text": [
      "Total 0 (negative) review in train dataset : 267\n",
      "Total 1 (positive) review in train dataset : 211\n"
     ]
    }
   ],
   "source": [
    "review_0_train = train_dataset.loc[train_dataset.sentiment == 0]\n",
    "print(f'Total 0 (negative) review in train dataset : {len(review_0_train)}')\n",
    "\n",
    "review_1_train = train_dataset.loc[train_dataset.sentiment == 1]\n",
    "print(f'Total 1 (positive) review in train dataset : {len(review_1_train)}')"
   ]
  },
  {
   "cell_type": "code",
   "execution_count": 13,
   "metadata": {
    "colab": {
     "base_uri": "https://localhost:8080/"
    },
    "id": "QBsb_Z0FVvY7",
    "outputId": "063d6ca6-f2c1-4821-e34c-65d7ba9bd92e"
   },
   "outputs": [
    {
     "name": "stdout",
     "output_type": "stream",
     "text": [
      "prior probability of class 0 (negative) : 0.5585774058577406\n",
      "prior probability of class 1 (positive) : 0.44142259414225943\n"
     ]
    }
   ],
   "source": [
    "# let's calculate the prior class (0 & 1) probabilities\n",
    "def calculate_prior_class_prob(y_train):\n",
    "  prior_class_prob = {}\n",
    "  for c in np.unique(y_train):\n",
    "    count = sum(y_train == c)\n",
    "    prior_class_prob[c] = count / y_train.size\n",
    "  return prior_class_prob\n",
    "\n",
    "prior_class_prob = calculate_prior_class_prob(y_train)\n",
    "print(f'prior probability of class 0 (negative) : {prior_class_prob[0]}')\n",
    "print(f'prior probability of class 1 (positive) : {prior_class_prob[1]}')"
   ]
  },
  {
   "cell_type": "code",
   "execution_count": 14,
   "metadata": {
    "id": "JtxoLdlVJeiK"
   },
   "outputs": [],
   "source": [
    "def tokenize(sentence):\n",
    "  vocab = []\n",
    "  word_freq = {}\n",
    "  for word in sentence.split(' '):\n",
    "    word = word.lower()\n",
    "    if word not in word_freq.keys():\n",
    "      word_freq[word] = 1\n",
    "      vocab.append(word)\n",
    "    else:\n",
    "      word_freq[word] += 1\n",
    "  \n",
    "  return vocab, word_freq"
   ]
  },
  {
   "cell_type": "code",
   "execution_count": 15,
   "metadata": {
    "id": "w-PpONgAtE9D"
   },
   "outputs": [],
   "source": [
    "stop_words_list = ['those', 'on', 'own', 'yourselves', 'ie', 'around', 'between', \n",
    "                   'four', 'been', 'alone', 'off', 'am', 'then', 'other', 'can', \n",
    "                   'cry', 'regarding', 'hereafter', 'front', 'too', 'used', \n",
    "                   'wherein', 'doing', 'everything', 'up', 'never', 'onto', 'how', \n",
    "                   'either', 'before', 'anyway', 'since', 'through', 'amount', \n",
    "                   'now', 'he', 'cant', 'was', 'con', 'have', 'into', 'because', \n",
    "                   'inc', 'not', 'therefore', 'they', 'even', 'whom', 'it', 'see', \n",
    "                   'somewhere', 'interest', 'thereupon', 'thick', 'nothing', \n",
    "                   'whereas', 'much', 'whenever', 'find', 'seem', 'until', \n",
    "                   'whereby', 'at', 'ltd', 'fire', 'also', 'some', 'last', 'than', \n",
    "                   'get', 'already', 'our', 'doesn', 'once', 'will', 'noone', \n",
    "                   'that', 'what', 'thus', 'no', 'myself', 'out', 'next', 'whatever', \n",
    "                   'although', 'though', 'etc', 'which', 'would', 'therein', 'nor', \n",
    "                   'somehow', 'whereupon', 'besides', 'whoever', 'thin', 'ourselves', \n",
    "                   'few', 'did', 'third', 'without', 'twelve', 'anything', 'against', \n",
    "                   'while', 'twenty', 'if', 'however', 'found', 'herself', 'when', \n",
    "                   'may', 'six', 'ours', 'done', 'seems', 'else', 'call', 'perhaps', \n",
    "                   'had', 'nevertheless', 'fill', 'where', 'otherwise', 'still', \n",
    "                   'within', 'its', 'for', 'together', 'elsewhere', 'throughout', \n",
    "                   'of', 'eg', 'others', 'show', 'sincere', 'anywhere', 'anyhow', \n",
    "                   'as', 'are', 'the', 'hence', 'something', 'hereby', 'nowhere', \n",
    "                   'latterly', 'de', 'say', 'does', 'neither', 'his', 'go', 'forty', \n",
    "                   'put', 'their', 'by', 'namely', 'km', 'could', 'five', 'unless', \n",
    "                   'itself', 'is', 'nine', 'whereafter', 'down', 'bottom', 'thereby', \n",
    "                   'such', 'both', 'she', 'become', 'whole', 'who', 'yourself', \n",
    "                   'every', 'thru', 'except', 'very', 'several', 'among', 'being', \n",
    "                   'be', 'mine', 'further', 'here', 'during', 'why', 'with', 'just', \n",
    "                   'becomes', 'about', 'a', 'co', 'using', 'seeming', 'due', \n",
    "                   'wherever', 'beforehand', 'detail', 'fifty', 'becoming', 'might', \n",
    "                   'amongst', 'my', 'empty', 'thence', 'thereafter', 'almost', \n",
    "                   'least', 'someone', 'often', 'from', 'keep', 'him', 'or', 'top', \n",
    "                   'her', 'didn', 'nobody', 'sometime', 'across', 'hundred', 'only', \n",
    "                   'via', 'name', 'eight', 'three', 'back', 'to', 'all', 'became', 'move', \n",
    "                   'me', 'we', 'formerly', 'so', 'i', 'whence', 'describe', 'under', \n",
    "                   'always', 'himself', 'more', 'herein', 'in', 'after', 'themselves', \n",
    "                   'you', 'them', 'above', 'sixty', 'hasnt', 'your', 'made', 'everywhere', \n",
    "                   'indeed', 'most', 'kg', 'fifteen', 'but', 'must', 'along', 'beside', \n",
    "                   'hers', 'computer', 'side', 'former', 'full', 'anyone', 'has', 'yours', \n",
    "                   'whose', 'behind', 'please', 'mill', 'amoungst', 'ten', 'seemed', \n",
    "                   'sometimes', 'should', 'over', 'take', 'each', 'don', 'same', \n",
    "                   'rather', 'really', 'latter', 'and', 'part', 'hereupon', 'per', \n",
    "                   'eleven', 'ever', 'enough', 'again', 'us', 'yet', 'moreover', \n",
    "                   'mostly', 'one', 'meanwhile', 'whither', 'there', 'toward', 'give', \n",
    "                   'system', 'do', 'quite', 'an', 'these', 'everyone', 'towards', 'this', \n",
    "                   'bill', 'cannot', 'un', 'afterwards', 'beyond', 'make', 'were', \n",
    "                   'whether', 'well', 'another', 'below', 'first', 'upon', 'any', \n",
    "                   'none', 'many', 'various', 'serious', 're', 'two', 'less', 'couldnt', 'so', 'didnt', '']\n",
    "\n",
    "\n",
    "def remove_stop_words(v, wf):\n",
    "  for w in list(v):\n",
    "    if w in stop_words_list:\n",
    "      del wf[w]\n",
    "      v.remove(w)\n",
    "  return v, wf"
   ]
  },
  {
   "cell_type": "code",
   "execution_count": 16,
   "metadata": {
    "colab": {
     "base_uri": "https://localhost:8080/"
    },
    "id": "f9xEnZKK89PC",
    "outputId": "3f8b7e94-510d-4645-fe0a-6e4193c48481"
   },
   "outputs": [
    {
     "name": "stdout",
     "output_type": "stream",
     "text": [
      "Total no of Review Vocab/Features : 2143\n",
      "Total no of Negative Review Vocab/Features : 1458\n",
      "Total no of Positive Review Vocab/Features : 1034\n"
     ]
    }
   ],
   "source": [
    "# build the vocabulary as list\n",
    "def tokenize_all(data):\n",
    "  vocab = []\n",
    "  word_freq = {}\n",
    "  for i in range(len(data)):\n",
    "    for sentence in data:\n",
    "      sentence = remove_special_characters(sentence)\n",
    "      for word in sentence.split(' '):\n",
    "        word = word.lower()\n",
    "        if word not in word_freq.keys():\n",
    "          word_freq[word] = 1\n",
    "          vocab.append(word)\n",
    "        else:\n",
    "          word_freq[word] += 1\n",
    "  \n",
    "  return vocab, word_freq\n",
    "\n",
    "vocab, word_freq = tokenize_all(X_train)\n",
    "vocab, word_freq = remove_stop_words(vocab, word_freq)\n",
    "print(f\"Total no of Review Vocab/Features : {len(vocab)}\")\n",
    "\n",
    "vocab_0, word_freq_0 = tokenize_all(review_0_train.review)\n",
    "vocab_0, word_freq_0 = remove_stop_words(vocab_0, word_freq_0)\n",
    "print(f\"Total no of Negative Review Vocab/Features : {len(vocab_0)}\")\n",
    "\n",
    "vocab_1, word_freq_1 = tokenize_all(review_1_train.review)\n",
    "vocab_1, word_freq_1 = remove_stop_words(vocab_1, word_freq_1)\n",
    "print(f\"Total no of Positive Review Vocab/Features : {len(vocab_1)}\")"
   ]
  },
  {
   "cell_type": "markdown",
   "metadata": {
    "id": "c13ziqx3EBc1"
   },
   "source": [
    "### **Calculate conditional probabilities based on sentiments**"
   ]
  },
  {
   "cell_type": "code",
   "execution_count": 17,
   "metadata": {
    "colab": {
     "base_uri": "https://localhost:8080/"
    },
    "id": "aEikiVhJk6EA",
    "outputId": "2623e57c-b9cd-4a9c-ab2b-140c716a3589"
   },
   "outputs": [
    {
     "name": "stdout",
     "output_type": "stream",
     "text": [
      "{'slow': 0.5493827160493827, 'moving': 0.3662551440329218, 'aimless': 0.1831275720164609, 'movie': 14.283950617283951, 'distressed': 0.1831275720164609, 'drifting': 0.1831275720164609, 'young': 0.3662551440329218, 'man': 0.9156378600823045, 'sure': 0.5493827160493827, 'lost': 0.1831275720164609, 'flat': 0.3662551440329218, 'characters': 2.5637860082304527, 'audience': 0.3662551440329218, 'nearly': 0.1831275720164609, 'half': 0.9156378600823045, 'walked': 0.1831275720164609, 'attempting': 0.1831275720164609, 'artiness': 0.1831275720164609, 'black': 0.7325102880658436, 'white': 0.1831275720164609, 'clever': 0.3662551440329218, 'camera': 0.7325102880658436, 'angles': 0.1831275720164609, 'disappointed': 0.7325102880658436, 'ridiculous': 0.7325102880658436, 'acting': 3.662551440329218, 'poor': 1.0987654320987654, 'plot': 3.1131687242798356, 'lines': 0.9156378600823045, 'non': 0.7325102880658436, 'existent': 0.1831275720164609, 'little': 2.01440329218107, 'music': 0.7325102880658436, 'speak': 0.3662551440329218, 'rest': 0.5493827160493827, 'lacks': 0.9156378600823045, 'art': 0.7325102880658436, 'charm': 0.3662551440329218, 'meaning': 0.3662551440329218, 'emptiness': 0.1831275720164609, 'works': 0.3662551440329218, 'guess': 0.7325102880658436, 'wasted': 1.2818930041152263, 'hours': 0.7325102880658436, 'bit': 0.7325102880658436, 'predictable': 0.9156378600823045, 'average': 0.5493827160493827, 'main': 0.1831275720164609, 'person': 0.1831275720164609, 'low': 0.7325102880658436, 'budget': 0.5493827160493827, 'clearly': 0.3662551440329218, 'structure': 0.1831275720164609, 'film': 10.987654320987655, 'easily': 0.3662551440329218, 'tightly': 0.1831275720164609, 'constructed': 0.1831275720164609, 'history': 0.3662551440329218, 'cinema': 0.5493827160493827, 'think': 1.2818930041152263, 'vitally': 0.1831275720164609, 'important': 0.3662551440329218, 'occurs': 0.1831275720164609, 'minute': 0.5493827160493827, 'words': 0.3662551440329218, 'content': 0.1831275720164609, 'level': 0.3662551440329218, 'dozen': 0.1831275720164609, 'films': 2.380658436213992, 'right': 0.3662551440329218, 'mind': 0.3662551440329218, 'ask': 0.1831275720164609, 'simply': 1.2818930041152263, 'highest': 0.1831275720164609, 'superlative': 0.1831275720164609, 'form': 0.1831275720164609, 'imaginable': 0.3662551440329218, 'yes': 0.5493827160493827, 'require': 0.1831275720164609, 'significant': 0.5493827160493827, 'puzzle': 0.1831275720164609, 'solving': 0.1831275720164609, 'pieces': 0.3662551440329218, 'fit': 0.3662551440329218, 'create': 0.1831275720164609, 'beautiful': 0.5493827160493827, 'picture': 0.5493827160493827, 'short': 0.5493827160493827, 'certainly': 1.0987654320987654, 'pulls': 0.1831275720164609, 'punches': 0.1831275720164609, 'graphics': 0.5493827160493827, 'far': 0.5493827160493827, 'best': 1.4650205761316872, 'game': 1.2818930041152263, 'number': 0.1831275720164609, 'th': 0.3662551440329218, 'series': 0.5493827160493827, 'deserves': 0.1831275720164609, 'strong': 0.1831275720164609, 'love': 1.2818930041152263, 'insane': 0.1831275720164609, 'massive': 0.5493827160493827, 'levels': 0.3662551440329218, 'unlockable': 0.1831275720164609, 'waste': 1.4650205761316872, 'money': 0.5493827160493827, 'kind': 1.0987654320987654, 'properly': 0.1831275720164609, 'actually': 0.1831275720164609, 'good': 3.2962962962962963, 'time': 2.9300411522633745, 'today': 0.1831275720164609, 'crap': 0.9156378600823045, 'canada': 0.1831275720164609, 'fun': 0.1831275720164609, 'aye': 0.1831275720164609, 'rocks': 0.1831275720164609, 'buy': 0.1831275720164609, 'play': 0.3662551440329218, 'enjoy': 0.3662551440329218, 'pure': 0.5493827160493827, 'brilliance': 0.1831275720164609, 'flick': 0.7325102880658436, 'doomed': 0.1831275720164609, 'conception': 0.1831275720164609, 'idea': 0.7325102880658436, 'lame': 0.5493827160493827, 'minor': 0.1831275720164609, 'character': 1.4650205761316872, 'mediocre': 0.3662551440329218, 'pg': 0.7325102880658436, 'complete': 0.1831275720164609, 'sequel': 0.3662551440329218, 'changing': 0.1831275720164609, 'tone': 0.1831275720164609, 'rated': 0.3662551440329218, 'family': 0.1831275720164609, 'wasnt': 0.7325102880658436, 'interested': 0.1831275720164609, 'confirm': 0.1831275720164609, 'unfunny': 0.3662551440329218, 'generic': 0.1831275720164609, 'managed': 0.1831275720164609, 'away': 0.5493827160493827, 'entire': 0.3662551440329218, 'im': 1.2818930041152263, 'exaggerating': 0.1831275720164609, 'moment': 0.1831275720164609, 'point': 0.3662551440329218, 'joke': 0.3662551440329218, 'told': 0.3662551440329218, 'trailer': 0.1831275720164609, 'funny': 0.9156378600823045, 'talented': 0.3662551440329218, 'carrell': 0.1831275720164609, 'save': 0.1831275720164609, 'stars': 0.1831275720164609, 'dont': 1.6481481481481481, 'fare': 0.1831275720164609, 'better': 1.0987654320987654, 'people': 0.7325102880658436, 'like': 3.662551440329218, 'morgan': 0.1831275720164609, 'freeman': 0.1831275720164609, 'jonah': 0.1831275720164609, 'hill': 0.1831275720164609, 'ed': 0.1831275720164609, 'helms': 0.1831275720164609, 'story': 1.831275720164609, 'lazy': 0.1831275720164609, 'real': 1.6481481481481481, 'effects': 0.3662551440329218, 'work': 2.380658436213992, 'presence': 0.1831275720164609, 'animals': 0.1831275720164609, 'integration': 0.1831275720164609, 'scenes': 1.6481481481481481, 'worst': 0.9156378600823045, 'obvious': 0.3662551440329218, 'bluegreen': 0.1831275720164609, 'screen': 1.2818930041152263, 'ive': 0.7325102880658436, 'seen': 1.2818930041152263, 'cost': 0.3662551440329218, 'translate': 0.1831275720164609, 'quality': 0.1831275720164609, 'thats': 0.7325102880658436, 'succeeds': 0.1831275720164609, 'despite': 0.1831275720164609, 'obviously': 0.3662551440329218, 'meagre': 0.1831275720164609, 'glad': 0.5493827160493827, 'choice': 0.3662551440329218, 'lesser': 0.1831275720164609, 'addition': 0.3662551440329218, 'having': 0.5493827160493827, 'lovely': 0.1831275720164609, 'songs': 0.5493827160493827, 'written': 0.7325102880658436, 'french': 0.3662551440329218, 'cancan': 0.1831275720164609, 'boasts': 0.1831275720164609, 'cutest': 0.1831275720164609, 'leading': 0.1831275720164609, 'ladies': 0.1831275720164609, 'grace': 0.1831275720164609, 'hard': 0.7325102880658436, 'fall': 0.1831275720164609, 'head': 0.3662551440329218, 'heels': 0.1831275720164609, 'girl': 0.9156378600823045, 'negative': 0.5493827160493827, 'insipid': 0.1831275720164609, 'cause': 0.3662551440329218, 'regret': 0.1831275720164609, 'life': 0.7325102880658436, 'long': 0.3662551440329218, 'whiny': 0.1831275720164609, 'pointless': 0.1831275720164609, 'recommend': 0.7325102880658436, 'waiting': 0.1831275720164609, 'future': 0.1831275720164609, 'efforts': 0.1831275720164609, 'let': 0.5493827160493827, 'excellent': 0.9156378600823045, 'cast': 1.0987654320987654, 'line': 1.0987654320987654, 'performances': 0.7325102880658436, 'totally': 1.4650205761316872, 'believable': 0.3662551440329218, 'anne': 0.1831275720164609, 'heche': 0.1831275720164609, 'utterly': 0.5493827160493827, 'convincing': 0.3662551440329218, 'sam': 0.1831275720164609, 'shepards': 0.1831275720164609, 'portrayal': 0.1831275720164609, 'gung': 0.1831275720164609, 'ho': 0.1831275720164609, 'marine': 0.1831275720164609, 'sobering': 0.1831275720164609, 'sat': 0.1831275720164609, 'riveted': 0.1831275720164609, 'tv': 0.5493827160493827, 'resounding': 0.1831275720164609, 'tom': 0.1831275720164609, 'hanks': 0.1831275720164609, 'actor': 0.3662551440329218, 'enjoyed': 0.3662551440329218, 'reading': 0.1831275720164609, 'book': 0.1831275720164609, 'children': 0.3662551440329218, 'annoying': 1.0987654320987654, 'voice': 0.3662551440329218, 'gives': 0.3662551440329218, 'feeling': 1.0987654320987654, 'fingernails': 0.1831275720164609, 'chalkboard': 0.1831275720164609, 'unnecessary': 0.1831275720164609, 'trainroller': 0.1831275720164609, 'coaster': 0.1831275720164609, 'scene': 0.9156378600823045, 'absolutely': 0.7325102880658436, 'warmth': 0.1831275720164609, 'grates': 0.1831275720164609, 'nerves': 0.1831275720164609, 'improved': 0.1831275720164609, 'improvisation': 0.1831275720164609, 'actors': 1.2818930041152263, 'twice': 0.1831275720164609, 'worry': 0.1831275720164609, 'theyre': 0.7325102880658436, 'delivering': 0.1831275720164609, 'honestly': 0.3662551440329218, 'dialogue': 1.4650205761316872, 'doesnt': 0.9156378600823045, 'follow': 0.3662551440329218, 'surroundings': 0.1831275720164609, 'crackles': 0.1831275720164609, 'unpredictable': 0.1831275720164609, 'youthful': 0.1831275720164609, 'energy': 0.5493827160493827, 'concentrate': 0.1831275720164609, 'meanders': 0.1831275720164609, 'badly': 0.3662551440329218, 'generally': 0.5493827160493827, 'great': 2.197530864197531, 'things': 1.6481481481481481, 'wouldnt': 0.7325102880658436, 'worth': 0.1831275720164609, 'suspense': 0.5493827160493827, 'builders': 0.1831275720164609, 'cross': 0.1831275720164609, 'g': 0.1831275720164609, 'especially': 0.7325102880658436, 'liked': 0.1831275720164609, 'cliche': 0.1831275720164609, 'choices': 0.1831275720164609, 'parents': 0.3662551440329218, 'movies': 1.4650205761316872, 'predict': 0.1831275720164609, 'dialog': 0.3662551440329218, 'verbatim': 0.1831275720164609, 'writing': 1.4650205761316872, 'selections': 0.1831275720164609, 'want': 0.3662551440329218, 'gross': 0.1831275720164609, 'chills': 0.1831275720164609, 'alexander': 0.1831275720164609, 'nevsky': 0.1831275720164609, 'amazing': 0.5493827160493827, 'artist': 0.1831275720164609, 'lived': 0.1831275720164609, 'pretentious': 0.7325102880658436, 'piece': 0.7325102880658436, 's': 0.3662551440329218, 'planned': 0.1831275720164609, 'dodge': 0.1831275720164609, 'stratus': 0.1831275720164609, 'big': 0.5493827160493827, 'shots': 0.5493827160493827, 'gonna': 0.1831275720164609, 'help': 0.1831275720164609, 'makers': 0.1831275720164609, 'arent': 0.3662551440329218, 'restrained': 0.1831275720164609, 'business': 0.1831275720164609, 'qubec': 0.1831275720164609, 'problem': 0.3662551440329218, 'script': 2.5637860082304527, 'horrendous': 0.1831275720164609, 'frustration': 0.1831275720164609, 'retarded': 0.1831275720164609, 'girls': 0.1831275720164609, 'frankly': 0.3662551440329218, 'cotton': 0.1831275720164609, 'club': 0.1831275720164609, 'unfaithful': 0.1831275720164609, 'embarrassing': 0.3662551440329218, 'watch': 1.2818930041152263, 'lane': 0.3662551440329218, 'gere': 0.1831275720164609, 'bad': 7.874485596707819, 'dialogs': 0.1831275720164609, 'extremely': 0.7325102880658436, 'shallow': 0.1831275720164609, 'insincere': 0.1831275720164609, 'chick': 0.3662551440329218, 'politically': 0.1831275720164609, 'correct': 0.1831275720164609, 'disappointing': 0.3662551440329218, 'lousy': 0.3662551440329218, 'hour': 0.5493827160493827, 'wish': 0.3662551440329218, 'bring': 0.3662551440329218, 'directing': 0.9156378600823045, 'cinematography': 0.5493827160493827, 'boring': 0.7325102880658436, 'occupied': 0.3662551440329218, 'peaking': 0.1831275720164609, 'paper': 0.1831275720164609, 'instead': 0.1831275720164609, 'watching': 2.01440329218107, 'happened': 0.3662551440329218, 'columbo': 0.1831275720164609, 'look': 0.9156378600823045, 'oh': 0.5493827160493827, 'mature': 0.1831275720164609, 'neighbour': 0.1831275720164609, 'misplace': 0.1831275720164609, 'weaker': 0.1831275720164609, 'episode': 0.3662551440329218, 'debated': 0.1831275720164609, 'sack': 0.1831275720164609, 'trumpeter': 0.1831275720164609, 'falsely': 0.1831275720164609, 'accused': 0.1831275720164609, 'murder': 0.1831275720164609, 'horror': 0.7325102880658436, 'stupid': 2.197530864197531, 'thought': 0.9156378600823045, 'playing': 0.3662551440329218, 'villain': 0.1831275720164609, 'rent': 0.3662551440329218, 'michael': 0.1831275720164609, 'ironside': 0.1831275720164609, 'fact': 0.3662551440329218, 'overall': 0.3662551440329218, 'tremendously': 0.1831275720164609, 'chemistry': 0.3662551440329218, 'ben': 0.1831275720164609, 'affleck': 0.1831275720164609, 'sandra': 0.1831275720164609, 'bullock': 0.1831275720164609, 'understand': 0.7325102880658436, 'consider': 0.1831275720164609, 'leaving': 0.1831275720164609, 'wife': 0.1831275720164609, 'supposedly': 0.1831275720164609, 'knocked': 0.1831275720164609, 'moments': 0.1831275720164609, 'need': 0.1831275720164609, 'excruciatingly': 0.1831275720164609, 'remake': 0.5493827160493827, 'friends': 0.1831275720164609, 'wedding': 0.1831275720164609, 'disappointment': 0.3662551440329218, 'believe': 0.7325102880658436, 'agreed': 0.1831275720164609, 'stand': 0.1831275720164609, 'fear': 0.1831275720164609, 'losing': 0.3662551440329218, 'iq': 0.3662551440329218, 'network': 0.1831275720164609, 'aired': 0.1831275720164609, 'dribble': 0.1831275720164609, 'watched': 0.9156378600823045, 'putting': 0.3662551440329218, 'imdb': 0.1831275720164609, 'ratings': 0.1831275720164609, 'awful': 2.01440329218107, 'numbers': 0.1831275720164609, 'cases': 0.1831275720164609, 'saw': 0.5493827160493827, 'mirrormask': 0.1831275720164609, 'night': 0.3662551440329218, 'unsatisfactory': 0.1831275720164609, 'experience': 0.7325102880658436, 'unfortunately': 0.5493827160493827, 'inexperience': 0.1831275720164609, 'direction': 0.5493827160493827, 'meant': 0.1831275720164609, 'passed': 0.1831275720164609, 'way': 1.6481481481481481, 'dramatic': 0.1831275720164609, 'tension': 0.3662551440329218, 'conflict': 0.1831275720164609, 'central': 0.1831275720164609, 'themes': 0.1831275720164609, 'handled': 0.3662551440329218, 'ineptly': 0.1831275720164609, 'stereotypically': 0.1831275720164609, 'depth': 0.7325102880658436, 'imagination': 0.7325102880658436, 'pretty': 1.0987654320987654, 'pictures': 0.1831275720164609, 'world': 0.5493827160493827, 'flawed': 0.3662551440329218, 'core': 0.3662551440329218, 'following': 0.1831275720164609, 'bunch': 0.3662551440329218, 'high': 0.1831275720164609, 'schoolers': 0.1831275720164609, 'whine': 0.1831275720164609, 'relate': 0.1831275720164609, 'hell': 0.1831275720164609, 'barely': 0.5493827160493827, 'disaster': 0.3662551440329218, 'editing': 0.1831275720164609, 'confuses': 0.1831275720164609, 'incredibly': 0.3662551440329218, 'fish': 0.1831275720164609, 'underwater': 0.1831275720164609, 'repeated': 0.1831275720164609, 'thousand': 0.1831275720164609, 'times': 0.5493827160493827, 'truly': 0.5493827160493827, 'terrible': 1.831275720164609, 'worse': 1.6481481481481481, 'possible': 0.3662551440329218, 'redeemed': 0.1831275720164609, 'mstk': 0.1831275720164609, 'fodder': 0.1831275720164609, 'paid': 0.3662551440329218, 'whatsoever': 0.5493827160493827, 'horrible': 0.7325102880658436, 'lifeoh': 0.1831275720164609, 'gosh': 0.1831275720164609, 'walk': 0.1831275720164609, 'theatre': 0.1831275720164609, 'minutes': 1.0987654320987654, 'relief': 0.1831275720164609, 'hate': 0.3662551440329218, 'yeah': 0.3662551440329218, 'sucked': 1.2818930041152263, 'storyline': 0.7325102880658436, 'pillow': 0.1831275720164609, 'girlfriendboyfriend': 0.1831275720164609, 'gone': 0.1831275720164609, 'disliked': 0.3662551440329218, 'thing': 1.2818930041152263, 'tickets': 0.1831275720164609, 'dollars': 0.1831275720164609, 'mad': 0.1831275720164609, 'id': 0.5493827160493827, 'identifies': 0.1831275720164609, 'cardboard': 0.3662551440329218, 'cutouts': 0.1831275720164609, 'stereotypes': 0.5493827160493827, 'predictably': 0.3662551440329218, 'reverse': 0.1831275720164609, 'actorsan': 0.1831275720164609, 'ugly': 0.1831275720164609, 'cartoon': 0.1831275720164609, 'crafted': 0.3662551440329218, 'paul': 0.3662551440329218, 'haggis': 0.1831275720164609, 'handle': 0.1831275720164609, 'bold': 0.1831275720164609, 'strokes': 0.1831275720164609, 'storytellinga': 0.1831275720164609, 'painted': 0.1831275720164609, 'crayons': 0.1831275720164609, 'crash': 0.1831275720164609, 'depressing': 0.3662551440329218, 'provokes': 0.1831275720164609, 'emotion': 0.1831275720164609, 'teaches': 0.1831275720164609, 'know': 1.0987654320987654, 'racism': 0.1831275720164609, 'prejudice': 0.1831275720164609, 'brain': 0.1831275720164609, 'attempt': 0.3662551440329218, 'shut': 0.1831275720164609, 'primal': 0.1831275720164609, 'impulse': 0.1831275720164609, 'self': 0.3662551440329218, 'preservation': 0.1831275720164609, 'left': 0.1831275720164609, 'shattered': 0.1831275720164609, 'took': 0.3662551440329218, 'fully': 0.1831275720164609, 'recover': 0.1831275720164609, 'joins': 0.1831275720164609, 'revenge': 0.1831275720164609, 'boogeyman': 0.1831275720164609, 'zombiez': 0.1831275720164609, 'hellish': 0.1831275720164609, 'trinity': 0.1831275720164609, 'mean': 0.7325102880658436, 'distinction': 0.1831275720164609, 'redeeming': 0.3662551440329218, 'features': 0.1831275720164609, 'appalling': 0.3662551440329218, 'artless': 0.1831275720164609, 'endlessly': 0.1831275720164609, 'presents': 0.1831275720164609, 'ugliest': 0.1831275720164609, 'setting': 0.3662551440329218, 'is\\x85was': 0.1831275720164609, 'kids': 0.5493827160493827, 'lead': 0.5493827160493827, 'charisma': 0.3662551440329218, 'free': 0.5493827160493827, 'merit': 0.1831275720164609, 'akin': 0.1831275720164609, 'torture': 0.7325102880658436, 'ill': 0.1831275720164609, 'maybe': 0.3662551440329218, 'reasonable': 0.1831275720164609, 'explanation': 0.3662551440329218, 'atrocity': 0.1831275720164609, 'pleasant': 0.1831275720164609, 'voyage': 0.1831275720164609, 'discovery': 0.1831275720164609, 'highly': 0.3662551440329218, 'unrecommended': 0.1831275720164609, 'premise': 0.5493827160493827, 'sound': 0.3662551440329218, 'suffered': 0.1831275720164609, 'needed': 0.1831275720164609, 'close': 0.1831275720164609, 'ups': 0.1831275720164609, 'drag': 0.1831275720164609, 'heroes': 0.1831275720164609, 'freedom': 0.3662551440329218, 'definitely': 0.3662551440329218, 'remember': 0.3662551440329218, 'ray': 0.5493827160493827, 'charles': 0.5493827160493827, 'acted': 0.1831275720164609, 'played': 0.1831275720164609, 'legendary': 0.1831275720164609, 'provided': 0.1831275720164609, 'biographical': 0.1831275720164609, 'material': 0.3662551440329218, 'goes': 0.1831275720164609, 'musician': 0.1831275720164609, 'hitchcock': 0.5493827160493827, 'director': 0.9156378600823045, 'ironically': 0.1831275720164609, 'total': 0.1831275720164609, 'secondly': 0.1831275720164609, 'perfected': 0.1831275720164609, 'thriller': 0.5493827160493827, 'chase': 0.1831275720164609, 'pandering': 0.1831275720164609, 'sabotages': 0.1831275720164609, 'certain': 0.1831275720164609, 'rumbles': 0.1831275720164609, 'machine': 0.3662551440329218, 'desperately': 0.1831275720164609, 'depending': 0.1831275720164609, 'new': 0.3662551440329218, 'usual': 0.1831275720164609, 'logic': 0.1831275720164609, 'flaws': 0.1831275720164609, 'mishima': 0.1831275720164609, 'uninteresting': 0.1831275720164609, 'chilly': 0.3662551440329218, 'unremarkable': 0.1831275720164609, 'author': 0.1831275720164609, 'livingworking': 0.1831275720164609, 'abstruse': 0.1831275720164609, 'culture': 0.1831275720164609, 'reenactments': 0.1831275720164609, 'hold': 0.1831275720164609, 'attention': 0.3662551440329218, 'emotionally': 0.1831275720164609, 'adrift': 0.1831275720164609, 'stagy': 0.1831275720164609, 'sits': 0.1831275720164609, 'soldiers': 0.1831275720164609, 'singing': 0.3662551440329218, 'masculinity': 0.1831275720164609, 'pledge': 0.1831275720164609, 'hairsplitting': 0.1831275720164609, 'purity': 0.1831275720164609, 'admiration': 0.1831275720164609, 'swords': 0.1831275720164609, 'bore': 0.3662551440329218, 'kill': 0.1831275720164609, 'momentum': 0.1831275720164609, 'quicker': 0.1831275720164609, 'schrader': 0.1831275720164609, 'resume': 0.1831275720164609, 'amateurish': 0.1831275720164609, 'loved': 0.3662551440329218, 'fascinated': 0.1831275720164609, 'dancing': 0.3662551440329218, 'recently': 0.3662551440329218, 'dvd': 0.3662551440329218, 'completely': 0.7325102880658436, 'struck': 0.3662551440329218, 'contained': 0.1831275720164609, 'holes': 0.1831275720164609, 'inconsistencies': 0.1831275720164609, 'lot': 0.7325102880658436, 'horrid': 0.1831275720164609, 'realistic': 0.1831275720164609, 'gotten': 0.1831275720164609, 'ballet': 0.1831275720164609, 'repertory': 0.1831275720164609, 'pathetic': 0.9156378600823045, 'developments': 0.1831275720164609, 'lacked': 0.3662551440329218, 'woa': 0.1831275720164609, 'talk': 0.5493827160493827, 'sappiest': 0.1831275720164609, 'unwatchable': 0.1831275720164609, 'tell': 0.1831275720164609, 'talent': 0.3662551440329218, 'gave': 0.3662551440329218, 'action': 0.3662551440329218, 'check': 0.1831275720164609, 'directors': 0.5493827160493827, 'filmography': 0.1831275720164609, 'site': 0.1831275720164609, 'chance': 0.1831275720164609, 'intentions': 0.1831275720164609, 'greatest': 0.1831275720164609, 'master': 0.1831275720164609, 'theme': 0.3662551440329218, 'undertone': 0.1831275720164609, 'fifties': 0.1831275720164609, 'existential': 0.1831275720164609, 'weariness': 0.1831275720164609, 'aerial': 0.1831275720164609, 'ought': 0.1831275720164609, 'thrilled': 0.3662551440329218, 'senses': 0.3662551440329218, 'deeply': 0.1831275720164609, 'care': 0.3662551440329218, 'regrettably': 0.1831275720164609, 'fails': 0.3662551440329218, 'visual': 0.3662551440329218, 'drama': 0.7325102880658436, 'expression': 0.1831275720164609, 'celebration': 0.1831275720164609, 'patriotism': 0.1831275720164609, 'underlines': 0.1831275720164609, 'narrative': 0.3662551440329218, 'actress': 0.1831275720164609, 'june': 0.1831275720164609, 'allison': 0.1831275720164609, 'plain': 0.3662551440329218, 'called': 0.1831275720164609, 'soundtrack': 0.1831275720164609, 'concert': 0.1831275720164609, 'sequences': 0.1831275720164609, 'nice': 0.1831275720164609, 'cheap': 0.9156378600823045, 'trash': 0.3662551440329218, 'considering': 0.3662551440329218, 'ridiculousness': 0.1831275720164609, 'came': 0.3662551440329218, 'angry': 0.1831275720164609, 'spoilers': 0.3662551440329218, 'said': 0.7325102880658436, 'surface': 0.1831275720164609, 'superbly': 0.1831275720164609, 'stunning': 0.3662551440329218, 'fx': 0.3662551440329218, 'state': 0.1831275720164609, 'conceptually': 0.1831275720164609, 'offers': 0.1831275720164609, 'everybody': 0.1831275720164609, 'fantasy': 0.1831275720164609, 'andor': 0.1831275720164609, 'fans': 0.1831275720164609, 'single': 0.1831275720164609, 'sour': 0.1831275720164609, 'note': 0.3662551440329218, 'wise': 0.1831275720164609, 'surprisingly': 0.3662551440329218, 'solid': 0.3662551440329218, 'casting': 0.3662551440329218, 'considered': 0.1831275720164609, 'job': 0.1831275720164609, 'thanks': 0.1831275720164609, 'released': 0.1831275720164609, 'mexican': 0.3662551440329218, 'understood': 0.1831275720164609, 'matter': 0.1831275720164609, 'identified': 0.1831275720164609, 'felt': 0.3662551440329218, 'ranks': 0.1831275720164609, 'noir': 0.3662551440329218, 'crime': 0.1831275720164609, 'incredible': 0.5493827160493827, 'belmondo': 0.1831275720164609, 'lino': 0.1831275720164609, 'ventura': 0.1831275720164609, 'given': 0.1831275720164609, 'complex': 0.1831275720164609, 'psychological': 0.1831275720164609, 'portrayals': 0.1831275720164609, 'detailing': 0.1831275720164609, 'loyalty': 0.1831275720164609, 'treachery': 0.1831275720164609, 'hope': 0.1831275720164609, 'tremendous': 0.1831275720164609, 'melville': 0.1831275720164609, 'journey': 0.1831275720164609, 'eyes': 0.3662551440329218, 'soul': 0.1831275720164609, 'child': 0.1831275720164609, 'water': 0.3662551440329218, 'manages': 0.1831275720164609, 'transcend': 0.1831275720164609, 'limitations': 0.1831275720164609, 'indie': 0.1831275720164609, 'continually': 0.1831275720164609, 'subverting': 0.1831275720164609, 'expectations': 0.1831275720164609, 'emerge': 0.1831275720164609, 'intense': 0.1831275720164609, 'gripping': 0.1831275720164609, 'crocdodile': 0.1831275720164609, 'website': 0.1831275720164609, 'believed': 0.1831275720164609, 'crocs': 0.1831275720164609, 'swamp': 0.1831275720164609, 'location': 0.5493827160493827, 'fabulous': 0.1831275720164609, 'thoroughly': 0.1831275720164609, 'christopher': 0.1831275720164609, 'eccleston': 0.1831275720164609, 'control': 0.3662551440329218, 'tardis': 0.1831275720164609, 'continuation': 0.1831275720164609, 'trying': 0.3662551440329218, 'turn': 0.3662551440329218, 'day': 0.1831275720164609, 'disturbing': 0.1831275720164609, 'memories': 0.1831275720164609, 'succeeded': 0.1831275720164609, 'places': 0.3662551440329218, 'forced': 0.1831275720164609, 'heres': 0.1831275720164609, 'pied': 0.1831275720164609, 'started': 0.7325102880658436, 'jerky': 0.3662551440329218, 'camerawork': 0.3662551440329218, 'theater': 0.1831275720164609, 'going': 1.0987654320987654, 'sick': 0.3662551440329218, 'summary': 0.1831275720164609, 'witticisms': 0.1831275720164609, 'werent': 0.3662551440329218, 'witty': 0.1831275720164609, 'billy': 0.1831275720164609, 'bob': 0.1831275720164609, 'rise': 0.1831275720164609, 'rating': 0.7325102880658436, 'finale': 0.1831275720164609, 'possibly': 0.1831275720164609, 'trilogy': 0.5493827160493827, 'kieslowski': 0.1831275720164609, 'ceases': 0.1831275720164609, 'amaze': 0.1831275720164609, 'favourite': 0.1831275720164609, 'use': 0.7325102880658436, 'colours': 0.1831275720164609, 'flag': 0.1831275720164609, 'shot': 0.3662551440329218, 'visually': 0.3662551440329218, 'appealing': 0.1831275720164609, 'subtle': 0.1831275720164609, 'connections': 0.1831275720164609, 'awesome': 0.1831275720164609, 'mention': 0.3662551440329218, 'huge': 0.3662551440329218, 'spoiler': 0.1831275720164609, 'ending': 0.7325102880658436, 'remaining': 0.1831275720164609, 'survivors': 0.1831275720164609, 'ferry': 0.1831275720164609, 'valentine': 0.1831275720164609, 'judge': 0.1831275720164609, 'old': 1.0987654320987654, 'solidifying': 0.1831275720164609, 'happiness': 0.1831275720164609, 'suffering': 0.1831275720164609, 'dealt': 0.1831275720164609, 'years': 0.7325102880658436, 'end': 0.3662551440329218, 'smile': 0.3662551440329218, 'face': 0.1831275720164609, 'wrap': 0.1831275720164609, 'loves': 0.1831275720164609, 'anythinga': 0.1831275720164609, 'literally': 0.1831275720164609, 'vomited': 0.1831275720164609, 'roths': 0.1831275720164609, 'pearls': 0.1831275720164609, 'performance': 0.1831275720164609, 'awarded': 0.1831275720164609, 'eloquently': 0.1831275720164609, 'francis': 0.1831275720164609, 'ford': 0.1831275720164609, 'coppola': 0.1831275720164609, 'earlier': 0.3662551440329218, 'unfolds': 0.1831275720164609, 'gradually': 0.1831275720164609, 'leaves': 0.1831275720164609, 'room': 0.1831275720164609, 'develop': 0.1831275720164609, 'wonderful': 0.1831275720164609, 'lies': 0.1831275720164609, 'contrast': 0.1831275720164609, 'directed': 0.3662551440329218, 'nicolas': 0.1831275720164609, 'roeg': 0.1831275720164609, 'wih': 0.1831275720164609, 'sublime': 0.1831275720164609, 'translating': 0.1831275720164609, 'living': 0.3662551440329218, 'year': 0.5493827160493827, 'working': 0.1831275720164609, 'offensive': 0.3662551440329218, 'intelligence': 0.5493827160493827, 'strives': 0.1831275720164609, 'greatness': 0.1831275720164609, 'poetry': 0.1831275720164609, 'delivers': 0.1831275720164609, 'muddled': 0.1831275720164609, 'disparate': 0.1831275720164609, 'reviewer': 0.1831275720164609, 'accurately': 0.1831275720164609, 'defined': 0.1831275720164609, 'intelligent': 0.1831275720164609, 'masterful': 0.1831275720164609, 'try': 0.3662551440329218, 'sense': 0.5493827160493827, 'pitiful': 0.1831275720164609, 'human': 0.1831275720164609, 'nature': 0.1831275720164609, 'tolerate': 0.1831275720164609, 'political': 0.1831275720164609, 'incorrectness': 0.1831275720164609, 'artistic': 0.1831275720164609, 'suspension': 0.1831275720164609, 'disbelief': 0.1831275720164609, 'slavic': 0.1831275720164609, 'female': 0.1831275720164609, 'perfect': 0.1831275720164609, 'youll': 0.1831275720164609, 'shed': 0.3662551440329218, 'tear': 0.1831275720164609, 'seeing': 0.3662551440329218, 'forget': 0.1831275720164609, 'cult': 0.5493827160493827, 'classic': 0.3662551440329218, 'underneath': 0.1831275720164609, 'malta': 0.1831275720164609, 'settings': 0.1831275720164609, 'dry': 0.1831275720164609, 'barren': 0.1831275720164609, 'hockey': 0.1831275720164609, 'defensemen': 0.1831275720164609, 'goalies': 0.1831275720164609, 'diving': 0.1831275720164609, 'feet': 0.1831275720164609, 'wide': 0.1831275720164609, 'net': 0.1831275720164609, 'havent': 0.1831275720164609, 'particular': 0.1831275720164609, 'relationship': 0.1831275720164609, 'bakery': 0.1831275720164609, 'assistant': 0.3662551440329218, 'waitress': 0.1831275720164609, 'superficial': 0.1831275720164609, 'stagey': 0.1831275720164609, 'stage': 0.1831275720164609, 'farce': 0.1831275720164609, 'pyromaniac': 0.1831275720164609, 'waylaid': 0.1831275720164609, 'bored': 0.1831275720164609, 'switched': 0.1831275720164609, 'pay': 0.1831275720164609, 'laugh': 0.1831275720164609, 'yawn': 0.1831275720164609, 'educational': 0.1831275720164609, 'barney': 0.1831275720164609, 'super': 0.1831275720164609, 'duper': 0.1831275720164609, 'babie': 0.1831275720164609, 'bop': 0.1831275720164609, 'cute': 0.1831275720164609, 'cool': 0.1831275720164609, 'storm': 0.1831275720164609, 'trooper': 0.1831275720164609, 'list': 0.1831275720164609, 'wonderfully': 0.1831275720164609, 'guy': 0.1831275720164609, 'hes': 0.1831275720164609, 'potted': 0.1831275720164609, 'plants': 0.1831275720164609, 'shameful': 0.1831275720164609, 'memorable': 0.1831275720164609, 'forgetting': 0.1831275720164609, 'ireland': 0.1831275720164609, 'scared': 0.3662551440329218, 'horrified': 0.1831275720164609, 'sympathetic': 0.1831275720164609, 'movements': 0.1831275720164609, 'attempts': 0.1831275720164609, 'supposed': 0.3662551440329218, 'twist': 0.1831275720164609, 'light': 0.1831275720164609, 'situation': 0.1831275720164609, 'probably': 0.5493827160493827, 'leave': 0.1831275720164609, 'shelf': 0.1831275720164609, 'unrealistic': 0.1831275720164609, 'utter': 0.1831275720164609, 'looked': 0.5493827160493827, 'lucy': 0.1831275720164609, 'bell': 0.1831275720164609, 'higher': 0.1831275720164609, 'sink': 0.1831275720164609, 'slackers': 0.1831275720164609, 'excuses': 0.1831275720164609, 'actions': 0.1831275720164609, 'god': 0.1831275720164609, 'cover': 0.5493827160493827, 'fashioned': 0.1831275720164609, 'tuneful': 0.1831275720164609, 'rita': 0.1831275720164609, 'hayworth': 0.1831275720164609, 'pedestal': 0.1831275720164609, 'example': 0.5493827160493827, 'hollywood': 0.1831275720164609, 'exploit': 0.1831275720164609, 'women': 0.3662551440329218, 'financial': 0.1831275720164609, 'gain': 0.1831275720164609, 'seriously': 0.1831275720164609, 'fan': 0.1831275720164609, 'ticker': 0.1831275720164609, 'buildings': 0.1831275720164609, 'couple': 0.1831275720164609, 'locations': 0.1831275720164609, 'hummh': 0.1831275720164609, 'blew': 0.1831275720164609, 'chosen': 0.1831275720164609, 'tortured': 0.1831275720164609, 'disgusting': 0.1831275720164609, 'blatant': 0.1831275720164609, 'american': 0.1831275720164609, 'propaganda': 0.1831275720164609, 'americans': 0.1831275720164609, 'hatred': 0.1831275720164609, 'clichs': 0.3662551440329218, 'admitted': 0.1831275720164609, 'involved': 0.5493827160493827, 'return': 0.3662551440329218, 'school': 0.1831275720164609, 'pile': 0.1831275720164609, 'garbage': 0.1831275720164609, 'round': 0.1831275720164609, 'enter': 0.1831275720164609, 'values': 0.3662551440329218, 'admins': 0.1831275720164609, 'sets': 0.3662551440329218, 'place': 0.5493827160493827, 'thunderbirds': 0.1831275720164609, 'motion': 0.1831275720164609, 'needlessly': 0.1831275720164609, 'repeats': 0.1831275720164609, 'backed': 0.1831275720164609, 'word': 0.5493827160493827, 'continuity': 0.1831275720164609, 'thrown': 0.3662551440329218, 'reason': 0.3662551440329218, 'vehicles': 0.1831275720164609, 'corn': 0.1831275720164609, 'flakes': 0.1831275720164609, 'box': 0.1831275720164609, 'directorial': 0.1831275720164609, 'style': 0.3662551440329218, 'bordered': 0.1831275720164609, 'stupidity': 0.1831275720164609, 'reviews': 0.1831275720164609, 'star': 0.1831275720164609, 'second': 0.3662551440329218, 'proud': 0.1831275720164609, 'filmmaker': 0.1831275720164609, 'hide': 0.1831275720164609, 'sand': 0.1831275720164609, 'spent': 0.3662551440329218, 'monumental': 0.1831275720164609, 'player': 0.3662551440329218, 'bought': 0.1831275720164609, 'turned': 0.1831275720164609, 'halfway': 0.1831275720164609, 'embarrassed': 0.1831275720164609, 'howell': 0.1831275720164609, 'professionals': 0.1831275720164609, 'drago': 0.1831275720164609, 'debbie': 0.1831275720164609, 'rochon': 0.1831275720164609, 'contributory': 0.1831275720164609, 'chimp': 0.1831275720164609, 'tolerable': 0.1831275720164609, 'simplifying': 0.1831275720164609, 'sake': 0.3662551440329218, 'brevity': 0.1831275720164609, 'problems': 0.3662551440329218, 'fulfilling': 0.1831275720164609, 'convoluted': 0.1831275720164609, 'convince': 0.1831275720164609, 'weird': 0.1831275720164609, 'questioning': 0.1831275720164609, 'glance': 0.1831275720164609, 'girlfriend': 0.1831275720164609, 'hated': 0.1831275720164609, 'bela': 0.1831275720164609, 'lugosi': 0.1831275720164609, 'extraneous': 0.1831275720164609, 'intoning': 0.1831275720164609, 'odd': 0.1831275720164609, 'decidely': 0.1831275720164609, 'wooden': 0.1831275720164609, 'period': 0.5493827160493827, 'universal': 0.1831275720164609, 'b': 0.1831275720164609, 'wow': 0.1831275720164609, 'frightening': 0.1831275720164609, 'comprehensible': 0.1831275720164609, 'hang': 0.1831275720164609, 'camp': 0.1831275720164609, 'value': 0.1831275720164609, 'expecting': 0.1831275720164609, 'oscar': 0.1831275720164609, 'youd': 0.1831275720164609, 'particularly': 0.3662551440329218, 'mollusk': 0.1831275720164609, 'coming': 0.1831275720164609, 'loosely': 0.1831275720164609, 'insult': 0.3662551440329218, 'public': 0.1831275720164609, 'knew': 0.1831275720164609, 'string': 0.1831275720164609, 'gets': 0.3662551440329218, 'theres': 0.5493827160493827, 'lower': 0.1831275720164609, 'fox': 0.1831275720164609, 'channel': 0.1831275720164609, 'contract': 0.1831275720164609, 'scripts': 0.1831275720164609, 'victor': 0.1831275720164609, 'mclaglen': 0.1831275720164609, 'brian': 0.1831275720164609, 'donlevy': 0.1831275720164609, 'unrecognizable': 0.1831275720164609, 'relations': 0.1831275720164609, 'taylor': 0.1831275720164609, 'stanwyck': 0.1831275720164609, 'surprising': 0.1831275720164609, 'president': 0.1831275720164609, 'death': 0.1831275720164609, 'row': 0.1831275720164609, 'entirely': 0.3662551440329218, 'unmoving': 0.1831275720164609, 'taylors': 0.1831275720164609, 'stanwycks': 0.1831275720164609, 'producer': 0.1831275720164609, 'missed': 0.1831275720164609, 'cheerless': 0.1831275720164609, 'heist': 0.1831275720164609, 'characterisation': 0.1831275720164609, 'lots': 0.1831275720164609, 'underbite': 0.1831275720164609, 'stoic': 0.1831275720164609, 'emoting': 0.1831275720164609, 'chow': 0.1831275720164609, 'yun': 0.1831275720164609, 'fat': 0.1831275720164609, 'tomorrow': 0.1831275720164609, 'cheesy': 0.1831275720164609, 'abandoned': 0.1831275720164609, 'factory': 0.1831275720164609, 'ready': 0.1831275720164609, 'poorly': 0.3662551440329218, 'executed': 0.1831275720164609, 'flying': 0.1831275720164609, 'judo': 0.1831275720164609, 'rolls': 0.1831275720164609, 'la': 0.1831275720164609, 'john': 0.1831275720164609, 'woo': 0.1831275720164609, 'squibs': 0.1831275720164609, 'proceedings': 0.3662551440329218, 'remotely': 0.1831275720164609, 'america': 0.1831275720164609, 'derivative': 0.1831275720164609, 'mercy': 0.1831275720164609, 'killing': 0.1831275720164609, 'hopeless': 0.1831275720164609, 'overacting': 0.3662551440329218, 'space': 0.3662551440329218, 'uneasy': 0.1831275720164609, 'composed': 0.1831275720164609, 'footage': 0.1831275720164609, 'elderly': 0.1831275720164609, 'awkwardly': 0.1831275720164609, 'babbling': 0.1831275720164609, 'overwrought': 0.1831275720164609, 'pseudo': 0.1831275720164609, 'satanic': 0.1831275720164609, 'gibberish': 0.1831275720164609, 'corny': 0.1831275720164609, 'teen': 0.1831275720164609, 'goth': 0.1831275720164609, 'blush': 0.1831275720164609, 'olde': 0.1831275720164609, 'english': 0.1831275720164609, 'latin': 0.1831275720164609, 'sloppy': 0.1831275720164609, 'hackneyed': 0.3662551440329218, 'course': 0.1831275720164609, 'blah': 0.1831275720164609, 'scale': 0.1831275720164609, 'balanced': 0.1831275720164609, 'perfectly': 0.1831275720164609, 'underacting': 0.1831275720164609, 'finally': 0.3662551440329218, 'wouldve': 0.1831275720164609, 'competent': 0.1831275720164609, 'jerry': 0.1831275720164609, 'falwell': 0.1831275720164609, 'assaulted': 0.1831275720164609, 'strident': 0.1831275720164609, 'cords': 0.1831275720164609, 'blare': 0.1831275720164609, 'warning': 0.1831275720164609, 'sort': 0.1831275720164609, 'pap': 0.1831275720164609, 'screened': 0.1831275720164609, 'afternoon': 0.1831275720164609, 'punish': 0.1831275720164609, 'unemployed': 0.1831275720164609, 'jobs': 0.1831275720164609, 'thoughts': 0.1831275720164609, 'dislike': 0.1831275720164609, 'ended': 0.1831275720164609, 'despised': 0.1831275720164609, 'looks': 0.3662551440329218, 'rough': 0.1831275720164609, 'draft': 0.1831275720164609, 'shooting': 0.1831275720164609, 'began': 0.1831275720164609, 'finished': 0.1831275720164609, 'completed': 0.1831275720164609, 'happen': 0.3662551440329218, 'personalities': 0.1831275720164609, 'change': 0.1831275720164609, 'twists': 0.1831275720164609, 'occur': 0.1831275720164609, 'calls': 0.1831275720164609, 'irritating': 0.1831275720164609, 'indescribably': 0.1831275720164609, 'idiotic': 0.1831275720164609, 'idiot': 0.1831275720164609, 'produce': 0.1831275720164609, 'mess': 0.7325102880658436, 'season': 0.1831275720164609, 'contains': 0.1831275720164609, 'cheesiness': 0.1831275720164609, 'unethical': 0.1831275720164609, 'normally': 0.1831275720164609, 'r': 0.1831275720164609, 'nc': 0.1831275720164609, 'final': 0.1831275720164609, 'zillion': 0.1831275720164609, 'reality': 0.1831275720164609, 'washing': 0.1831275720164609, 'twirling': 0.1831275720164609, 'hurt': 0.1831275720164609, 'grade': 0.1831275720164609, 'z': 0.1831275720164609, 'mother': 0.1831275720164609, 'pull': 0.1831275720164609, 'daughter': 0.1831275720164609, 'century': 0.1831275720164609, 'foxs': 0.1831275720164609, 'road': 0.1831275720164609, 'house': 0.1831275720164609, 'silly': 0.1831275720164609, 'implausible': 0.3662551440329218, 'unmitigated': 0.1831275720164609, 'unconvincing': 0.5493827160493827, 'blandly': 0.1831275720164609, 'edward': 0.1831275720164609, 'chodorov': 0.1831275720164609, 'produced': 0.1831275720164609, 'jean': 0.1831275720164609, 'negulesco': 0.1831275720164609, 'expect': 0.1831275720164609, 'deal': 0.1831275720164609, 'widmark': 0.1831275720164609, 'turns': 0.1831275720164609, 'unintentionally': 0.1831275720164609, 'comical': 0.1831275720164609, 'marbles': 0.1831275720164609, 'early': 0.1831275720164609, 'isnt': 0.1831275720164609, 'marred': 0.1831275720164609, 'constant': 0.1831275720164609, 'studio': 0.1831275720164609, 'indoor': 0.1831275720164609, 'exteriors': 0.1831275720164609, 'prompted': 0.1831275720164609, 'documentary': 0.3662551440329218, 'start': 0.3662551440329218, 'makes': 0.1831275720164609, 'mistakes': 0.1831275720164609, 'racial': 0.5493827160493827, 'jokes': 0.1831275720164609, 'offend': 0.1831275720164609, 'littered': 0.1831275720164609, 'overt': 0.1831275720164609, 'slurs': 0.1831275720164609, 'members': 0.1831275720164609, 'whites': 0.1831275720164609, 'depicted': 0.1831275720164609, 'morons': 0.1831275720164609, 'boobs': 0.1831275720164609, 'race': 0.1831275720164609, 'card': 0.1831275720164609, 'aside': 0.3662551440329218, 'lets': 0.3662551440329218, 'major': 0.1831275720164609, 'flaw': 0.1831275720164609, 'destroy': 0.1831275720164609, 'latifas': 0.1831275720164609, 'bipolarity': 0.1831275720164609, 'ruthless': 0.3662551440329218, 'thug': 0.1831275720164609, 'killer': 0.1831275720164609, 'luvs': 0.1831275720164609, 'diaper': 0.1831275720164609, 'commercial': 0.1831275720164609, 'terribly': 0.3662551440329218, 'receive': 0.1831275720164609, 'awards': 0.1831275720164609, 'accolades': 0.1831275720164609, 'deserving': 0.1831275720164609, 'qualities': 0.1831275720164609, 'badwellits': 0.1831275720164609, 'shame': 0.1831275720164609, 'thomerson': 0.1831275720164609, 'james': 0.1831275720164609, 'credit': 0.1831275720164609, 'version': 0.1831275720164609, 'watchable': 0.1831275720164609, 'problemsthe': 0.1831275720164609, 'professor': 0.1831275720164609, 'dumb': 0.1831275720164609, 'established': 0.1831275720164609, 'zombie': 0.1831275720164609, 'students': 0.1831275720164609, 'humans': 0.1831275720164609, 'removing': 0.1831275720164609, 'necklace': 0.1831275720164609, 'containing': 0.1831275720164609, 'meteorite': 0.1831275720164609, 'matthews': 0.1831275720164609, 'wrotedirected': 0.1831275720164609, 'weak': 0.1831275720164609, 'monster': 0.1831275720164609, 'grim': 0.1831275720164609, 'pace': 0.1831275720164609, 'lighting': 0.1831275720164609, 'bland': 0.1831275720164609, 'aspects': 0.1831275720164609, 'lack': 0.1831275720164609, 'notable': 0.1831275720164609, 'gore': 0.1831275720164609, 'convention': 0.1831275720164609, 'worked': 0.1831275720164609, 'past': 0.1831275720164609, 'cg': 0.1831275720164609, 'opening': 0.1831275720164609, 'sequence': 0.1831275720164609, 'created': 0.3662551440329218, 'microsoft': 0.1831275720164609, 'slideshow': 0.1831275720164609, 'gods': 0.1831275720164609, 'explosion': 0.1831275720164609, 'gas': 0.1831275720164609, 'tanks': 0.1831275720164609, 'sum': 0.1831275720164609, 'breeders': 0.1831275720164609, 'cheaply': 0.1831275720164609, 'avoided': 0.1831275720164609, 'ebola': 0.1831275720164609, 'virus': 0.1831275720164609, 'recommended': 0.3662551440329218, 'unbearable': 0.1831275720164609, 'comedic': 0.1831275720164609, 'timing': 0.1831275720164609, 'loads': 0.1831275720164609, 'debits': 0.1831275720164609, 'popcorn': 0.1831275720164609, 'comedy': 0.1831275720164609, 'borders': 0.1831275720164609, 'lewis': 0.1831275720164609, 'blacks': 0.1831275720164609, 'considerable': 0.1831275720164609, 'incendiary': 0.1831275720164609, 'unrestrained': 0.1831275720164609, 'wont': 0.1831275720164609, 'allow': 0.1831275720164609, 'originality': 0.1831275720164609, 'freshness': 0.1831275720164609, 'offer': 0.1831275720164609, 'evidently': 0.1831275720164609, 'limited': 0.1831275720164609, 'reflected': 0.1831275720164609, 'par': 0.1831275720164609, 'borrowed': 0.1831275720164609, 'decent': 0.1831275720164609, 'balance': 0.1831275720164609, 'filmiing': 0.1831275720164609, 'expansive': 0.1831275720164609, 'failed': 0.1831275720164609, 'convey': 0.1831275720164609, 'broad': 0.1831275720164609, 'sweep': 0.1831275720164609, 'landscapes': 0.1831275720164609, 'original': 0.1831275720164609, 'sign': 0.1831275720164609, 'improvement': 0.1831275720164609, 'expected': 0.1831275720164609, 'asleep': 0.1831275720164609, 'beware': 0.1831275720164609, 'trashy': 0.1831275720164609, 'precisely': 0.1831275720164609, 'giving': 0.1831275720164609, 'review': 0.1831275720164609, 'element': 0.1831275720164609, 'excessively': 0.1831275720164609, 'phony': 0.1831275720164609, 'contrived': 0.1831275720164609, 'painful': 0.3662551440329218, 'sit': 0.1831275720164609, 'um': 0.1831275720164609, 'excuse': 0.1831275720164609, 'volcano': 0.3662551440329218, 'los': 0.3662551440329218, 'angeles': 0.3662551440329218, 'honest': 0.1831275720164609, 'unbelievable': 0.1831275720164609, 'nonsense': 0.3662551440329218, 'foolish': 0.1831275720164609, 'conclusion': 0.1831275720164609, 'bother': 0.1831275720164609, 'accents': 0.1831275720164609, 'abysmal': 0.1831275720164609, 'hypocrisy': 0.1831275720164609, 'vomit': 0.1831275720164609, 'rubbish': 0.1831275720164609, 'researched': 0.1831275720164609, 'omit': 0.1831275720164609, 'basic': 0.1831275720164609, 'sidelined': 0.1831275720164609, 'inexplicable': 0.1831275720164609, 'focus': 0.1831275720164609, 'crew': 0.1831275720164609, 'regardless': 0.1831275720164609, 'avoid': 0.1831275720164609, 'costs': 0.1831275720164609, 'jim': 0.1831275720164609, 'oconnor': 0.1831275720164609, 'energetic': 0.1831275720164609, 'george': 0.1831275720164609, 'dull': 0.1831275720164609, 'hosting': 0.1831275720164609, 'overs': 0.1831275720164609, 'monotonous': 0.1831275720164609, 'guests': 0.1831275720164609, 'bendingly': 0.1831275720164609, 'scares': 0.1831275720164609, 'medical': 0.1831275720164609, 'terminology': 0.1831275720164609, 'iffy': 0.1831275720164609, 'insulin': 0.1831275720164609, 'dependant': 0.1831275720164609, 'diabetic': 0.1831275720164609, 'allowing': 0.1831275720164609, 'production': 0.1831275720164609, 'format': 0.1831275720164609, 'mini': 0.1831275720164609, 'baaaaaad': 0.1831275720164609, 'youre': 0.1831275720164609, 'collect': 0.1831275720164609, 'extant': 0.1831275720164609, 'austens': 0.1831275720164609, 'skip': 0.1831275720164609, 'speaking': 0.1831275720164609, 'unbearably': 0.1831275720164609, 'kitchy': 0.1831275720164609, 'dropped': 0.1831275720164609, 'ball': 0.1831275720164609}\n",
      "{'best': 2.0406189555125724, 'scene': 0.20406189555125726, 'movie': 8.97872340425532, 'gerardo': 0.20406189555125726, 'trying': 0.20406189555125726, 'song': 0.4081237911025145, 'keeps': 0.20406189555125726, 'running': 0.20406189555125726, 'head': 0.20406189555125726, 'saw': 0.816247582205029, 'today': 0.4081237911025145, 'thought': 0.816247582205029, 'good': 3.6731141199226305, 'effort': 0.20406189555125726, 'messages': 0.20406189555125726, 'kids': 0.4081237911025145, 'loved': 0.816247582205029, 'casting': 0.6121856866537717, 'jimmy': 0.4081237911025145, 'buffet': 0.20406189555125726, 'science': 0.20406189555125726, 'teacher': 0.20406189555125726, 'baby': 0.20406189555125726, 'owls': 0.20406189555125726, 'adorable': 0.4081237911025145, 'showed': 0.4081237911025145, 'lot': 0.20406189555125726, 'florida': 0.20406189555125726, 'look': 1.2243713733075434, 'appealing': 0.20406189555125726, 'songs': 0.20406189555125726, 'muppets': 0.20406189555125726, 'hilarious': 0.6121856866537717, 'cool': 0.816247582205029, 'right': 0.816247582205029, 'case': 0.20406189555125726, 'delivers': 0.4081237911025145, 'face': 0.6121856866537717, 'review': 0.20406189555125726, 'long': 0.6121856866537717, 'overdue': 0.20406189555125726, 'consider': 0.4081237911025145, 'tale': 0.20406189555125726, 'sisters': 0.4081237911025145, 'single': 0.6121856866537717, 'greatest': 0.4081237911025145, 'film': 7.958413926499033, 'ill': 0.6121856866537717, 'gem': 0.20406189555125726, 'terms': 0.4081237911025145, 'screenplay': 0.20406189555125726, 'cinematography': 1.0203094777562862, 'acting': 1.2243713733075434, 'post': 0.20406189555125726, 'production': 0.6121856866537717, 'editing': 0.4081237911025145, 'directing': 0.4081237911025145, 'aspect': 0.20406189555125726, 'making': 0.816247582205029, 'practically': 0.20406189555125726, 'perfect': 0.6121856866537717, 'true': 0.816247582205029, 'masterpiece': 0.4081237911025145, 'sea': 0.20406189555125726, 'faux': 0.4081237911025145, 'masterpieces': 0.20406189555125726, 'ive': 0.6121856866537717, 'given': 0.4081237911025145, 'years': 1.0203094777562862, 'needed': 0.20406189555125726, 'word': 0.20406189555125726, 'mouth': 0.20406189555125726, 'promote': 0.20406189555125726, 'overall': 0.6121856866537717, 'interesting': 1.4284332688588008, 'provoking': 0.20406189555125726, 'plus': 0.4081237911025145, 'paced': 0.20406189555125726, 'suited': 0.20406189555125726, 'relatively': 0.20406189555125726, 'short': 0.6121856866537717, 'run': 0.4081237911025145, 'time': 1.4284332688588008, 'gave': 0.6121856866537717, 'wind': 0.6121856866537717, 'lion': 0.6121856866537717, 'written': 0.20406189555125726, 'superbly': 0.20406189555125726, 'acted': 0.20406189555125726, 'classic': 0.6121856866537717, 'actually': 1.2243713733075434, 'turned': 0.20406189555125726, 'pretty': 0.4081237911025145, 'decent': 0.4081237911025145, 'far': 0.20406189555125726, 'b': 0.20406189555125726, 'list': 0.20406189555125726, 'horrorsuspense': 0.20406189555125726, 'films': 0.816247582205029, 'definitely': 0.816247582205029, 'worth': 1.632495164410058, 'checking': 0.6121856866537717, 'manna': 0.20406189555125726, 'heaven': 0.20406189555125726, 'terrific': 0.816247582205029, 'predictable': 0.20406189555125726, 'unpredictable': 0.20406189555125726, 'scenes': 0.4081237911025145, 'funny': 2.0406189555125724, 'occasionally': 0.816247582205029, 'touching': 0.4081237911025145, 'characters': 1.8365570599613152, 'evaluate': 0.20406189555125726, 'lives': 0.20406189555125726, 'going': 0.6121856866537717, 'cast': 1.632495164410058, 'veteran': 0.20406189555125726, 'actors': 1.0203094777562862, 'nostalgia': 0.20406189555125726, 'trip': 0.20406189555125726, 'ursula': 0.20406189555125726, 'burtons': 0.20406189555125726, 'portrayal': 0.4081237911025145, 'nun': 0.20406189555125726, 'fun': 0.4081237911025145, 'nuns': 0.20406189555125726, 'church': 0.4081237911025145, 'looking': 0.20406189555125726, 'musicincluding': 0.20406189555125726, 'shirley': 0.20406189555125726, 'jones': 0.20406189555125726, 'rendition': 0.20406189555125726, 'way': 1.2243713733075434, 'tonight': 0.20406189555125726, 'uplifting': 0.4081237911025145, 'ending': 0.816247582205029, 'try': 0.20406189555125726, 'dont': 1.8365570599613152, 'think': 1.8365570599613152, 'disappointed': 0.20406189555125726, 'thing': 0.4081237911025145, 'watching': 1.0203094777562862, 'scenery': 0.20406189555125726, 'house': 0.4081237911025145, 'beautiful': 1.2243713733075434, 'writing': 0.6121856866537717, 'fresh': 0.20406189555125726, 'bold': 0.20406189555125726, 'helps': 0.4081237911025145, 'maybe': 0.20406189555125726, 'idiot': 0.20406189555125726, 'savant': 0.20406189555125726, 'sister': 0.20406189555125726, 'played': 1.0203094777562862, 'better': 0.6121856866537717, 'real': 1.0203094777562862, 'joy': 0.816247582205029, 'watch': 1.0203094777562862, 'applause': 0.20406189555125726, 'prelude': 0.20406189555125726, 'liked': 0.6121856866537717, 'great': 3.264990328820116, 'director': 0.4081237911025145, 'edge': 0.4081237911025145, 'seat': 0.20406189555125726, 'somewhat': 0.20406189555125726, 'afraid': 0.4081237911025145, 'car': 0.20406189555125726, 'end': 0.6121856866537717, 'night': 0.20406189555125726, 'music': 0.6121856866537717, 'nice': 0.816247582205029, 'id': 0.4081237911025145, 'advise': 0.20406189555125726, 'brilliant': 1.0203094777562862, 'rocked': 0.20406189555125726, 'world': 0.6121856866537717, 'certainly': 0.20406189555125726, 'social': 0.20406189555125726, 'physical': 0.20406189555125726, 'outlets': 0.20406189555125726, 'cult': 0.20406189555125726, 'viewing': 0.20406189555125726, 'sharing': 0.20406189555125726, 'treat': 0.20406189555125726, 'anthony': 0.20406189555125726, 'quinn': 0.20406189555125726, 'playing': 0.816247582205029, 'crazy': 0.4081237911025145, 'horse': 0.20406189555125726, 'like': 1.8365570599613152, 'empowerment': 0.20406189555125726, 'women': 0.20406189555125726, 'theres': 0.4081237911025145, 'movies': 1.0203094777562862, 'excellent': 1.0203094777562862, 'performance': 1.0203094777562862, 'ms': 0.20406189555125726, 'garbo': 0.20406189555125726, 'bat': 0.20406189555125726, 'talents': 0.20406189555125726, 'carry': 0.20406189555125726, 'silent': 1.0203094777562862, 'era': 0.20406189555125726, 'wanted': 0.4081237911025145, 'work': 0.816247582205029, 'netflix': 0.20406189555125726, 'doesnt': 0.6121856866537717, 'stocking': 0.20406189555125726, 'renowned': 0.20406189555125726, 'screenwriter': 0.4081237911025145, 'frances': 0.20406189555125726, 'marion': 0.20406189555125726, 'missed': 0.20406189555125726, 'step': 0.4081237911025145, 'sound': 0.6121856866537717, 'youll': 0.20406189555125726, 'love': 1.632495164410058, 'bad': 0.816247582205029, 'ones': 0.20406189555125726, 'received': 0.4081237911025145, 'quality': 0.20406189555125726, 'age': 0.4081237911025145, 'john': 1.2243713733075434, 'wayne': 0.4081237911025145, 'incredible': 0.4081237911025145, 'job': 1.2243713733075434, 'young': 0.20406189555125726, 'industry': 0.20406189555125726, 'screen': 0.6121856866537717, 'presence': 0.20406189555125726, 'shined': 0.20406189555125726, 'senior': 0.20406189555125726, 'older': 0.20406189555125726, 'enjoy': 0.20406189555125726, 'seen': 0.6121856866537717, 'half': 0.20406189555125726, 'boring': 0.4081237911025145, 'self': 0.6121856866537717, 'indulgent': 0.4081237911025145, 'piece': 0.4081237911025145, 'junk': 0.20406189555125726, 'probably': 0.6121856866537717, 'hadnt': 0.20406189555125726, 'spent': 0.20406189555125726, 'showcasing': 0.20406189555125726, 'art': 1.0203094777562862, 'isnt': 0.20406189555125726, 'noteworthy': 0.4081237911025145, 'character': 0.816247582205029, 'got': 0.6121856866537717, 'punched': 0.20406189555125726, 'gallon': 0.20406189555125726, 'blood': 0.4081237911025145, 'spew': 0.20406189555125726, 'forth': 0.20406189555125726, 'soon': 0.20406189555125726, 'jamie': 0.20406189555125726, 'foxx': 0.20406189555125726, 'absolutely': 0.6121856866537717, 'ray': 0.20406189555125726, 'charles': 0.20406189555125726, 'simply': 0.20406189555125726, 'genius': 0.4081237911025145, 'owns': 0.20406189555125726, 'spacek': 0.20406189555125726, 'owned': 0.4081237911025145, 'coal': 0.20406189555125726, 'miners': 0.20406189555125726, 'daughter': 0.20406189555125726, 'quaid': 0.20406189555125726, 'balls': 0.20406189555125726, 'highly': 0.6121856866537717, 'entertaining': 0.6121856866537717, 'angles': 0.20406189555125726, 'features': 0.4081237911025145, 'outlandish': 0.20406189555125726, 'array': 0.20406189555125726, 'memorable': 0.6121856866537717, 'psychotic': 0.20406189555125726, 'lovable': 0.20406189555125726, 'nuts': 0.4081237911025145, 'enjoyment': 0.20406189555125726, 'play': 0.816247582205029, 'games': 0.20406189555125726, 'dangerous': 0.4081237911025145, 'sweet': 0.20406189555125726, 'moments': 0.20406189555125726, 'telephone': 0.20406189555125726, 'repair': 0.20406189555125726, 'man': 0.816247582205029, 'reactions': 0.4081237911025145, 'bitchy': 0.20406189555125726, 'boss': 0.20406189555125726, 'truly': 0.4081237911025145, 'genuine': 0.20406189555125726, 'tremendously': 0.20406189555125726, 'smart': 0.4081237911025145, 'twist': 0.20406189555125726, 'television': 0.20406189555125726, 'series': 0.20406189555125726, 'writers': 0.20406189555125726, 'smack': 0.20406189555125726, 'actresses': 0.4081237911025145, 'bonus': 0.20406189555125726, 'showthese': 0.20406189555125726, 'taped': 0.20406189555125726, 'episodes': 0.20406189555125726, 'know': 0.816247582205029, 'exactly': 0.4081237911025145, 'latched': 0.20406189555125726, 'endearing': 0.20406189555125726, 'special': 0.816247582205029, 'familys': 0.20406189555125726, 'memories': 0.4081237911025145, 'totally': 0.6121856866537717, 'recommend': 0.6121856866537717, 'likes': 0.4081237911025145, 'wholesome': 0.4081237911025145, 'family': 0.6121856866537717, 'things': 0.4081237911025145, 'shows': 0.20406189555125726, 'strong': 0.20406189555125726, 'sibling': 0.20406189555125726, 'bond': 0.20406189555125726, 'action': 0.20406189555125726, 'suspense': 0.20406189555125726, 'unneeded': 0.20406189555125726, 'controversy': 0.20406189555125726, 'solid': 0.20406189555125726, 'damian': 0.20406189555125726, 'talented': 0.20406189555125726, 'versatile': 0.20406189555125726, 'ways': 0.20406189555125726, 'portraying': 0.4081237911025145, 'different': 0.816247582205029, 'cutting': 0.20406189555125726, 'pleased': 0.20406189555125726, 'modern': 0.20406189555125726, 'day': 0.4081237911025145, 'letting': 0.20406189555125726, 'passion': 0.20406189555125726, 'drive': 0.20406189555125726, 'taking': 0.20406189555125726, 'audience': 0.4081237911025145, 'elias': 0.20406189555125726, 'koteasjack': 0.20406189555125726, 'palance': 0.20406189555125726, 'roles': 0.4081237911025145, 'angelina': 0.20406189555125726, 'hot': 0.20406189555125726, 'gets': 0.4081237911025145, 'nakedbilly': 0.20406189555125726, 'drago': 0.6121856866537717, 'appears': 0.20406189555125726, 'usual': 0.4081237911025145, 'cameo': 0.20406189555125726, 'sven': 0.20406189555125726, 'ole': 0.20406189555125726, 'thorsen': 0.20406189555125726, 'enjoyable': 0.6121856866537717, 'budget': 0.4081237911025145, 'awesome': 0.20406189555125726, 'bought': 0.20406189555125726, 'ebay': 0.20406189555125726, 'story': 0.6121856866537717, 'line': 0.20406189555125726, 'poler': 0.20406189555125726, 'bear': 0.20406189555125726, 'kinda': 0.4081237911025145, 'cutebut': 0.20406189555125726, 'question': 0.20406189555125726, 'fort': 0.20406189555125726, 'steele': 0.20406189555125726, 'ask': 0.20406189555125726, 'away': 0.20406189555125726, 'wonderful': 1.0203094777562862, 'parts': 0.816247582205029, 'literally': 0.20406189555125726, 'wonder': 0.4081237911025145, 'excerpts': 0.20406189555125726, 'works': 0.4081237911025145, 'sets': 0.4081237911025145, 'especially': 0.20406189555125726, 'designed': 0.20406189555125726, 'camera': 0.816247582205029, 'amazingstylized': 0.20406189555125726, 'effective': 0.20406189555125726, 'exemplars': 0.20406189555125726, 'set': 0.20406189555125726, 'designer': 0.20406189555125726, 'stories': 0.4081237911025145, 'powerful': 0.20406189555125726, 'explorations': 0.20406189555125726, 'nature': 0.20406189555125726, 'learn': 0.20406189555125726, 'artist': 0.20406189555125726, 'interested': 0.20406189555125726, 'poetry': 0.20406189555125726, 'theater': 0.4081237911025145, 'politics': 0.20406189555125726, 'japanese': 0.20406189555125726, 'history': 0.6121856866537717, 'rendering': 0.20406189555125726, 'americas': 0.20406189555125726, 'imperial': 0.20406189555125726, 'makes': 0.816247582205029, 'values': 0.20406189555125726, 'faultless': 0.20406189555125726, 'photography': 0.4081237911025145, 'composition': 0.4081237911025145, 'underappreciated': 0.20406189555125726, 'brian': 0.20406189555125726, 'keith': 0.20406189555125726, 'bully': 0.20406189555125726, 'teddy': 0.20406189555125726, 'vivid': 0.20406189555125726, 'told': 0.20406189555125726, 'largely': 0.20406189555125726, 'eyes': 0.4081237911025145, 'son': 0.20406189555125726, 'member': 0.20406189555125726, 'identify': 0.20406189555125726, 'sean': 0.20406189555125726, 'connerys': 0.20406189555125726, 'noble': 0.20406189555125726, 'brigand': 0.20406189555125726, 'candace': 0.20406189555125726, 'bergens': 0.20406189555125726, 'feisty': 0.20406189555125726, 'heroine': 0.20406189555125726, 'hustons': 0.20406189555125726, 'wily': 0.20406189555125726, 'hay': 0.20406189555125726, 'steve': 0.4081237911025145, 'kanalys': 0.20406189555125726, 'spiffy': 0.20406189555125726, 'radiant': 0.20406189555125726, 'ruthless': 0.20406189555125726, 'lieutenant': 0.20406189555125726, 'roosevelts': 0.20406189555125726, 'big': 0.6121856866537717, 'stick': 0.20406189555125726, 'high': 0.20406189555125726, 'adventure': 0.20406189555125726, 'robert': 0.4081237911025145, 'ryans': 0.20406189555125726, 'portrayed': 0.20406189555125726, 'father': 0.4081237911025145, 'schizophrenic': 0.20406189555125726, 'lifemy': 0.20406189555125726, 'murdered': 0.4081237911025145, 'affected': 0.20406189555125726, 'second': 0.4081237911025145, 'war': 0.20406189555125726, 'worse': 0.20406189555125726, 'having': 0.4081237911025145, 'humour': 0.4081237911025145, 'apt': 0.20406189555125726, 'mother': 0.20406189555125726, 'brother': 0.20406189555125726, 'thiswhen': 0.20406189555125726, 'ryan': 0.20406189555125726, 'type': 0.4081237911025145, 'imitation': 0.20406189555125726, 'individual': 0.20406189555125726, 'impressed': 0.4081237911025145, 'non': 0.20406189555125726, 'linear': 0.20406189555125726, 'narration': 0.20406189555125726, 'flashbacks': 0.20406189555125726, 'articulated': 0.20406189555125726, 'monica': 0.20406189555125726, 'bellucci': 0.20406189555125726, 'commentary': 0.20406189555125726, 'todays': 0.20406189555125726, 'undoubtedly': 0.20406189555125726, 'seeing': 0.6121856866537717, 'people': 0.816247582205029, 'timers': 0.20406189555125726, 'popular': 0.4081237911025145, 'cinema': 0.6121856866537717, 'plenty': 0.4081237911025145, 'laughs': 0.20406189555125726, 'feel': 0.20406189555125726, 'thats': 0.4081237911025145, 'felt': 0.4081237911025145, 'came': 0.4081237911025145, 'northern': 0.20406189555125726, 'positive': 0.20406189555125726, 'community': 0.20406189555125726, 'represents': 0.20406189555125726, 'enjoyed': 1.0203094777562862, 'created': 0.4081237911025145, 'unique': 0.20406189555125726, 'feeling': 0.6121856866537717, 'vivian': 0.20406189555125726, 'schilling': 0.20406189555125726, 'script': 0.6121856866537717, 'garbage': 0.4081237911025145, 'theatres': 0.20406189555125726, 'role': 0.6121856866537717, 'screamy': 0.20406189555125726, 'masculine': 0.20406189555125726, 'casted': 0.20406189555125726, 'ready': 0.20406189555125726, 'european': 0.20406189555125726, 'throwback': 0.20406189555125726, 'student': 0.20406189555125726, 's': 0.6121856866537717, 'experiences': 0.20406189555125726, 'living': 0.20406189555125726, 'abroad': 0.20406189555125726, 'interacting': 0.20406189555125726, 'nationalities': 0.20406189555125726, 'circumstances': 0.20406189555125726, 'slightly': 0.20406189555125726, 'excellentangel': 0.20406189555125726, 'scamp': 0.6121856866537717, 'adorablehis': 0.20406189555125726, 'little': 0.6121856866537717, 'yelps': 0.20406189555125726, 'hes': 0.20406189555125726, 'scaredand': 0.20406189555125726, 'funniest': 0.20406189555125726, 'whenscamp': 0.20406189555125726, 'caught': 0.20406189555125726, 'curtain': 0.20406189555125726, 'angel': 0.4081237911025145, 'singing': 0.20406189555125726, 'beforei': 0.20406189555125726, 'movieits': 0.20406189555125726, 'coming': 0.20406189555125726, 'edition': 0.20406189555125726, 'june': 0.20406189555125726, 'cover': 0.20406189555125726, 'underneath': 0.20406189555125726, 'lid': 0.20406189555125726, 'explain': 0.20406189555125726, 'romanticcharminghilariousand': 0.20406189555125726, 'adorablethe': 0.20406189555125726, 'junkyard': 0.4081237911025145, 'funnyall': 0.20406189555125726, 'dogs': 0.4081237911025145, 'specialtoo': 0.20406189555125726, 'laughedkids': 0.20406189555125726, 'itbuy': 0.20406189555125726, 'comes': 0.20406189555125726, 'outit': 0.20406189555125726, 'new': 0.20406189555125726, 'premise': 0.20406189555125726, 'billy': 0.20406189555125726, 'nut': 0.20406189555125726, 'bag': 0.20406189555125726, 'note': 0.20406189555125726, 'stephen': 0.20406189555125726, 'mchattie': 0.20406189555125726, 'lance': 0.20406189555125726, 'hendrikson': 0.20406189555125726, 'flick': 0.20406189555125726, 'talk': 0.20406189555125726, 'raging': 0.20406189555125726, 'cheekbones': 0.20406189555125726, 'soundtrack': 0.4081237911025145, 'wasnt': 0.4081237911025145, 'terrible': 0.20406189555125726, 'oy': 0.20406189555125726, 'vey': 0.20406189555125726, 'scale': 0.4081237911025145, 'jobs': 0.20406189555125726, 'amusing': 0.20406189555125726, 'minutes': 0.20406189555125726, 'armand': 0.20406189555125726, 'assante': 0.20406189555125726, 'cable': 0.20406189555125726, 'companys': 0.20406189555125726, 'summary': 0.20406189555125726, 'sounded': 0.20406189555125726, 'watched': 0.4081237911025145, 'twice': 0.20406189555125726, 'believe': 0.816247582205029, 'tying': 0.20406189555125726, 'loose': 0.20406189555125726, 'ends': 0.20406189555125726, 'score': 0.4081237911025145, 'plot': 0.4081237911025145, 'wont': 0.20406189555125726, 'spoilers': 0.20406189555125726, 'want': 0.4081237911025145, 'deeply': 0.20406189555125726, 'knew': 0.4081237911025145, 'come': 0.20406189555125726, 'gifted': 0.20406189555125726, 'actor': 0.816247582205029, 'share': 0.20406189555125726, 'ups': 0.4081237911025145, 'starring': 0.20406189555125726, 'jaclyn': 0.20406189555125726, 'smith': 0.20406189555125726, 'god': 0.20406189555125726, 'ago': 0.20406189555125726, 'contained': 0.20406189555125726, 'star': 0.20406189555125726, 'opened': 0.20406189555125726, 'havent': 0.20406189555125726, 'kind': 0.20406189555125726, 'length': 0.20406189555125726, 'minute': 0.20406189555125726, 'rate': 0.20406189555125726, 'lifetime': 0.20406189555125726, 'air': 0.20406189555125726, 'knows': 0.20406189555125726, 'store': 0.20406189555125726, 'sells': 0.20406189555125726, 'let': 0.20406189555125726, 'loads': 0.20406189555125726, 'understatement': 0.20406189555125726, 'black': 0.6121856866537717, 'comedy': 0.20406189555125726, 'remember': 0.20406189555125726, 'creates': 0.20406189555125726, 'universe': 0.20406189555125726, 'fascinating': 0.20406189555125726, 'hope': 0.4081237911025145, 'team': 0.20406189555125726, 'continue': 0.20406189555125726, 'weird': 0.20406189555125726, 'style': 0.20406189555125726, 'forgot': 0.20406189555125726, 'superb': 0.6121856866537717, 'trond': 0.20406189555125726, 'fausa': 0.20406189555125726, 'aurvg': 0.20406189555125726, 'bothersome': 0.20406189555125726, 'understand': 0.4081237911025145, 'humorous': 0.4081237911025145, 'comment': 0.20406189555125726, 'life': 0.20406189555125726, 'initially': 0.20406189555125726, 'local': 0.20406189555125726, 'sites': 0.20406189555125726, 'filmed': 0.4081237911025145, 'buffalo': 0.20406189555125726, 'intrigued': 0.20406189555125726, 'later': 0.20406189555125726, 'lost': 0.4081237911025145, 'power': 0.20406189555125726, 'entire': 0.20406189555125726, 'applauded': 0.20406189555125726, 'conclusion': 0.20406189555125726, 'left': 0.20406189555125726, 'lilt': 0.20406189555125726, 'heart': 0.4081237911025145, 'human': 0.4081237911025145, 'race': 0.20406189555125726, 'duris': 0.20406189555125726, 'appearance': 0.4081237911025145, 'gives': 0.20406189555125726, 'fine': 0.6121856866537717, 'rest': 0.20406189555125726, 'including': 0.4081237911025145, 'views': 0.20406189555125726, 'barcelona': 0.20406189555125726, 'famed': 0.20406189555125726, 'gaudi': 0.20406189555125726, 'towers': 0.20406189555125726, 'martin': 0.20406189555125726, 'middle': 0.20406189555125726, 'aged': 0.20406189555125726, 'upper': 0.20406189555125726, 'class': 0.20406189555125726, 'uptight': 0.20406189555125726, 'white': 0.816247582205029, 'guy': 0.20406189555125726, 'add': 0.20406189555125726, 'betty': 0.20406189555125726, 'jean': 0.20406189555125726, 'steamboat': 0.20406189555125726, 'willie': 0.20406189555125726, 'amazingly': 0.20406189555125726, 'important': 0.20406189555125726, 'mickey': 0.6121856866537717, 'mouse': 0.20406189555125726, 'following': 0.20406189555125726, 'plane': 0.20406189555125726, 'earlier': 0.20406189555125726, 'year': 0.20406189555125726, 'famous': 0.20406189555125726, 'ground': 0.20406189555125726, 'breaking': 0.20406189555125726, 'hear': 0.20406189555125726, 'speak': 0.20406189555125726, 'tons': 0.20406189555125726, 'effects': 0.6121856866537717, 'granted': 0.20406189555125726, 'huge': 0.20406189555125726, 'crowd': 0.4081237911025145, 'pleaser': 0.4081237911025145, 'amazed': 0.20406189555125726, 'timeless': 0.20406189555125726, 'turkey': 0.20406189555125726, 'straw': 0.20406189555125726, 'imaginative': 0.20406189555125726, 'cruel': 0.20406189555125726, 'clever': 0.20406189555125726, 'ranks': 0.20406189555125726, 'mickeys': 0.20406189555125726, 'original': 0.4081237911025145, 'body': 0.20406189555125726, 'soul': 0.20406189555125726, 'garfield': 0.20406189555125726, 'ann': 0.20406189555125726, 'revere': 0.20406189555125726, 'lilli': 0.20406189555125726, 'plmer': 0.20406189555125726, 'william': 0.20406189555125726, 'conrad': 0.20406189555125726, 'canada': 0.20406189555125726, 'leeand': 0.20406189555125726, 'cinematographers': 0.20406189555125726, 'grace': 0.20406189555125726, 'screenjames': 0.20406189555125726, 'wong': 0.20406189555125726, 'howe': 0.20406189555125726, 'okay': 0.20406189555125726, 'fair': 0.20406189555125726, 'critic': 0.20406189555125726, 'credit': 0.20406189555125726, 'credits': 0.4081237911025145, 'creature': 0.20406189555125726, 'gotta': 0.20406189555125726, 'close': 0.4081237911025145, 'slimy': 0.20406189555125726, 'drooling': 0.20406189555125726, 'teeth': 0.20406189555125726, 'sole': 0.20406189555125726, 'bright': 0.20406189555125726, 'spot': 0.20406189555125726, 'jonah': 0.20406189555125726, 'hill': 0.20406189555125726, 'unrecognizable': 0.20406189555125726, 'fans': 0.4081237911025145, 'recent': 0.20406189555125726, 'superbad': 0.20406189555125726, 'weight': 0.20406189555125726, 'interim': 0.20406189555125726, 'child': 0.6121856866537717, 'proudly': 0.20406189555125726, 'classical': 0.20406189555125726, 'wb': 0.20406189555125726, 'cartoons': 0.4081237911025145, 'tiny': 0.20406189555125726, 'toons': 0.20406189555125726, 'kept': 0.20406189555125726, 'vibe': 0.20406189555125726, 'delivered': 0.20406189555125726, 'underrated': 0.20406189555125726, 'murky': 0.20406189555125726, 'episode': 0.20406189555125726, 'product': 0.20406189555125726, 'related': 0.20406189555125726, 'easily': 0.20406189555125726, 'cartoon': 0.4081237911025145, 'laugh': 0.20406189555125726, 'tender': 0.20406189555125726, 'getting': 0.20406189555125726, 'dark': 0.4081237911025145, 'sitcoms': 0.20406189555125726, 'oriented': 0.20406189555125726, 'teenagers': 0.20406189555125726, 'peculiarity': 0.20406189555125726, 'lead': 0.4081237911025145, 'deserved': 0.4081237911025145, 'called': 0.20406189555125726, 'perabo': 0.20406189555125726, 'energy': 0.20406189555125726, 'level': 0.20406189555125726, 'obviously': 0.20406189555125726, 'comfortable': 0.20406189555125726, 'pitch': 0.20406189555125726, 'longer': 0.20406189555125726, 'goes': 0.20406189555125726, 'surprised': 0.20406189555125726, 'care': 0.20406189555125726, 'instant': 0.20406189555125726, 'catchy': 0.20406189555125726, 'miss': 0.20406189555125726, 'masterful': 0.20406189555125726, 'themes': 0.20406189555125726, 'simmering': 0.20406189555125726, 'boiling': 0.20406189555125726, 'warts': 0.20406189555125726, 'study': 0.20406189555125726, 'poets': 0.20406189555125726, 'bohemian': 0.20406189555125726, 'wartime': 0.20406189555125726, 'span': 0.20406189555125726, 'aerial': 0.20406189555125726, 'bombardments': 0.20406189555125726, 'london': 0.20406189555125726, 'outward': 0.20406189555125726, 'tranquillity': 0.20406189555125726, 'welsh': 0.20406189555125726, 'coastal': 0.20406189555125726, 'retreat': 0.20406189555125726, 'borderlines': 0.20406189555125726, 'friendship': 0.20406189555125726, 'lust': 0.20406189555125726, 'dedication': 0.20406189555125726, 'experience': 0.20406189555125726, 'versus': 0.4081237911025145, 'practical': 0.20406189555125726, 'concerns': 0.20406189555125726, 'jealousy': 0.20406189555125726, 'rivalry': 0.20406189555125726, 'cowardice': 0.20406189555125726, 'egotism': 0.20406189555125726, 'heroism': 0.20406189555125726, 'sacrifice': 0.20406189555125726, 'mature': 0.20406189555125726, 'subtle': 0.20406189555125726, 'suggests': 0.20406189555125726, 'brings': 0.20406189555125726, 'dramatic': 0.20406189555125726, 'focus': 0.20406189555125726, 'underlying': 0.20406189555125726, 'tensions': 0.20406189555125726, 'served': 0.20406189555125726, 'performances': 0.20406189555125726, 'apart': 0.20406189555125726, 'odd': 0.20406189555125726, 'inappropriate': 0.20406189555125726, 'smiling': 0.20406189555125726, 'keira': 0.20406189555125726, 'knightley': 0.20406189555125726, 'prone': 0.20406189555125726, 'direction': 0.20406189555125726, 'mention': 0.4081237911025145, 'exquisite': 0.20406189555125726, 'visual': 0.20406189555125726, 'moment': 0.4081237911025145, 'inventive': 0.20406189555125726, 'elegant': 0.20406189555125726, 'use': 0.20406189555125726, 'angle': 0.20406189555125726, 'lighting': 0.20406189555125726, 'pointillistic': 0.20406189555125726, 'home': 0.20406189555125726, 'footage': 0.20406189555125726, 'behold': 0.20406189555125726, 'continuously': 0.20406189555125726, 'bertolucci': 0.20406189555125726, 'relationships': 0.20406189555125726, 'convincing': 0.20406189555125726, 'narrative': 0.20406189555125726, 'engaging': 0.20406189555125726, 'masters': 0.4081237911025145, 'christmas': 0.20406189555125726, 'errol': 0.4081237911025145, 'flynn': 0.4081237911025145, 'custer': 0.20406189555125726, 'favourite': 0.4081237911025145, 'alongside': 0.20406189555125726, 'olivia': 0.20406189555125726, 'havilland': 0.20406189555125726, 'fantastic': 0.4081237911025145, 'known': 0.20406189555125726, 'dads': 0.20406189555125726, 'grew': 0.20406189555125726, 'realised': 0.20406189555125726, 'lovely': 0.20406189555125726, 'thriller': 0.20406189555125726, 'hitchcock': 0.4081237911025145, 'lots': 0.20406189555125726, 'shenanigans': 0.20406189555125726, 'surrounding': 0.20406189555125726, 'spy': 0.20406189555125726, 'kidnapped': 0.20406189555125726, 'nasty': 0.20406189555125726, 'foreign': 0.20406189555125726, 'random': 0.20406189555125726, 'taxidermists': 0.20406189555125726, 'stewart': 0.20406189555125726, 'hero': 0.20406189555125726, 'rips': 0.20406189555125726, 'climax': 0.20406189555125726, 'embassy': 0.20406189555125726, 'function': 0.20406189555125726, 'lacks': 0.20406189555125726, 'brooding': 0.20406189555125726, 'menace': 0.20406189555125726, 'hitchcocks': 0.20406189555125726, 'low': 0.20406189555125726, 'stable': 0.20406189555125726, 'excellently': 0.4081237911025145, 'produced': 0.4081237911025145, 'tops': 0.20406189555125726, 'ratings': 0.20406189555125726, 'typical': 0.20406189555125726, 'sci': 0.4081237911025145, 'fi': 0.20406189555125726, 'fis': 0.20406189555125726, 'producers': 0.20406189555125726, 'scot': 0.20406189555125726, 'vandiver': 0.20406189555125726, 'nonetheless': 0.20406189555125726, 'campy': 0.20406189555125726, 'sort': 0.20406189555125726, 'barely': 0.20406189555125726, 'delight': 0.20406189555125726, 'revealing': 0.20406189555125726, 'complexity': 0.20406189555125726, 'task': 0.20406189555125726, 'challenges': 0.20406189555125726, 'facing': 0.20406189555125726, 'south': 0.4081237911025145, 'africa': 0.4081237911025145, 'outside': 0.20406189555125726, 'past': 0.20406189555125726, 'attempted': 0.20406189555125726, 'truth': 0.20406189555125726, 'reconciliation': 0.20406189555125726, 'process': 0.20406189555125726, 'magnificent': 0.20406189555125726, 'photographycinematography': 0.20406189555125726, 'seamlessly': 0.20406189555125726, 'woven': 0.20406189555125726, 'splendid': 0.20406189555125726, 'rent': 0.20406189555125726, 'view': 0.20406189555125726, 'subtitles': 0.20406189555125726, 'aversion': 0.20406189555125726, 'therapy': 0.20406189555125726, 'shakespear': 0.4081237911025145, 'macbeth': 0.4081237911025145, 'jason': 0.20406189555125726, 'connery': 0.20406189555125726, 'moved': 0.20406189555125726, 'tears': 0.20406189555125726, 'final': 0.20406189555125726, 'monolog': 0.20406189555125726, 'brief': 0.20406189555125726, 'candle': 0.20406189555125726, 'outhe': 0.20406189555125726, 'sphere': 0.20406189555125726, 'moral': 0.20406189555125726, 'decay': 0.4081237911025145, 'forces': 0.20406189555125726, 'helen': 0.20406189555125726, 'baxendale': 0.20406189555125726, 'credible': 0.20406189555125726, 'lady': 0.20406189555125726, 'cheerfull': 0.20406189555125726, 'times': 0.20406189555125726, 'looks': 0.20406189555125726, 'naughty': 0.20406189555125726, 'girl': 0.20406189555125726, 'deadly': 0.20406189555125726, 'taste': 0.20406189555125726, 'evil': 0.20406189555125726, 'death': 0.20406189555125726, 'shakespears': 0.20406189555125726, 'lyrics': 0.20406189555125726, 'witty': 0.20406189555125726, 'delightful': 0.20406189555125726, 'adaptation': 0.20406189555125726, 'dr': 0.20406189555125726, 'seuss': 0.20406189555125726, 'book': 0.20406189555125726, 'brilliantly': 0.20406189555125726, 'animated': 0.20406189555125726, 'upas': 0.20406189555125726, 'finest': 0.20406189555125726, 'thoroughly': 0.20406189555125726, 'deserving': 0.20406189555125726, 'academy': 0.20406189555125726, 'award': 0.20406189555125726, 'integral': 0.20406189555125726, 'element': 0.20406189555125726, 'helping': 0.20406189555125726, 'paul': 0.20406189555125726, 'schrader': 0.20406189555125726, 'mishima': 0.20406189555125726, 'complex': 0.20406189555125726, 'notable': 0.20406189555125726, 'baileys': 0.20406189555125726, 'crisp': 0.20406189555125726, 'beautifully': 0.20406189555125726, 'colored': 0.20406189555125726, 'design': 0.20406189555125726, 'costumes': 0.4081237911025145, 'eiko': 0.20406189555125726, 'ishioka': 0.20406189555125726, 'went': 0.20406189555125726, 'coppolas': 0.20406189555125726, 'dracula': 0.20406189555125726, 'oscar': 0.20406189555125726, 'small': 0.20406189555125726, 'consolations': 0.20406189555125726, 'annes': 0.20406189555125726, 'stunning': 0.20406189555125726, 'raw': 0.20406189555125726, 'sublimely': 0.20406189555125726, 'moving': 0.20406189555125726, 'gripping': 0.20406189555125726, 'intelligent': 0.20406189555125726, 'stage': 0.4081237911025145, 'overly': 0.20406189555125726, 'theatrical': 0.20406189555125726, 'plays': 0.20406189555125726, 'everyones': 0.20406189555125726, 'terror': 0.20406189555125726, 'lie': 0.20406189555125726, 'escalating': 0.20406189555125726, 'monstrous': 0.20406189555125726, 'consequences': 0.20406189555125726, 'main': 0.20406189555125726, 'players': 0.20406189555125726, 'mesmerising': 0.20406189555125726, 'tom': 0.20406189555125726, 'wilkinson': 0.20406189555125726, 'broke': 0.20406189555125726, 'elses': 0.20406189555125726, 'judging': 0.20406189555125726, 'fumbling': 0.20406189555125726, 'hankies': 0.20406189555125726, 'hands': 0.20406189555125726, 'faces': 0.20406189555125726, 'males': 0.20406189555125726, 'females': 0.20406189555125726, 'alike': 0.20406189555125726, 'julian': 0.20406189555125726, 'fellowes': 0.20406189555125726, 'triumphed': 0.20406189555125726}\n"
     ]
    }
   ],
   "source": [
    "def conditional_probability(word_freq_0, word_freq_1):\n",
    "  word_freq_0_probs = {}\n",
    "  word_freq_1_probs = {}\n",
    "\n",
    "  for word in word_freq_0:\n",
    "    word_freq_0_probs[word] = word_freq_0[word] / len(word_freq_0)\n",
    "\n",
    "  for word in word_freq_1:\n",
    "    word_freq_1_probs[word] = word_freq_1[word] / len(word_freq_1)\n",
    "\n",
    "  return word_freq_0_probs, word_freq_1_probs\n",
    "\n",
    "word_freq_0_probs, word_freq_1_probs = conditional_probability(word_freq_0, word_freq_1)\n",
    "print(word_freq_0_probs)\n",
    "print(word_freq_1_probs)"
   ]
  },
  {
   "cell_type": "code",
   "execution_count": 18,
   "metadata": {
    "id": "6R7yeGqpe5nu"
   },
   "outputs": [],
   "source": [
    "def accuracy(actual, predicted):\n",
    "  correct = 0\n",
    "  for i in range(len(actual)):\n",
    "    if actual[i] == predicted[i]:\n",
    "      correct = correct + 1\n",
    "  return correct / float(len(actual)) * 100.0"
   ]
  },
  {
   "cell_type": "code",
   "execution_count": 19,
   "metadata": {
    "colab": {
     "base_uri": "https://localhost:8080/"
    },
    "id": "xS0bTiQoc_l9",
    "outputId": "7e6a161e-0f0a-4be3-cbda-be578684d3e7"
   },
   "outputs": [
    {
     "name": "stdout",
     "output_type": "stream",
     "text": [
      "Accuracy on Train Dataset : 97.28033472803347 %\n"
     ]
    }
   ],
   "source": [
    "def fit(train_data):\n",
    "  y_preds = []\n",
    "  for sentence in train_data:\n",
    "    vocab, word_freq = tokenize(sentence)\n",
    "    vocab, word_freq = remove_stop_words(vocab, word_freq)\n",
    "\n",
    "    word_freq_0_probs, word_freq_1_probs = conditional_probability(word_freq_0, word_freq_1)\n",
    "    \n",
    "    liklihood_0 = 1\n",
    "    liklihood_1 = 1\n",
    "    \n",
    "    for word in vocab:\n",
    "      if not word in word_freq_0_probs:\n",
    "        word_freq_0_probs[word] = 0.0\n",
    "      \n",
    "      if not word in word_freq_1_probs:\n",
    "        word_freq_1_probs[word] = 0.0\n",
    "      \n",
    "      liklihood_0 = liklihood_0 * word_freq_0_probs[word]\n",
    "      liklihood_1 = liklihood_1 * word_freq_1_probs[word]\n",
    "\n",
    "    posterior_0 = prior_class_prob[0]*liklihood_0\n",
    "    posterior_1 = prior_class_prob[1]*liklihood_1\n",
    "    \n",
    "    if posterior_0 > posterior_1:\n",
    "      preds = 0\n",
    "    else:\n",
    "      preds = 1\n",
    "      \n",
    "    y_preds.append(preds)\n",
    "  return y_preds\n",
    "\n",
    "model = fit(X_train)\n",
    "\n",
    "train_accuracy = accuracy(model, y_train)\n",
    "print(f'Accuracy on Train Dataset : {train_accuracy} %')"
   ]
  },
  {
   "cell_type": "code",
   "execution_count": 20,
   "metadata": {
    "colab": {
     "base_uri": "https://localhost:8080/"
    },
    "id": "z1VXOHgJLGKS",
    "outputId": "df39898d-0247-4736-df1c-bbc829024448"
   },
   "outputs": [
    {
     "data": {
      "text/plain": [
       "0    A very very very slow moving aimless movie abo...\n",
       "1    Not sure who was more lost   the flat characte...\n",
       "2    Attempting artiness with black  white and clev...\n",
       "3            Very little music or anything to speak of\n",
       "4    The best scene in the movie was when Gerardo i...\n",
       "Name: review, dtype: object"
      ]
     },
     "execution_count": 20,
     "metadata": {},
     "output_type": "execute_result"
    }
   ],
   "source": [
    "X_train.head()"
   ]
  },
  {
   "cell_type": "code",
   "execution_count": 21,
   "metadata": {
    "id": "KdTpolPHjhrV"
   },
   "outputs": [],
   "source": [
    "# a method to predict or test our model\n",
    "def predict(test_data):\n",
    "  predd = []\n",
    "  for sentence in test_data:\n",
    "    vocab, word_freq = tokenize(sentence)\n",
    "    vocab, word_freq = remove_stop_words(vocab, word_freq)\n",
    "    # print(f'Vocab : {vocab}, word freq : {word_freq}')\n",
    "    liklihood_0 = 1\n",
    "    liklihood_1 = 1\n",
    "    for word in vocab:\n",
    "      if not word in word_freq_0_probs:\n",
    "        word_freq_0_probs[word] = 0.0\n",
    "      \n",
    "      if not word in word_freq_1_probs:\n",
    "        word_freq_1_probs[word] = 0.0\n",
    "      \n",
    "      liklihood_0 = liklihood_0 * word_freq_0_probs[word]\n",
    "      liklihood_1 = liklihood_1 * word_freq_1_probs[word]\n",
    "\n",
    "    posterior_0 = prior_class_prob[0]*liklihood_0\n",
    "    posterior_1 = prior_class_prob[1]*liklihood_1\n",
    "    \n",
    "    if posterior_0 > posterior_1:\n",
    "        y_pred = 0\n",
    "    else:\n",
    "        y_pred = 1\n",
    "\n",
    "    predd.append(y_pred)\n",
    "  return predd\n",
    "\n",
    "# test_pred = predict(X_test)\n",
    "\n",
    "# test_accuracy = accuracy(y_test.to_list(), test_pred)\n",
    "# print(f'Accuracy on Test Dataset : {test_accuracy} %')"
   ]
  },
  {
   "cell_type": "markdown",
   "metadata": {
    "id": "qf1ACh3p-q_I"
   },
   "source": [
    "### **d. Accuracy On validation/development dataset**"
   ]
  },
  {
   "cell_type": "code",
   "execution_count": 22,
   "metadata": {
    "colab": {
     "base_uri": "https://localhost:8080/",
     "height": 204
    },
    "id": "7qagwAIDEtZt",
    "outputId": "ca231c83-3924-44ca-f81c-0132bbb0691e"
   },
   "outputs": [
    {
     "data": {
      "text/html": [
       "<div>\n",
       "<style scoped>\n",
       "    .dataframe tbody tr th:only-of-type {\n",
       "        vertical-align: middle;\n",
       "    }\n",
       "\n",
       "    .dataframe tbody tr th {\n",
       "        vertical-align: top;\n",
       "    }\n",
       "\n",
       "    .dataframe thead th {\n",
       "        text-align: right;\n",
       "    }\n",
       "</style>\n",
       "<table border=\"1\" class=\"dataframe\">\n",
       "  <thead>\n",
       "    <tr style=\"text-align: right;\">\n",
       "      <th></th>\n",
       "      <th>review</th>\n",
       "      <th>sentiment</th>\n",
       "    </tr>\n",
       "  </thead>\n",
       "  <tbody>\n",
       "    <tr>\n",
       "      <th>478</th>\n",
       "      <td>Hes a national treasure</td>\n",
       "      <td>1</td>\n",
       "    </tr>\n",
       "    <tr>\n",
       "      <th>479</th>\n",
       "      <td>GO AND SEE IT</td>\n",
       "      <td>1</td>\n",
       "    </tr>\n",
       "    <tr>\n",
       "      <th>480</th>\n",
       "      <td>This is an excellent film</td>\n",
       "      <td>1</td>\n",
       "    </tr>\n",
       "    <tr>\n",
       "      <th>481</th>\n",
       "      <td>The aerial scenes were well done</td>\n",
       "      <td>1</td>\n",
       "    </tr>\n",
       "    <tr>\n",
       "      <th>482</th>\n",
       "      <td>It was also the right balance of war and love</td>\n",
       "      <td>1</td>\n",
       "    </tr>\n",
       "  </tbody>\n",
       "</table>\n",
       "</div>"
      ],
      "text/plain": [
       "                                            review  sentiment\n",
       "478                        Hes a national treasure          1\n",
       "479                                  GO AND SEE IT          1\n",
       "480                      This is an excellent film          1\n",
       "481               The aerial scenes were well done          1\n",
       "482  It was also the right balance of war and love          1"
      ]
     },
     "execution_count": 22,
     "metadata": {},
     "output_type": "execute_result"
    }
   ],
   "source": [
    "val_dataset.head()"
   ]
  },
  {
   "cell_type": "code",
   "execution_count": 23,
   "metadata": {
    "id": "DfG7YZnjHMbp"
   },
   "outputs": [],
   "source": [
    "# a method to split the dataset into given no of folds\n",
    "def cross_validation_split(dataset, n_folds):\n",
    "  dataset_split = []\n",
    "  dataset_copy = dataset\n",
    "  fold_size = int(len(dataset) / n_folds)\n",
    "  for _ in range(n_folds):\n",
    "    fold = []\n",
    "    while len(fold) < fold_size:\n",
    "      r = randrange(dataset_copy.shape[0])\n",
    "      index = dataset_copy.index[r]\n",
    "      fold.append(dataset_copy.loc[index].values.tolist())\n",
    "      dataset_copy = dataset_copy.drop(index)\n",
    "    dataset_split.append(fold)\n",
    "  return dataset_split"
   ]
  },
  {
   "cell_type": "code",
   "execution_count": 24,
   "metadata": {
    "id": "VGcpCiupOEQ1"
   },
   "outputs": [],
   "source": [
    "# a method to split the cross fold data into training & test data and calculate accuracies on all folds\n",
    "def kfold_cv(dataset, n_folds):\n",
    "  dataset_split = cross_validation_split(dataset, n_folds)\n",
    "  # print(np.array(dataset_split).shape)\n",
    "  kfold_accuracies = []\n",
    "  for i in range(n_folds):\n",
    "    r = list(range(n_folds)) # [0, 1, 2, 3, 4]\n",
    "    index = r.pop(i) # remove 1 fold data i:e test one\n",
    "    cv_test = dataset_split[index]\n",
    "    for j in r:\n",
    "      # print(\"r[0]\", r[0])\n",
    "      if j == r[0]:\n",
    "        cv_train = dataset_split[j]\n",
    "      else:\n",
    "        cv_train = np.concatenate((cv_train, dataset_split[j]), axis=0)\n",
    "    cv_train = pd.DataFrame(cv_train, columns=['review', 'sentiment'])\n",
    "    cv_test = pd.DataFrame(cv_test, columns=['review', 'sentiment'])\n",
    "    # print(cv_dataset)\n",
    "    fit(cv_train.review)\n",
    "    cv_preds = predict(cv_test.review)\n",
    "    cv_acc = accuracy(cv_test.sentiment, cv_preds)\n",
    "    kfold_accuracies.append(cv_acc)\n",
    "  return kfold_accuracies"
   ]
  },
  {
   "cell_type": "code",
   "execution_count": 25,
   "metadata": {
    "colab": {
     "base_uri": "https://localhost:8080/"
    },
    "id": "5Lpz8KpFgpcr",
    "outputId": "cbd274b3-2c2a-43a4-ca76-e9da5e60ebed"
   },
   "outputs": [
    {
     "name": "stdout",
     "output_type": "stream",
     "text": [
      "Accuracies on 5 fold validation/development dataset :  [66.66666666666666, 58.333333333333336, 58.333333333333336, 58.333333333333336, 45.83333333333333]\n"
     ]
    }
   ],
   "source": [
    "kfold_accuracies = kfold_cv(val_dataset, 5)\n",
    "print(\"Accuracies on 5 fold validation/development dataset : \", kfold_accuracies)"
   ]
  },
  {
   "cell_type": "code",
   "execution_count": 26,
   "metadata": {
    "colab": {
     "base_uri": "https://localhost:8080/"
    },
    "id": "IxdCo8uCmRXM",
    "outputId": "ec0ca117-6736-46eb-8197-1b4d9f1788fb"
   },
   "outputs": [
    {
     "name": "stdout",
     "output_type": "stream",
     "text": [
      "Before applying laplacian smoothing....\n",
      "Accuracy on Test Dataset : 68.66666666666667 %\n"
     ]
    }
   ],
   "source": [
    "print(\"Before applying laplacian smoothing....\")\n",
    "\n",
    "test_pred = predict(X_test)\n",
    "\n",
    "test_accuracy = accuracy(y_test.to_list(), test_pred)\n",
    "print(f'Accuracy on Test Dataset : {test_accuracy} %')"
   ]
  },
  {
   "cell_type": "markdown",
   "metadata": {
    "id": "r_dBYOgxdyvD"
   },
   "source": [
    "## **Laplace/Additive Smoothing**\n",
    "\n",
    "to handle the problem of Zero Probability"
   ]
  },
  {
   "cell_type": "markdown",
   "metadata": {
    "id": "I7qZOR0EZTIf"
   },
   "source": [
    "![image.png](data:image/png;base64,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)"
   ]
  },
  {
   "cell_type": "code",
   "execution_count": 27,
   "metadata": {
    "id": "mymUjE7rVgAx"
   },
   "outputs": [],
   "source": [
    "def laplace_conditional_probability(word_freq_0, word_freq_1, alpha):\n",
    "  word_freq_0_probs = {}\n",
    "  word_freq_1_probs = {}\n",
    "\n",
    "  for word in vocab:\n",
    "\n",
    "    for word in word_freq_0:\n",
    "      word_freq_0_probs[word] = (word_freq_0[word] + 1) / (len(word_freq_0) + 2*alpha)\n",
    "\n",
    "    for word in word_freq_1:\n",
    "      word_freq_1_probs[word] = (word_freq_1[word] + 1) / (len(word_freq_1) + 2*alpha)\n",
    "\n",
    "    return word_freq_0_probs, word_freq_1_probs"
   ]
  },
  {
   "cell_type": "code",
   "execution_count": 28,
   "metadata": {
    "id": "xgr9AfUrHarL"
   },
   "outputs": [],
   "source": [
    "# apply laplacian smoothing \n",
    "def predict(test_data, alpha):\n",
    "  predd = []\n",
    "  for sentence in test_data:\n",
    "    vocab, word_freq = tokenize(sentence)\n",
    "    vocab, word_freq = remove_stop_words(vocab, word_freq)\n",
    "    # print(f'Vocab : {vocab}, word freq : {word_freq}')\n",
    "    liklihood_0 = 1\n",
    "    liklihood_1 = 1\n",
    "    \n",
    "    for word in vocab:\n",
    "\n",
    "      if not word in word_freq_0:\n",
    "        word_freq_0[word] = 0\n",
    "    \n",
    "      if not word in word_freq_1:\n",
    "        word_freq_1[word] = 0\n",
    "\n",
    "      word_freq_0_probs, word_freq_1_probs = laplace_conditional_probability(word_freq_0, word_freq_1, alpha)\n",
    "\n",
    "      liklihood_0 = liklihood_0 * word_freq_0_probs[word]\n",
    "      liklihood_1 = liklihood_1 * word_freq_1_probs[word]\n",
    "\n",
    "    posterior_0 = prior_class_prob[0]*liklihood_0\n",
    "    posterior_1 = prior_class_prob[1]*liklihood_1\n",
    "    \n",
    "    if posterior_0 > posterior_1:\n",
    "        y_pred=0\n",
    "    else:\n",
    "        y_pred=1\n",
    "    \n",
    "    # return y_pred\n",
    "    predd.append(y_pred)\n",
    "  return predd"
   ]
  },
  {
   "cell_type": "code",
   "execution_count": 29,
   "metadata": {
    "colab": {
     "base_uri": "https://localhost:8080/"
    },
    "id": "-ZQVJ1VlYb0r",
    "outputId": "10de3c84-8fbb-4130-ea46-e620ee68e6cb"
   },
   "outputs": [
    {
     "name": "stdout",
     "output_type": "stream",
     "text": [
      "alpha = 0.0001, Accuracy = 57.99999999999999 %\n",
      "alpha = 0.001, Accuracy = 57.333333333333336 %\n",
      "alpha = 0.01, Accuracy = 57.333333333333336 %\n",
      "alpha = 0.1, Accuracy = 57.333333333333336 %\n",
      "alpha = 1, Accuracy = 57.333333333333336 %\n",
      "alpha = 10, Accuracy = 57.333333333333336 %\n",
      "alpha = 100, Accuracy = 57.333333333333336 %\n",
      "alpha = 1000, Accuracy = 54.0 %\n",
      "alpha = 10000, Accuracy = 51.33333333333333 %\n"
     ]
    }
   ],
   "source": [
    "alpha_values = [0.0001, 0.001, 0.01, 0.1, 1, 10, 100, 1000, 10000]\n",
    "lap_acc = []\n",
    "for alpha in alpha_values:\n",
    "  \n",
    "  alpha_preds = predict(X_test, alpha)\n",
    "  \n",
    "  alpha_accuracy = accuracy(y_test.to_list(), alpha_preds)\n",
    "  print(f'alpha = {alpha}, Accuracy = {alpha_accuracy} %')\n",
    "  lap_acc.append(alpha_accuracy)"
   ]
  },
  {
   "cell_type": "code",
   "execution_count": 30,
   "metadata": {
    "colab": {
     "base_uri": "https://localhost:8080/",
     "height": 282
    },
    "id": "Q4mlX2JDByL6",
    "outputId": "976b6fd1-e9cf-48f2-a2ce-a3c95bda62b4"
   },
   "outputs": [
    {
     "data": {
      "image/png": "[encoded data removed]",
      "text/plain": [
       "<Figure size 432x288 with 1 Axes>"
      ]
     },
     "metadata": {
      "needs_background": "light"
     },
     "output_type": "display_data"
    }
   ],
   "source": [
    "sns.lineplot(alpha_values, lap_acc)\n",
    "plt.xlabel('alpha')\n",
    "plt.ylabel('Accuracy')\n",
    "plt.show()"
   ]
  },
  {
   "cell_type": "markdown",
   "metadata": {
    "id": "w9_1CtaSCpcP"
   },
   "source": [
    "### **e. Top 10 words that predicts positive and negative class**"
   ]
  },
  {
   "cell_type": "code",
   "execution_count": 31,
   "metadata": {
    "colab": {
     "base_uri": "https://localhost:8080/"
    },
    "id": "kCuMJVuOoJfa",
    "outputId": "eef1b3b9-901e-4b93-c4fb-586122826f24"
   },
   "outputs": [
    {
     "name": "stdout",
     "output_type": "stream",
     "text": [
      "Top 10 Negative (0) words :\n",
      " ['movie', 'film', 'bad', 'acting', 'like', 'good', 'plot', 'time', 'characters', 'script']\n",
      "Top 10 Positive (1) words :\n",
      " ['movie', 'film', 'good', 'great', 'best', 'funny', 'characters', 'dont', 'think', 'like']\n"
     ]
    }
   ],
   "source": [
    "# gettting top 10 positive & negative words \n",
    "# top10_0 = dict(sorted(word_freq_0_probs.items(), key=operator.itemgetter(1),reverse=True)[:10])\n",
    "# print(f'Top 10 Negative (0) words : {top10_0.keys()}')\n",
    "# top10_1 = dict(sorted(word_freq_1_probs.items(), key=operator.itemgetter(1),reverse=True)[:10])\n",
    "# print(f'Top 10 Positive (1) words : {top10_1.keys()}')\n",
    "\n",
    "top10_0 = dict(sorted(word_freq_0_probs.items(), key=operator.itemgetter(1),reverse=True))\n",
    "top10_1 = dict(sorted(word_freq_1_probs.items(), key=operator.itemgetter(1),reverse=True))\n",
    "top10_neg = []\n",
    "i = 0\n",
    "for key, value in top10_0.items():\n",
    "    if (key not in stop_words_list) & (i < 10):\n",
    "        top10_neg.append(key)\n",
    "        i = i+1\n",
    "print(f'Top 10 Negative (0) words :\\n {top10_neg}')\n",
    "\n",
    "top10_pos = []\n",
    "i = 0\n",
    "for key, value in top10_1.items():\n",
    "    if (key not in stop_words_list) & (i < 10):\n",
    "        top10_pos.append(key)\n",
    "        i = i+1\n",
    "print(f'Top 10 Positive (1) words :\\n {top10_pos}')"
   ]
  },
  {
   "cell_type": "markdown",
   "metadata": {
    "id": "pCksKhLfC-4H"
   },
   "source": [
    "### **f. Calculate final Accuracy on test dataset using optimal hyperparameter found in e**"
   ]
  },
  {
   "cell_type": "markdown",
   "metadata": {
    "id": "BFxg1JdPoQwj"
   },
   "source": [
    "**Best Alpha Value = 0.0001**"
   ]
  },
  {
   "cell_type": "code",
   "execution_count": 32,
   "metadata": {
    "colab": {
     "base_uri": "https://localhost:8080/"
    },
    "id": "I5B0kJ_1gugJ",
    "outputId": "17f8658e-f0a0-4cc4-dd5c-7a5f6372958a"
   },
   "outputs": [
    {
     "name": "stdout",
     "output_type": "stream",
     "text": [
      "After applying laplace smoothing....\n",
      "Final Accuracy on Test Dataset using Laplace smoothing : 57.333333333333336 %\n"
     ]
    }
   ],
   "source": [
    "print(\"After applying laplace smoothing....\")\n",
    "alpha = 0.0001\n",
    "test_pred = predict(X_test, alpha)\n",
    "\n",
    "lap_test_accuracy = accuracy(y_test.to_list(), test_pred)\n",
    "print(f'Final Accuracy on Test Dataset using Laplace smoothing : {lap_test_accuracy} %')"
   ]
  },
  {
   "cell_type": "code",
   "execution_count": 33,
   "metadata": {
    "colab": {
     "base_uri": "https://localhost:8080/",
     "height": 267
    },
    "id": "2iUAWo2FFriz",
    "outputId": "c4536093-7d82-4259-d8c5-3b0546d13074"
   },
   "outputs": [
    {
     "data": {
      "image/png": "[encoded data removed]",
      "text/plain": [
       "<Figure size 432x288 with 1 Axes>"
      ]
     },
     "metadata": {
      "needs_background": "light"
     },
     "output_type": "display_data"
    }
   ],
   "source": [
    "x = ['Train', 'Test w/o Laplace', 'Test w Laplace']\n",
    "y = [train_accuracy, test_accuracy, lap_test_accuracy]\n",
    "sns.barplot(x, y)\n",
    "plt.show()"
   ]
  },
  {
   "cell_type": "markdown",
   "metadata": {
    "id": "CDYRG3BW41wC"
   },
   "source": [
    "## References\n",
    "\n",
    "https://colab.research.google.com/github/bentrevett/pytorch-sentiment-analysis/blob/master/1%20-%20Simple%20Sentiment%20Analysis.ipynb#scrollTo=szrrr5iE3oGj\n",
    "\n",
    "https://pytorch.org/text/stable/datasets.html\n",
    "\n",
    "https://www.freecodecamp.org/news/an-introduction-to-bag-of-words-and-how-to-code-it-in-python-for-nlp-282e87a9da04/\n",
    "\n",
    "https://medium.com/analytics-vidhya/naive-bayes-classifier-for-text-classification-556fabaf252b\n",
    "\n",
    "http://datamine.unc.edu/jupyter/notebooks/Text%20Mining%20Modules/(1)%20Text%20Preprocessing.ipynb\n",
    "\n",
    "https://www.coursera.org/lecture/classification-vector-spaces-in-nlp/laplacian-smoothing-2jMPy\n",
    "\n",
    "https://machinelearningmastery.com/implement-machine-learning-algorithm-performance-metrics-scratch-python/\n",
    "\n",
    "https://monkeylearn.com/blog/practical-explanation-naive-bayes-classifier/\n",
    "\n",
    "https://machinelearningmastery.com/implement-resampling-methods-scratch-python/\n",
    "\n",
    "https://scikit-learn.org/stable/modules/cross_validation.html\n",
    "\n",
    "https://machinelearningmastery.com/naive-bayes-classifier-scratch-python/\n",
    "\n",
    "\n",
    "https://www.kaggle.com/burhanykiyakoglu/k-nn-logistic-regression-k-fold-cv-from-scratch/notebook\n",
    "\n",
    "https://stackoverflow.com/questions/7197315/5-maximum-values-in-a-python-dictionary\n",
    "\n",
    "https://stackoverflow.com/questions/29270917/removing-custom-stop-words-form-a-phrase-in-python\n",
    "\n",
    "https://medium.com/@sanjeethboddi/naive-bayes-algorithm-from-scratch-715d7cc0de53\n",
    "\n",
    "https://towardsdatascience.com/text-pre-processing-stop-words-removal-using-different-libraries-f20bac19929a\n",
    "\n"
   ]
  }
 ],
 "metadata": {
  "colab": {
   "collapsed_sections": [],
   "name": "nbc.ipynb",
   "provenance": []
  },
  "kernelspec": {
   "display_name": "Python 3",
   "language": "python",
   "name": "python3"
  },
  "language_info": {
   "codemirror_mode": {
    "name": "ipython",
    "version": 3
   },
   "file_extension": ".py",
   "mimetype": "text/x-python",
   "name": "python",
   "nbconvert_exporter": "python",
   "pygments_lexer": "ipython3",
   "version": "3.8.3"
  }
 },
 "nbformat": 4,
 "nbformat_minor": 1
}
